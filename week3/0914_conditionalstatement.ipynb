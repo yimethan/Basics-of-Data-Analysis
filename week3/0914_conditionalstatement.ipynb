{
 "cells": [
  {
   "cell_type": "markdown",
   "metadata": {},
   "source": [
    "# F-string"
   ]
  },
  {
   "cell_type": "code",
   "execution_count": 1,
   "metadata": {
    "collapsed": true,
    "jupyter": {
     "outputs_hidden": true
    },
    "tags": []
   },
   "outputs": [
    {
     "name": "stdout",
     "output_type": "stream",
     "text": [
      "iot 에 소속된 yim 님은, 22 세로 판명되어 서비스 이용이 가능합니다.\n"
     ]
    }
   ],
   "source": [
    "name = input(\"Input your name.\")\n",
    "age = int(input(\"Input your age.\"))\n",
    "affiliation = input(\"Input your affiliation.\")\n",
    "\n",
    "if age > 18:\n",
    "    print(affiliation, \"에 소속된\", name, \"님은,\", age, \"세로 판명되어 서비스 이용이 가능합니다.\")\n",
    "    # print(f\"{affiliation}에 소속된 {name}님은 {age}세로 판명되어 서비스 이용이 가능합니다.\")\n",
    "else:\n",
    "    print(affiliation, \"에 소속된\", name, \"님은,\", age, \"세로 판명되어 서비스 이용이 불가능합니다.\")\n",
    "    # print(f\"{affiliation}에 소속된 {name}님은 {age}세로 판명되어 서비스 이용이 가능합니다.\")\n",
    "\n"
   ]
  },
  {
   "cell_type": "markdown",
   "id": "90eebfe5",
   "metadata": {},
   "source": [
    "## R-string and printable representation"
   ]
  },
  {
   "cell_type": "markdown",
   "id": "b25bd132",
   "metadata": {},
   "source": [
    "- R-string: json, html과 같은 문서에서 특수문자나 태그등을 변환하지 않고 그대로 사용할 수 있음"
   ]
  },
  {
   "cell_type": "code",
   "execution_count": null,
   "id": "7d1321bd",
   "metadata": {},
   "outputs": [],
   "source": [
    "string = \"Hello World\"\n",
    "\n",
    "print(f\"String is {string}\")\n",
    "print(r\"String is {string}\")"
   ]
  },
  {
   "cell_type": "markdown",
   "id": "c8c37fca",
   "metadata": {},
   "source": [
    "- repr: "
   ]
  },
  {
   "cell_type": "code",
   "execution_count": null,
   "id": "da205079",
   "metadata": {},
   "outputs": [],
   "source": [
    "print(string)\n",
    "print(repr(string))"
   ]
  },
  {
   "cell_type": "code",
   "execution_count": null,
   "id": "ec393bad",
   "metadata": {},
   "outputs": [],
   "source": [
    "num_int = 100\n",
    "num_str = \"100\"\n",
    "\n",
    "print(f\"num_int is {num_int}\")\n",
    "print(f\"num_str is {num_str}\")\n",
    "\n",
    "print(f\"num_int by repr is {repr(num_int)}\")\n",
    "print(f\"num_str by repr is {repr(num_str)}\")"
   ]
  },
  {
   "cell_type": "markdown",
   "metadata": {},
   "source": [
    "# Conditional statement\n"
   ]
  },
  {
   "cell_type": "markdown",
   "metadata": {},
   "source": [
    "## IF-ELIF-ELSE statement"
   ]
  },
  {
   "cell_type": "code",
   "execution_count": null,
   "metadata": {},
   "outputs": [],
   "source": [
    "# score = int(input(\"Enter your score: \"))\n",
    "score = 79\n",
    "\n",
    "if score >= 90:\n",
    "    grade = 'A'\n",
    "if score >= 80:\n",
    "    grade = 'B'\n",
    "if score >= 70:\n",
    "    grade = 'C'\n",
    "if score >= 60:\n",
    "    grade = 'D'\n",
    "if score < 60:\n",
    "    grade = 'F'\n",
    "\n",
    "print(grade)"
   ]
  },
  {
   "cell_type": "code",
   "execution_count": null,
   "metadata": {
    "collapsed": true,
    "jupyter": {
     "outputs_hidden": true
    },
    "tags": []
   },
   "outputs": [],
   "source": [
    "myage = int(input(\"Tell me your age.\"))\n",
    "\n",
    "if myage < 30:\n",
    "    print(\"Welcome to this club!\")\n",
    "else:\n",
    "    print(\"You are not allowed to this club.\")"
   ]
  },
  {
   "cell_type": "markdown",
   "metadata": {},
   "source": [
    "## Static memory allocation"
   ]
  },
  {
   "cell_type": "code",
   "execution_count": null,
   "metadata": {},
   "outputs": [],
   "source": [
    "a = 1000\n",
    "b = 1000\n",
    "print(a == b)\n",
    "print(a is b)\n",
    "print(id(a) == id(b))\n",
    "\n",
    "c = 1\n",
    "d = 1\n",
    "print(c == d)\n",
    "print(c is d)\n",
    "print(id(c) == id(d))"
   ]
  },
  {
   "cell_type": "markdown",
   "metadata": {},
   "source": [
    "# Loop statement\n",
    "## FOR/WHILE statement"
   ]
  },
  {
   "cell_type": "code",
   "execution_count": null,
   "metadata": {},
   "outputs": [],
   "source": [
    "for ind in [1, 2, 3, 4, 5]:\n",
    "    print(ind)\n"
   ]
  },
  {
   "cell_type": "code",
   "execution_count": null,
   "metadata": {},
   "outputs": [],
   "source": [
    "for ind in range(1, 10):\n",
    "    print(ind)\n"
   ]
  },
  {
   "cell_type": "code",
   "execution_count": null,
   "metadata": {},
   "outputs": [],
   "source": [
    "for ind in \"SCH university\":\n",
    "    print(ind)\n"
   ]
  },
  {
   "cell_type": "code",
   "execution_count": null,
   "id": "406cbe38",
   "metadata": {},
   "outputs": [],
   "source": [
    "i = 0\n",
    "while i < 10:\n",
    "    print(i)\n",
    "    i += 1\n"
   ]
  },
  {
   "cell_type": "markdown",
   "id": "fb99a8e4",
   "metadata": {},
   "source": [
    "### break, continue, else"
   ]
  },
  {
   "cell_type": "code",
   "execution_count": null,
   "id": "67acdcb7",
   "metadata": {},
   "outputs": [],
   "source": [
    "for i in range(5):\n",
    "    print(i)\n",
    "    if i == 3:\n",
    "        break"
   ]
  },
  {
   "cell_type": "code",
   "execution_count": null,
   "id": "b5bce391",
   "metadata": {},
   "outputs": [],
   "source": [
    "for i in range(5):\n",
    "    if i == 3:\n",
    "        continue\n",
    "    print(i)"
   ]
  },
  {
   "cell_type": "markdown",
   "id": "cad89a8a",
   "metadata": {},
   "source": [
    "- DO NOT use else for loop statement"
   ]
  },
  {
   "cell_type": "code",
   "execution_count": null,
   "id": "b9d73889",
   "metadata": {},
   "outputs": [],
   "source": [
    "for i in range(5):\n",
    "    print(i)\n",
    "else:\n",
    "    print(\"done\")"
   ]
  },
  {
   "cell_type": "markdown",
   "id": "9c2ebfb4",
   "metadata": {},
   "source": [
    "### enumerate function"
   ]
  },
  {
   "cell_type": "code",
   "execution_count": null,
   "id": "309fb2a8",
   "metadata": {},
   "outputs": [],
   "source": [
    "for char in \"SCH university\":\n",
    "    print(char)"
   ]
  },
  {
   "cell_type": "code",
   "execution_count": null,
   "id": "2d6fb8b5",
   "metadata": {},
   "outputs": [],
   "source": [
    "for ind, char in enumerate(\"SCH university\"):\n",
    "    print(ind, char)"
   ]
  },
  {
   "cell_type": "code",
   "execution_count": null,
   "id": "36ebbd20",
   "metadata": {},
   "outputs": [],
   "source": [
    "flavor_list = [\"vanilla\", \"chocolate\", \"pecan\", \"strawberry\"]\n",
    "for flavor in flavor_list:\n",
    "    print(flavor)"
   ]
  },
  {
   "cell_type": "code",
   "execution_count": null,
   "id": "82511f18",
   "metadata": {},
   "outputs": [],
   "source": [
    "for i in range(len(flavor_list)):\n",
    "    flavor = flavor_list[i]\n",
    "    print(f\"{i + 1}: {flavor}\")"
   ]
  },
  {
   "cell_type": "markdown",
   "id": "fb9fa2f8",
   "metadata": {},
   "source": [
    "### enumerate: \"lazy generator\"\n",
    "https://docs.python.org/ko/3/library/functions.html#enumerate"
   ]
  },
  {
   "cell_type": "code",
   "execution_count": null,
   "id": "ba30d0a3",
   "metadata": {},
   "outputs": [],
   "source": [
    "for i, flavor in enumerate(flavor_list):\n",
    "    print(f\"{i + 1}: {flavor}\")"
   ]
  },
  {
   "cell_type": "code",
   "execution_count": null,
   "id": "9186bd5d",
   "metadata": {},
   "outputs": [],
   "source": [
    "for i, flavor in enumerate(flavor_list, 1):\n",
    "    print(f\"{i}: {flavor}\")"
   ]
  },
  {
   "cell_type": "markdown",
   "id": "61ddfd90",
   "metadata": {},
   "source": [
    "### iterator and generator\n",
    "- iterator: an object that continues to return the next value when calling the next() function."
   ]
  },
  {
   "cell_type": "code",
   "execution_count": null,
   "id": "a13d050e",
   "metadata": {},
   "outputs": [],
   "source": [
    "# For example, how is the entry of the following list allocated to the variable i for each iteration?\n",
    "\n",
    "for i in [1, 2, 3, 4]:\n",
    "    print(i)"
   ]
  },
  {
   "cell_type": "code",
   "execution_count": null,
   "id": "7d7d93e5",
   "metadata": {},
   "outputs": [],
   "source": [
    "a = [1, 2, 3, 4]\n",
    "next(a)"
   ]
  },
  {
   "cell_type": "code",
   "execution_count": null,
   "id": "a0261966",
   "metadata": {},
   "outputs": [],
   "source": [
    "a = [1, 2, 3, 4]\n",
    "it_a = iter(a)\n",
    "print(next(it_a))\n",
    "print(next(it_a))\n",
    "print(next(it_a))\n",
    "print(next(it_a))"
   ]
  },
  {
   "cell_type": "code",
   "execution_count": null,
   "id": "7543ca31",
   "metadata": {},
   "outputs": [],
   "source": [
    "it_enum = enumerate(flavor_list)\n",
    "print(next(it_enum))\n",
    "print(next(it_enum))\n",
    "print(next(it_enum))\n",
    "print(next(it_enum))"
   ]
  },
  {
   "cell_type": "markdown",
   "id": "0e6de53b",
   "metadata": {},
   "source": [
    "- generator: a function that creates an iterator."
   ]
  },
  {
   "cell_type": "code",
   "execution_count": null,
   "id": "5ef20579",
   "metadata": {},
   "outputs": [],
   "source": [
    "def test_generator():\n",
    "    yield 1\n",
    "    yield 2\n",
    "    yield 3\n",
    "\n",
    "gen = test_generator()\n",
    "print(next(gen))\n",
    "print(next(gen))\n",
    "print(next(gen))"
   ]
  },
  {
   "cell_type": "markdown",
   "id": "afa6153f",
   "metadata": {},
   "source": [
    "## Assignment expression (walrus operator)\n",
    "https://docs.python.org/3/faq/design.html#why-can-t-i-use-an-assignment-in-an-expression\n",
    "\n",
    "<img src=\"https://int-i.github.io/assets/posts/2020-05-29-python-walrus-operator/walrus.jpg\" width=\"300\" height=\"300\">"
   ]
  },
  {
   "cell_type": "code",
   "execution_count": null,
   "id": "28d34a8b",
   "metadata": {},
   "outputs": [],
   "source": [
    "a = [1, 2, 3, 4, 5, 6]\n",
    "n = len(a)\n",
    "if n > 5:\n",
    "    print(f\"List is too long ({n} elements, expected <= 5)\")"
   ]
  },
  {
   "cell_type": "code",
   "execution_count": null,
   "id": "59e2cce0",
   "metadata": {},
   "outputs": [],
   "source": [
    "a = [1, 2, 3, 4, 5, 6]\n",
    "if (n := len(a)) > 5:\n",
    "    print(f\"List is too long ({n} elements, expected <= 5)\")"
   ]
  },
  {
   "cell_type": "markdown",
   "id": "9fa56ac6",
   "metadata": {},
   "source": [
    "## Lab: 구구단 계산기"
   ]
  },
  {
   "cell_type": "code",
   "execution_count": null,
   "id": "bbc03f03",
   "metadata": {},
   "outputs": [],
   "source": []
  },
  {
   "cell_type": "markdown",
   "id": "b9e35c9f",
   "metadata": {},
   "source": [
    "## Lab: 문자열 역순 출력"
   ]
  },
  {
   "cell_type": "code",
   "execution_count": null,
   "id": "038c16e4",
   "metadata": {},
   "outputs": [],
   "source": []
  },
  {
   "cell_type": "markdown",
   "id": "a9551e32",
   "metadata": {},
   "source": [
    "## Lab: 야구게임\n",
    "```\n",
    "Num_a: 156, Num_b: 657\n",
    "1S 1B\n",
    "\n",
    "Num_a: 123, Num_b: 231\n",
    "0S 3B\n",
    "```"
   ]
  },
  {
   "cell_type": "code",
   "execution_count": null,
   "id": "9412ec69",
   "metadata": {},
   "outputs": [],
   "source": [
    "num_a = \"123\"\n",
    "num_b = \"231\"\n"
   ]
  },
  {
   "cell_type": "markdown",
   "id": "2e1acb25",
   "metadata": {},
   "source": [
    "## Lab: 서로소 여부 출력하기"
   ]
  },
  {
   "cell_type": "markdown",
   "id": "9428240e",
   "metadata": {},
   "source": [
    "```\n",
    "5 and 7 are coprime.\n",
    "\n",
    "12 and 16 are not coprime. GCD is 4.\n",
    "```"
   ]
  },
  {
   "cell_type": "code",
   "execution_count": null,
   "id": "4b7341a5",
   "metadata": {},
   "outputs": [],
   "source": []
  }
 ],
 "metadata": {
  "kernelspec": {
   "display_name": "Python 3.9.6 64-bit",
   "language": "python",
   "name": "python3"
  },
  "language_info": {
   "codemirror_mode": {
    "name": "ipython",
    "version": 3
   },
   "file_extension": ".py",
   "mimetype": "text/x-python",
   "name": "python",
   "nbconvert_exporter": "python",
   "pygments_lexer": "ipython3",
   "version": "3.9.7"
  },
  "vscode": {
   "interpreter": {
    "hash": "4ed7c5303468c6f42560d32e811323012438a4f036415de2c7ac2fb5dad5e44a"
   }
  }
 },
 "nbformat": 4,
 "nbformat_minor": 5
}
