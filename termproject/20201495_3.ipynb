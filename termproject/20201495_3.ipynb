{
 "cells": [
  {
   "cell_type": "code",
   "execution_count": 1,
   "outputs": [],
   "source": [
    "import pandas as pd"
   ],
   "metadata": {
    "collapsed": false,
    "ExecuteTime": {
     "end_time": "2023-12-15T05:06:39.325411Z",
     "start_time": "2023-12-15T05:06:38.911184Z"
    }
   },
   "id": "ca036ad5d59f40e6"
  },
  {
   "cell_type": "code",
   "execution_count": 2,
   "outputs": [],
   "source": [
    "df = pd.read_csv('job.csv')"
   ],
   "metadata": {
    "collapsed": false,
    "ExecuteTime": {
     "end_time": "2023-12-15T05:06:39.334478Z",
     "start_time": "2023-12-15T05:06:39.165168Z"
    }
   },
   "id": "51479dcf1a35f807"
  },
  {
   "cell_type": "code",
   "execution_count": 3,
   "outputs": [
    {
     "data": {
      "text/plain": "                             job_title  \\\n0       Business Development Associate   \n1     IELTS/PTE/Spoken English Trainer   \n2                     Fashion Designer   \n3            Corporate Sales Executive   \n4              Junior Python Developer   \n...                                ...   \n4591                     PHP Developer   \n4592                Software Developer   \n4593    Social Media Marketing Manager   \n4594                  Graphic Designer   \n4595         Digital Marketing Manager   \n\n                                   company_name   location  \\\n0                                Break The Code     Mumbai   \n1                  DePioneer Education Overseas      Delhi   \n2                              Valkyre Clothing     Mumbai   \n3     Kompass India Information Private Limited     Mumbai   \n4        Extension Technologies Private Limited  Faridabad   \n...                                         ...        ...   \n4591                                     Unnati    Gurgaon   \n4592                                     Unnati    Gurgaon   \n4593                                     Unnati      Delhi   \n4594                                     Unnati    Gurgaon   \n4595                                     Unnati      Delhi   \n\n              start_date                    ctc  experience  \\\n0     Starts Immediately  ₹ 2,00,000 - 3,00,000   0-1 years   \n1     Starts Immediately  ₹ 3,00,000 - 3,50,000   0-2 years   \n2     Starts Immediately  ₹ 3,00,000 - 3,50,000   0-2 years   \n3     Starts Immediately  ₹ 2,00,000 - 4,00,000   0-5 years   \n4     Starts Immediately  ₹ 2,40,000 - 3,60,000   0-2 years   \n...                  ...                    ...         ...   \n4591  Starts Immediately     Competitive salary   3-5 years   \n4592  Starts Immediately     Competitive salary  2-10 years   \n4593  Starts Immediately     Competitive salary   3-4 years   \n4594  Starts Immediately     Competitive salary   3-6 years   \n4595  Starts Immediately     Competitive salary   3-7 years   \n\n                                     posted  \n0                                3 days ago  \n1                                1 week ago  \n2     3 days ago\\n\\n\\nBe an early applicant  \n3                               3 weeks ago  \n4                               2 weeks ago  \n...                                     ...  \n4591                            3 weeks ago  \n4592                            3 weeks ago  \n4593                            3 weeks ago  \n4594                            3 weeks ago  \n4595                            3 weeks ago  \n\n[4596 rows x 7 columns]",
      "text/html": "<div>\n<style scoped>\n    .dataframe tbody tr th:only-of-type {\n        vertical-align: middle;\n    }\n\n    .dataframe tbody tr th {\n        vertical-align: top;\n    }\n\n    .dataframe thead th {\n        text-align: right;\n    }\n</style>\n<table border=\"1\" class=\"dataframe\">\n  <thead>\n    <tr style=\"text-align: right;\">\n      <th></th>\n      <th>job_title</th>\n      <th>company_name</th>\n      <th>location</th>\n      <th>start_date</th>\n      <th>ctc</th>\n      <th>experience</th>\n      <th>posted</th>\n    </tr>\n  </thead>\n  <tbody>\n    <tr>\n      <th>0</th>\n      <td>Business Development Associate</td>\n      <td>Break The Code</td>\n      <td>Mumbai</td>\n      <td>Starts Immediately</td>\n      <td>₹ 2,00,000 - 3,00,000</td>\n      <td>0-1 years</td>\n      <td>3 days ago</td>\n    </tr>\n    <tr>\n      <th>1</th>\n      <td>IELTS/PTE/Spoken English Trainer</td>\n      <td>DePioneer Education Overseas</td>\n      <td>Delhi</td>\n      <td>Starts Immediately</td>\n      <td>₹ 3,00,000 - 3,50,000</td>\n      <td>0-2 years</td>\n      <td>1 week ago</td>\n    </tr>\n    <tr>\n      <th>2</th>\n      <td>Fashion Designer</td>\n      <td>Valkyre Clothing</td>\n      <td>Mumbai</td>\n      <td>Starts Immediately</td>\n      <td>₹ 3,00,000 - 3,50,000</td>\n      <td>0-2 years</td>\n      <td>3 days ago\\n\\n\\nBe an early applicant</td>\n    </tr>\n    <tr>\n      <th>3</th>\n      <td>Corporate Sales Executive</td>\n      <td>Kompass India Information Private Limited</td>\n      <td>Mumbai</td>\n      <td>Starts Immediately</td>\n      <td>₹ 2,00,000 - 4,00,000</td>\n      <td>0-5 years</td>\n      <td>3 weeks ago</td>\n    </tr>\n    <tr>\n      <th>4</th>\n      <td>Junior Python Developer</td>\n      <td>Extension Technologies Private Limited</td>\n      <td>Faridabad</td>\n      <td>Starts Immediately</td>\n      <td>₹ 2,40,000 - 3,60,000</td>\n      <td>0-2 years</td>\n      <td>2 weeks ago</td>\n    </tr>\n    <tr>\n      <th>...</th>\n      <td>...</td>\n      <td>...</td>\n      <td>...</td>\n      <td>...</td>\n      <td>...</td>\n      <td>...</td>\n      <td>...</td>\n    </tr>\n    <tr>\n      <th>4591</th>\n      <td>PHP Developer</td>\n      <td>Unnati</td>\n      <td>Gurgaon</td>\n      <td>Starts Immediately</td>\n      <td>Competitive salary</td>\n      <td>3-5 years</td>\n      <td>3 weeks ago</td>\n    </tr>\n    <tr>\n      <th>4592</th>\n      <td>Software Developer</td>\n      <td>Unnati</td>\n      <td>Gurgaon</td>\n      <td>Starts Immediately</td>\n      <td>Competitive salary</td>\n      <td>2-10 years</td>\n      <td>3 weeks ago</td>\n    </tr>\n    <tr>\n      <th>4593</th>\n      <td>Social Media Marketing Manager</td>\n      <td>Unnati</td>\n      <td>Delhi</td>\n      <td>Starts Immediately</td>\n      <td>Competitive salary</td>\n      <td>3-4 years</td>\n      <td>3 weeks ago</td>\n    </tr>\n    <tr>\n      <th>4594</th>\n      <td>Graphic Designer</td>\n      <td>Unnati</td>\n      <td>Gurgaon</td>\n      <td>Starts Immediately</td>\n      <td>Competitive salary</td>\n      <td>3-6 years</td>\n      <td>3 weeks ago</td>\n    </tr>\n    <tr>\n      <th>4595</th>\n      <td>Digital Marketing Manager</td>\n      <td>Unnati</td>\n      <td>Delhi</td>\n      <td>Starts Immediately</td>\n      <td>Competitive salary</td>\n      <td>3-7 years</td>\n      <td>3 weeks ago</td>\n    </tr>\n  </tbody>\n</table>\n<p>4596 rows × 7 columns</p>\n</div>"
     },
     "execution_count": 3,
     "metadata": {},
     "output_type": "execute_result"
    }
   ],
   "source": [
    "df"
   ],
   "metadata": {
    "collapsed": false,
    "ExecuteTime": {
     "end_time": "2023-12-15T05:06:39.334869Z",
     "start_time": "2023-12-15T05:06:39.190541Z"
    }
   },
   "id": "df11493cdcdcba7c"
  },
  {
   "cell_type": "markdown",
   "source": [
    "+ job_title 직업명\n",
    "+ company_name 회사명\n",
    "+ location 회사 위치\n",
    "+ start_date 업무 시작일\n",
    "+ ctc 임금\n",
    "+ experience 경력\n",
    "+ posted 공고일"
   ],
   "metadata": {
    "collapsed": false
   },
   "id": "f347354c5731622a"
  },
  {
   "cell_type": "code",
   "execution_count": 4,
   "outputs": [
    {
     "name": "stdout",
     "output_type": "stream",
     "text": [
      "<class 'pandas.core.frame.DataFrame'>\n",
      "RangeIndex: 4596 entries, 0 to 4595\n",
      "Data columns (total 7 columns):\n",
      " #   Column        Non-Null Count  Dtype \n",
      "---  ------        --------------  ----- \n",
      " 0   job_title     4596 non-null   object\n",
      " 1   company_name  4596 non-null   object\n",
      " 2   location      4596 non-null   object\n",
      " 3   start_date    4596 non-null   object\n",
      " 4   ctc           4596 non-null   object\n",
      " 5   experience    4596 non-null   object\n",
      " 6   posted        4596 non-null   object\n",
      "dtypes: object(7)\n",
      "memory usage: 251.5+ KB\n"
     ]
    }
   ],
   "source": [
    "df.info()"
   ],
   "metadata": {
    "collapsed": false,
    "ExecuteTime": {
     "end_time": "2023-12-15T05:06:39.334951Z",
     "start_time": "2023-12-15T05:06:39.201661Z"
    }
   },
   "id": "9fa8f64ad3c71e03"
  },
  {
   "cell_type": "code",
   "execution_count": 5,
   "outputs": [
    {
     "data": {
      "text/plain": "                             job_title company_name        location  \\\ncount                             4596         4596            4596   \nunique                            1767         2876             583   \ntop     Business Development Executive   A1 Advance  Work from home   \nfreq                               290          141             791   \n\n                start_date                    ctc experience       posted  \ncount                 4596                   4596       4596         4596  \nunique                   1                    487         28           26  \ntop     Starts Immediately  ₹ 2,00,000 - 3,00,000  0-2 years  3 weeks ago  \nfreq                  4596                    520       2730         1326  ",
      "text/html": "<div>\n<style scoped>\n    .dataframe tbody tr th:only-of-type {\n        vertical-align: middle;\n    }\n\n    .dataframe tbody tr th {\n        vertical-align: top;\n    }\n\n    .dataframe thead th {\n        text-align: right;\n    }\n</style>\n<table border=\"1\" class=\"dataframe\">\n  <thead>\n    <tr style=\"text-align: right;\">\n      <th></th>\n      <th>job_title</th>\n      <th>company_name</th>\n      <th>location</th>\n      <th>start_date</th>\n      <th>ctc</th>\n      <th>experience</th>\n      <th>posted</th>\n    </tr>\n  </thead>\n  <tbody>\n    <tr>\n      <th>count</th>\n      <td>4596</td>\n      <td>4596</td>\n      <td>4596</td>\n      <td>4596</td>\n      <td>4596</td>\n      <td>4596</td>\n      <td>4596</td>\n    </tr>\n    <tr>\n      <th>unique</th>\n      <td>1767</td>\n      <td>2876</td>\n      <td>583</td>\n      <td>1</td>\n      <td>487</td>\n      <td>28</td>\n      <td>26</td>\n    </tr>\n    <tr>\n      <th>top</th>\n      <td>Business Development Executive</td>\n      <td>A1 Advance</td>\n      <td>Work from home</td>\n      <td>Starts Immediately</td>\n      <td>₹ 2,00,000 - 3,00,000</td>\n      <td>0-2 years</td>\n      <td>3 weeks ago</td>\n    </tr>\n    <tr>\n      <th>freq</th>\n      <td>290</td>\n      <td>141</td>\n      <td>791</td>\n      <td>4596</td>\n      <td>520</td>\n      <td>2730</td>\n      <td>1326</td>\n    </tr>\n  </tbody>\n</table>\n</div>"
     },
     "execution_count": 5,
     "metadata": {},
     "output_type": "execute_result"
    }
   ],
   "source": [
    "df.describe()"
   ],
   "metadata": {
    "collapsed": false,
    "ExecuteTime": {
     "end_time": "2023-12-15T05:06:39.335078Z",
     "start_time": "2023-12-15T05:06:39.208593Z"
    }
   },
   "id": "70737650f0339ceb"
  },
  {
   "cell_type": "code",
   "execution_count": 6,
   "outputs": [
    {
     "data": {
      "text/plain": "job_title       0\ncompany_name    0\nlocation        0\nstart_date      0\nctc             0\nexperience      0\nposted          0\ndtype: int64"
     },
     "execution_count": 6,
     "metadata": {},
     "output_type": "execute_result"
    }
   ],
   "source": [
    "df.isnull().sum()"
   ],
   "metadata": {
    "collapsed": false,
    "ExecuteTime": {
     "end_time": "2023-12-15T05:06:39.335159Z",
     "start_time": "2023-12-15T05:06:39.227118Z"
    }
   },
   "id": "96c4978642f979a3"
  },
  {
   "cell_type": "code",
   "execution_count": 7,
   "outputs": [
    {
     "data": {
      "text/plain": "94"
     },
     "execution_count": 7,
     "metadata": {},
     "output_type": "execute_result"
    }
   ],
   "source": [
    "df.duplicated().sum()"
   ],
   "metadata": {
    "collapsed": false,
    "ExecuteTime": {
     "end_time": "2023-12-15T05:06:39.335228Z",
     "start_time": "2023-12-15T05:06:39.229891Z"
    }
   },
   "id": "950525afdc9a9344"
  },
  {
   "cell_type": "code",
   "execution_count": 8,
   "outputs": [],
   "source": [
    "df = df.drop_duplicates()"
   ],
   "metadata": {
    "collapsed": false,
    "ExecuteTime": {
     "end_time": "2023-12-15T05:06:39.335263Z",
     "start_time": "2023-12-15T05:06:39.235550Z"
    }
   },
   "id": "b05984a128a02a6"
  },
  {
   "cell_type": "markdown",
   "source": [
    "+ 중복되는 행 제거"
   ],
   "metadata": {
    "collapsed": false
   },
   "id": "335f7cfc5b03e3dc"
  },
  {
   "cell_type": "markdown",
   "source": [
    "## 1) csv 파일을 Pandas DataFrame으로 받고, 회사가 많이 있는 도시를 내림차순으로 정렬해서 plotting하세요."
   ],
   "metadata": {
    "collapsed": false
   },
   "id": "96bc0d7425b83791"
  },
  {
   "cell_type": "code",
   "execution_count": 9,
   "outputs": [],
   "source": [
    "# TODO: 복수로 표기된 엔트리 처리"
   ],
   "metadata": {
    "collapsed": false,
    "ExecuteTime": {
     "end_time": "2023-12-15T05:06:39.335302Z",
     "start_time": "2023-12-15T05:06:39.242812Z"
    }
   },
   "id": "47d03758aad3578b"
  },
  {
   "cell_type": "code",
   "execution_count": 10,
   "outputs": [
    {
     "data": {
      "text/plain": "Work from home                                                                                                                                                              788\nMumbai                                                                                                                                                                      576\nBangalore                                                                                                                                                                   445\nDelhi                                                                                                                                                                       368\nNoida                                                                                                                                                                       234\n                                                                                                                                                                           ... \nAnantapur, Guntur, Kadapa, Kurnool, Madanapalle, Rajamahendravaram, Tenali, Vizianagaram, Proddatur, Nellore, Vijayawada, Ongole, Vishakhapatnam, Nandyala, Srikakulam        1\nOdhan                                                                                                                                                                         1\nSultanpur, Sitapur, Kushinagar, Kanpur Dehat, Delhi, Deoria, Gorakhpur, Jhansi, Lucknow                                                                                       1\nJaipura                                                                                                                                                                       1\nChennai, Coimbatore, Madurai, Nagapattinam, Sivakasi, Tirunelveli, Virudhunagar, Tenkasi, Thanjavur, Tiruvannamalai, Pudukkottai, Ariyalur, Salem, Tiruchipalli, Trichey      1\nName: location, Length: 583, dtype: int64"
     },
     "execution_count": 10,
     "metadata": {},
     "output_type": "execute_result"
    }
   ],
   "source": [
    "df['location'].value_counts()"
   ],
   "metadata": {
    "collapsed": false,
    "ExecuteTime": {
     "end_time": "2023-12-15T05:06:39.335412Z",
     "start_time": "2023-12-15T05:06:39.245418Z"
    }
   },
   "id": "611f4a38782cfae8"
  },
  {
   "cell_type": "code",
   "execution_count": 11,
   "outputs": [],
   "source": [
    "def split_location(data, location_column='location'):\n",
    "    new_rows = []\n",
    "\n",
    "    for index, row in data.iterrows():\n",
    "        locations = row[location_column].split(', ')\n",
    "        if len(locations) > 1:\n",
    "            for location in locations:\n",
    "                new_row = row.copy()\n",
    "                new_row[location_column] = location\n",
    "                new_rows.append(new_row)\n",
    "\n",
    "    data = pd.concat([data, pd.DataFrame(new_rows)], ignore_index=True)\n",
    "    data = data[data[location_column].str.contains(', ') == False]\n",
    "\n",
    "    return data"
   ],
   "metadata": {
    "collapsed": false,
    "ExecuteTime": {
     "end_time": "2023-12-15T05:06:39.335445Z",
     "start_time": "2023-12-15T05:06:39.252436Z"
    }
   },
   "id": "62b18c37c5626e3c"
  },
  {
   "cell_type": "markdown",
   "source": [
    "+ 여러 위치 한꺼번에 쓰여 있는 한 개의 행 -> 한 위치만 포함하는 여러 개의 행으로 분할"
   ],
   "metadata": {
    "collapsed": false
   },
   "id": "24932aaece86b02f"
  },
  {
   "cell_type": "code",
   "execution_count": 12,
   "outputs": [
    {
     "data": {
      "text/plain": "2790"
     },
     "execution_count": 12,
     "metadata": {},
     "output_type": "execute_result"
    }
   ],
   "source": [
    "sum(df['location'].str.count(', '))"
   ],
   "metadata": {
    "collapsed": false,
    "ExecuteTime": {
     "end_time": "2023-12-15T05:06:39.335522Z",
     "start_time": "2023-12-15T05:06:39.254692Z"
    }
   },
   "id": "e945eb291f0b7900"
  },
  {
   "cell_type": "markdown",
   "source": [
    "+ 모든 행에 포함된 총 쉼표의 개수 (split_location 함수 적용 시 추가돼야 하는 행의 개수)"
   ],
   "metadata": {
    "collapsed": false
   },
   "id": "8c88d1b01d0046f"
  },
  {
   "cell_type": "code",
   "execution_count": 13,
   "outputs": [],
   "source": [
    "df = split_location(df)"
   ],
   "metadata": {
    "collapsed": false,
    "ExecuteTime": {
     "end_time": "2023-12-15T05:06:39.573647Z",
     "start_time": "2023-12-15T05:06:39.270876Z"
    }
   },
   "id": "5a5c566348583d47"
  },
  {
   "cell_type": "code",
   "execution_count": 14,
   "outputs": [
    {
     "data": {
      "text/plain": "                             job_title  \\\n0       Business Development Associate   \n1     IELTS/PTE/Spoken English Trainer   \n2                     Fashion Designer   \n3            Corporate Sales Executive   \n4              Junior Python Developer   \n...                                ...   \n7813         Corporate Sales Executive   \n7814              Datastage Operations   \n7815              Datastage Operations   \n7816                 Applied Scientist   \n7817                 Applied Scientist   \n\n                                   company_name     location  \\\n0                                Break The Code       Mumbai   \n1                  DePioneer Education Overseas        Delhi   \n2                              Valkyre Clothing       Mumbai   \n3     Kompass India Information Private Limited       Mumbai   \n4        Extension Technologies Private Limited    Faridabad   \n...                                         ...          ...   \n7813                    Itech Ecommerce Company    Ahmedabad   \n7814                                   Teradata         Pune   \n7815                                   Teradata  Navi Mumbai   \n7816                                     Amazon    Bangalore   \n7817                                     Amazon       Mumbai   \n\n              start_date                    ctc experience  \\\n0     Starts Immediately  ₹ 2,00,000 - 3,00,000  0-1 years   \n1     Starts Immediately  ₹ 3,00,000 - 3,50,000  0-2 years   \n2     Starts Immediately  ₹ 3,00,000 - 3,50,000  0-2 years   \n3     Starts Immediately  ₹ 2,00,000 - 4,00,000  0-5 years   \n4     Starts Immediately  ₹ 2,40,000 - 3,60,000  0-2 years   \n...                  ...                    ...        ...   \n7813  Starts Immediately  ₹ 2,00,000 - 3,00,000  0-2 years   \n7814  Starts Immediately     Competitive salary  3-5 years   \n7815  Starts Immediately     Competitive salary  3-5 years   \n7816  Starts Immediately     Competitive salary  3-5 years   \n7817  Starts Immediately     Competitive salary  3-5 years   \n\n                                     posted  \n0                                3 days ago  \n1                                1 week ago  \n2     3 days ago\\n\\n\\nBe an early applicant  \n3                               3 weeks ago  \n4                               2 weeks ago  \n...                                     ...  \n7813                            3 weeks ago  \n7814                             1 week ago  \n7815                             1 week ago  \n7816                             1 week ago  \n7817                             1 week ago  \n\n[7292 rows x 7 columns]",
      "text/html": "<div>\n<style scoped>\n    .dataframe tbody tr th:only-of-type {\n        vertical-align: middle;\n    }\n\n    .dataframe tbody tr th {\n        vertical-align: top;\n    }\n\n    .dataframe thead th {\n        text-align: right;\n    }\n</style>\n<table border=\"1\" class=\"dataframe\">\n  <thead>\n    <tr style=\"text-align: right;\">\n      <th></th>\n      <th>job_title</th>\n      <th>company_name</th>\n      <th>location</th>\n      <th>start_date</th>\n      <th>ctc</th>\n      <th>experience</th>\n      <th>posted</th>\n    </tr>\n  </thead>\n  <tbody>\n    <tr>\n      <th>0</th>\n      <td>Business Development Associate</td>\n      <td>Break The Code</td>\n      <td>Mumbai</td>\n      <td>Starts Immediately</td>\n      <td>₹ 2,00,000 - 3,00,000</td>\n      <td>0-1 years</td>\n      <td>3 days ago</td>\n    </tr>\n    <tr>\n      <th>1</th>\n      <td>IELTS/PTE/Spoken English Trainer</td>\n      <td>DePioneer Education Overseas</td>\n      <td>Delhi</td>\n      <td>Starts Immediately</td>\n      <td>₹ 3,00,000 - 3,50,000</td>\n      <td>0-2 years</td>\n      <td>1 week ago</td>\n    </tr>\n    <tr>\n      <th>2</th>\n      <td>Fashion Designer</td>\n      <td>Valkyre Clothing</td>\n      <td>Mumbai</td>\n      <td>Starts Immediately</td>\n      <td>₹ 3,00,000 - 3,50,000</td>\n      <td>0-2 years</td>\n      <td>3 days ago\\n\\n\\nBe an early applicant</td>\n    </tr>\n    <tr>\n      <th>3</th>\n      <td>Corporate Sales Executive</td>\n      <td>Kompass India Information Private Limited</td>\n      <td>Mumbai</td>\n      <td>Starts Immediately</td>\n      <td>₹ 2,00,000 - 4,00,000</td>\n      <td>0-5 years</td>\n      <td>3 weeks ago</td>\n    </tr>\n    <tr>\n      <th>4</th>\n      <td>Junior Python Developer</td>\n      <td>Extension Technologies Private Limited</td>\n      <td>Faridabad</td>\n      <td>Starts Immediately</td>\n      <td>₹ 2,40,000 - 3,60,000</td>\n      <td>0-2 years</td>\n      <td>2 weeks ago</td>\n    </tr>\n    <tr>\n      <th>...</th>\n      <td>...</td>\n      <td>...</td>\n      <td>...</td>\n      <td>...</td>\n      <td>...</td>\n      <td>...</td>\n      <td>...</td>\n    </tr>\n    <tr>\n      <th>7813</th>\n      <td>Corporate Sales Executive</td>\n      <td>Itech Ecommerce Company</td>\n      <td>Ahmedabad</td>\n      <td>Starts Immediately</td>\n      <td>₹ 2,00,000 - 3,00,000</td>\n      <td>0-2 years</td>\n      <td>3 weeks ago</td>\n    </tr>\n    <tr>\n      <th>7814</th>\n      <td>Datastage Operations</td>\n      <td>Teradata</td>\n      <td>Pune</td>\n      <td>Starts Immediately</td>\n      <td>Competitive salary</td>\n      <td>3-5 years</td>\n      <td>1 week ago</td>\n    </tr>\n    <tr>\n      <th>7815</th>\n      <td>Datastage Operations</td>\n      <td>Teradata</td>\n      <td>Navi Mumbai</td>\n      <td>Starts Immediately</td>\n      <td>Competitive salary</td>\n      <td>3-5 years</td>\n      <td>1 week ago</td>\n    </tr>\n    <tr>\n      <th>7816</th>\n      <td>Applied Scientist</td>\n      <td>Amazon</td>\n      <td>Bangalore</td>\n      <td>Starts Immediately</td>\n      <td>Competitive salary</td>\n      <td>3-5 years</td>\n      <td>1 week ago</td>\n    </tr>\n    <tr>\n      <th>7817</th>\n      <td>Applied Scientist</td>\n      <td>Amazon</td>\n      <td>Mumbai</td>\n      <td>Starts Immediately</td>\n      <td>Competitive salary</td>\n      <td>3-5 years</td>\n      <td>1 week ago</td>\n    </tr>\n  </tbody>\n</table>\n<p>7292 rows × 7 columns</p>\n</div>"
     },
     "execution_count": 14,
     "metadata": {},
     "output_type": "execute_result"
    }
   ],
   "source": [
    "df"
   ],
   "metadata": {
    "collapsed": false,
    "ExecuteTime": {
     "end_time": "2023-12-15T05:06:39.582114Z",
     "start_time": "2023-12-15T05:06:39.579443Z"
    }
   },
   "id": "6b0153fa63f8655b"
  },
  {
   "cell_type": "code",
   "execution_count": 15,
   "outputs": [
    {
     "data": {
      "text/plain": "Work from home    788\nMumbai            716\nBangalore         558\nDelhi             524\nNoida             330\n                 ... \nAlandi              1\nMandoli             1\nThoubal             1\nYalahanka           1\nPanaji              1\nName: location, Length: 669, dtype: int64"
     },
     "execution_count": 15,
     "metadata": {},
     "output_type": "execute_result"
    }
   ],
   "source": [
    "df['location'].value_counts()"
   ],
   "metadata": {
    "collapsed": false,
    "ExecuteTime": {
     "end_time": "2023-12-15T05:06:39.587834Z",
     "start_time": "2023-12-15T05:06:39.582959Z"
    }
   },
   "id": "58ae7a11777fc49c"
  },
  {
   "cell_type": "code",
   "execution_count": 16,
   "outputs": [],
   "source": [
    "# TODO: 상위 20개의 도시에 대해서만 plotting"
   ],
   "metadata": {
    "collapsed": false,
    "ExecuteTime": {
     "end_time": "2023-12-15T05:06:39.589784Z",
     "start_time": "2023-12-15T05:06:39.586980Z"
    }
   },
   "id": "ebaeaf92330c2085"
  },
  {
   "cell_type": "code",
   "execution_count": 17,
   "outputs": [],
   "source": [
    "import matplotlib.pyplot as plt\n",
    "import numpy as np"
   ],
   "metadata": {
    "collapsed": false,
    "ExecuteTime": {
     "end_time": "2023-12-15T05:06:39.749084Z",
     "start_time": "2023-12-15T05:06:39.589173Z"
    }
   },
   "id": "55e42ff35dfc44d7"
  },
  {
   "cell_type": "code",
   "execution_count": 18,
   "outputs": [],
   "source": [
    "x = np.arange(1, 22)"
   ],
   "metadata": {
    "collapsed": false,
    "ExecuteTime": {
     "end_time": "2023-12-15T05:06:39.755172Z",
     "start_time": "2023-12-15T05:06:39.749760Z"
    }
   },
   "id": "661d1d24a1ea0a03"
  },
  {
   "cell_type": "code",
   "execution_count": 19,
   "outputs": [],
   "source": [
    "location_counts = df['location'].value_counts().iloc[1:22]"
   ],
   "metadata": {
    "collapsed": false,
    "ExecuteTime": {
     "end_time": "2023-12-15T05:06:39.755280Z",
     "start_time": "2023-12-15T05:06:39.753205Z"
    }
   },
   "id": "db3455e39c4938d7"
  },
  {
   "cell_type": "markdown",
   "source": [
    "+ 상위 2위부터 21위까지 회사 위치\n",
    "+ 상위 1위인 'Work from home'은 제외"
   ],
   "metadata": {
    "collapsed": false
   },
   "id": "666fc922aadaa996"
  },
  {
   "cell_type": "code",
   "execution_count": 20,
   "outputs": [
    {
     "data": {
      "text/plain": "<Figure size 1080x720 with 1 Axes>",
      "image/png": "[encoded data removed]"
     },
     "metadata": {
      "needs_background": "light"
     },
     "output_type": "display_data"
    }
   ],
   "source": [
    "plt.figure(figsize=(15, 10))\n",
    "bars = plt.bar(x, location_counts.values, color='pink', edgecolor='black')\n",
    "plt.xticks(x, location_counts.index, rotation=90)\n",
    "plt.xlabel('Location', fontsize=14, fontweight='bold')\n",
    "plt.ylabel('# Companies', fontsize=14, fontweight='bold')\n",
    "plt.title('Top 20 Locations', fontsize=14, fontweight='bold')\n",
    "\n",
    "for bar in bars:\n",
    "    height = bar.get_height()\n",
    "    plt.text(bar.get_x() + bar.get_width() / 2.0, height, '%d' % height, ha='center', va='bottom', size=12)\n",
    "    \n",
    "plt.text(0.87, 0.9, 'Work from home: 792', ha='center', va='center', size=12, transform=plt.gca().transAxes, bbox=dict(boxstyle='round', facecolor='pink'))\n",
    "    \n",
    "plt.show()"
   ],
   "metadata": {
    "collapsed": false,
    "ExecuteTime": {
     "end_time": "2023-12-15T05:06:39.991920Z",
     "start_time": "2023-12-15T05:06:39.768297Z"
    }
   },
   "id": "d04fc625bf0cf0e3"
  },
  {
   "cell_type": "markdown",
   "source": [
    "+ 제외한 Work from home은 따로 위에 표기\n",
    "+ Work from home 제외 상위 20위 도시 plotting"
   ],
   "metadata": {
    "collapsed": false
   },
   "id": "fd0235374b134dde"
  },
  {
   "cell_type": "markdown",
   "source": [
    "## 2) 평균 임금 best 10 & worst 10 직종 출력"
   ],
   "metadata": {
    "collapsed": false
   },
   "id": "cc34977f9dd3f59f"
  },
  {
   "cell_type": "code",
   "execution_count": 21,
   "outputs": [],
   "source": [
    "# TODO: 직종 별로 평균 임금을 계산하여 출력합니다."
   ],
   "metadata": {
    "collapsed": false,
    "ExecuteTime": {
     "end_time": "2023-12-15T05:06:39.998016Z",
     "start_time": "2023-12-15T05:06:39.991630Z"
    }
   },
   "id": "9454537a9fb7e0c4"
  },
  {
   "cell_type": "code",
   "execution_count": 22,
   "outputs": [
    {
     "data": {
      "text/plain": "                             job_title  \\\n0       Business Development Associate   \n1     IELTS/PTE/Spoken English Trainer   \n2                     Fashion Designer   \n3            Corporate Sales Executive   \n4              Junior Python Developer   \n...                                ...   \n7813         Corporate Sales Executive   \n7814              Datastage Operations   \n7815              Datastage Operations   \n7816                 Applied Scientist   \n7817                 Applied Scientist   \n\n                                   company_name     location  \\\n0                                Break The Code       Mumbai   \n1                  DePioneer Education Overseas        Delhi   \n2                              Valkyre Clothing       Mumbai   \n3     Kompass India Information Private Limited       Mumbai   \n4        Extension Technologies Private Limited    Faridabad   \n...                                         ...          ...   \n7813                    Itech Ecommerce Company    Ahmedabad   \n7814                                   Teradata         Pune   \n7815                                   Teradata  Navi Mumbai   \n7816                                     Amazon    Bangalore   \n7817                                     Amazon       Mumbai   \n\n              start_date                    ctc experience  \\\n0     Starts Immediately  ₹ 2,00,000 - 3,00,000  0-1 years   \n1     Starts Immediately  ₹ 3,00,000 - 3,50,000  0-2 years   \n2     Starts Immediately  ₹ 3,00,000 - 3,50,000  0-2 years   \n3     Starts Immediately  ₹ 2,00,000 - 4,00,000  0-5 years   \n4     Starts Immediately  ₹ 2,40,000 - 3,60,000  0-2 years   \n...                  ...                    ...        ...   \n7813  Starts Immediately  ₹ 2,00,000 - 3,00,000  0-2 years   \n7814  Starts Immediately     Competitive salary  3-5 years   \n7815  Starts Immediately     Competitive salary  3-5 years   \n7816  Starts Immediately     Competitive salary  3-5 years   \n7817  Starts Immediately     Competitive salary  3-5 years   \n\n                                     posted  \n0                                3 days ago  \n1                                1 week ago  \n2     3 days ago\\n\\n\\nBe an early applicant  \n3                               3 weeks ago  \n4                               2 weeks ago  \n...                                     ...  \n7813                            3 weeks ago  \n7814                             1 week ago  \n7815                             1 week ago  \n7816                             1 week ago  \n7817                             1 week ago  \n\n[7292 rows x 7 columns]",
      "text/html": "<div>\n<style scoped>\n    .dataframe tbody tr th:only-of-type {\n        vertical-align: middle;\n    }\n\n    .dataframe tbody tr th {\n        vertical-align: top;\n    }\n\n    .dataframe thead th {\n        text-align: right;\n    }\n</style>\n<table border=\"1\" class=\"dataframe\">\n  <thead>\n    <tr style=\"text-align: right;\">\n      <th></th>\n      <th>job_title</th>\n      <th>company_name</th>\n      <th>location</th>\n      <th>start_date</th>\n      <th>ctc</th>\n      <th>experience</th>\n      <th>posted</th>\n    </tr>\n  </thead>\n  <tbody>\n    <tr>\n      <th>0</th>\n      <td>Business Development Associate</td>\n      <td>Break The Code</td>\n      <td>Mumbai</td>\n      <td>Starts Immediately</td>\n      <td>₹ 2,00,000 - 3,00,000</td>\n      <td>0-1 years</td>\n      <td>3 days ago</td>\n    </tr>\n    <tr>\n      <th>1</th>\n      <td>IELTS/PTE/Spoken English Trainer</td>\n      <td>DePioneer Education Overseas</td>\n      <td>Delhi</td>\n      <td>Starts Immediately</td>\n      <td>₹ 3,00,000 - 3,50,000</td>\n      <td>0-2 years</td>\n      <td>1 week ago</td>\n    </tr>\n    <tr>\n      <th>2</th>\n      <td>Fashion Designer</td>\n      <td>Valkyre Clothing</td>\n      <td>Mumbai</td>\n      <td>Starts Immediately</td>\n      <td>₹ 3,00,000 - 3,50,000</td>\n      <td>0-2 years</td>\n      <td>3 days ago\\n\\n\\nBe an early applicant</td>\n    </tr>\n    <tr>\n      <th>3</th>\n      <td>Corporate Sales Executive</td>\n      <td>Kompass India Information Private Limited</td>\n      <td>Mumbai</td>\n      <td>Starts Immediately</td>\n      <td>₹ 2,00,000 - 4,00,000</td>\n      <td>0-5 years</td>\n      <td>3 weeks ago</td>\n    </tr>\n    <tr>\n      <th>4</th>\n      <td>Junior Python Developer</td>\n      <td>Extension Technologies Private Limited</td>\n      <td>Faridabad</td>\n      <td>Starts Immediately</td>\n      <td>₹ 2,40,000 - 3,60,000</td>\n      <td>0-2 years</td>\n      <td>2 weeks ago</td>\n    </tr>\n    <tr>\n      <th>...</th>\n      <td>...</td>\n      <td>...</td>\n      <td>...</td>\n      <td>...</td>\n      <td>...</td>\n      <td>...</td>\n      <td>...</td>\n    </tr>\n    <tr>\n      <th>7813</th>\n      <td>Corporate Sales Executive</td>\n      <td>Itech Ecommerce Company</td>\n      <td>Ahmedabad</td>\n      <td>Starts Immediately</td>\n      <td>₹ 2,00,000 - 3,00,000</td>\n      <td>0-2 years</td>\n      <td>3 weeks ago</td>\n    </tr>\n    <tr>\n      <th>7814</th>\n      <td>Datastage Operations</td>\n      <td>Teradata</td>\n      <td>Pune</td>\n      <td>Starts Immediately</td>\n      <td>Competitive salary</td>\n      <td>3-5 years</td>\n      <td>1 week ago</td>\n    </tr>\n    <tr>\n      <th>7815</th>\n      <td>Datastage Operations</td>\n      <td>Teradata</td>\n      <td>Navi Mumbai</td>\n      <td>Starts Immediately</td>\n      <td>Competitive salary</td>\n      <td>3-5 years</td>\n      <td>1 week ago</td>\n    </tr>\n    <tr>\n      <th>7816</th>\n      <td>Applied Scientist</td>\n      <td>Amazon</td>\n      <td>Bangalore</td>\n      <td>Starts Immediately</td>\n      <td>Competitive salary</td>\n      <td>3-5 years</td>\n      <td>1 week ago</td>\n    </tr>\n    <tr>\n      <th>7817</th>\n      <td>Applied Scientist</td>\n      <td>Amazon</td>\n      <td>Mumbai</td>\n      <td>Starts Immediately</td>\n      <td>Competitive salary</td>\n      <td>3-5 years</td>\n      <td>1 week ago</td>\n    </tr>\n  </tbody>\n</table>\n<p>7292 rows × 7 columns</p>\n</div>"
     },
     "execution_count": 22,
     "metadata": {},
     "output_type": "execute_result"
    }
   ],
   "source": [
    "df"
   ],
   "metadata": {
    "collapsed": false,
    "ExecuteTime": {
     "end_time": "2023-12-15T05:06:40.003700Z",
     "start_time": "2023-12-15T05:06:39.999841Z"
    }
   },
   "id": "a543c4f46e1841d6"
  },
  {
   "cell_type": "code",
   "execution_count": 23,
   "outputs": [
    {
     "data": {
      "text/plain": "₹ 4,00,000 - 6,00,000     1017\n₹ 2,00,000 - 3,00,000      687\n₹ 4,00,000 - 7,00,000      386\n₹ 2,00,000                 316\n₹ 2,00,000 - 2,50,000      297\n                          ... \n₹ 8,50,000                   1\n₹ 7,00,000 - 13,00,000       1\n₹ 2,50,000 - 4,75,000        1\n₹ 4,60,000 - 6,00,000        1\n₹ 3,20,000 - 3,20,001        1\nName: ctc, Length: 487, dtype: int64"
     },
     "execution_count": 23,
     "metadata": {},
     "output_type": "execute_result"
    }
   ],
   "source": [
    "df['ctc'].value_counts()"
   ],
   "metadata": {
    "collapsed": false,
    "ExecuteTime": {
     "end_time": "2023-12-15T05:06:40.006762Z",
     "start_time": "2023-12-15T05:06:40.003436Z"
    }
   },
   "id": "e6849b4b8beee2e4"
  },
  {
   "cell_type": "code",
   "execution_count": 24,
   "outputs": [
    {
     "data": {
      "text/plain": "                      job_title               company_name     location  \\\n3971             Java Developer  Leaguesol Private Limited    Hyderabad   \n3972             Java Developer  Leaguesol Private Limited    Bangalore   \n3977                 Accountant             Freshleaf Teas     Ludhiana   \n3978           Graphic Designer             Freshleaf Teas     Ludhiana   \n3990         Operations Manager              R3 Consultant       Mumbai   \n...                         ...                        ...          ...   \n4501  Digital Marketing Manager                     Unnati        Delhi   \n7814       Datastage Operations                   Teradata         Pune   \n7815       Datastage Operations                   Teradata  Navi Mumbai   \n7816          Applied Scientist                     Amazon    Bangalore   \n7817          Applied Scientist                     Amazon       Mumbai   \n\n              start_date                 ctc experience       posted  \n3971  Starts Immediately  Competitive salary  4-6 years    1 day ago  \n3972  Starts Immediately  Competitive salary  4-6 years    1 day ago  \n3977  Starts Immediately  Competitive salary  0-1 years    1 day ago  \n3978  Starts Immediately  Competitive salary  0-1 years    1 day ago  \n3990  Starts Immediately  Competitive salary  4-6 years   2 days ago  \n...                  ...                 ...        ...          ...  \n4501  Starts Immediately  Competitive salary  3-7 years  3 weeks ago  \n7814  Starts Immediately  Competitive salary  3-5 years   1 week ago  \n7815  Starts Immediately  Competitive salary  3-5 years   1 week ago  \n7816  Starts Immediately  Competitive salary  3-5 years   1 week ago  \n7817  Starts Immediately  Competitive salary  3-5 years   1 week ago  \n\n[172 rows x 7 columns]",
      "text/html": "<div>\n<style scoped>\n    .dataframe tbody tr th:only-of-type {\n        vertical-align: middle;\n    }\n\n    .dataframe tbody tr th {\n        vertical-align: top;\n    }\n\n    .dataframe thead th {\n        text-align: right;\n    }\n</style>\n<table border=\"1\" class=\"dataframe\">\n  <thead>\n    <tr style=\"text-align: right;\">\n      <th></th>\n      <th>job_title</th>\n      <th>company_name</th>\n      <th>location</th>\n      <th>start_date</th>\n      <th>ctc</th>\n      <th>experience</th>\n      <th>posted</th>\n    </tr>\n  </thead>\n  <tbody>\n    <tr>\n      <th>3971</th>\n      <td>Java Developer</td>\n      <td>Leaguesol Private Limited</td>\n      <td>Hyderabad</td>\n      <td>Starts Immediately</td>\n      <td>Competitive salary</td>\n      <td>4-6 years</td>\n      <td>1 day ago</td>\n    </tr>\n    <tr>\n      <th>3972</th>\n      <td>Java Developer</td>\n      <td>Leaguesol Private Limited</td>\n      <td>Bangalore</td>\n      <td>Starts Immediately</td>\n      <td>Competitive salary</td>\n      <td>4-6 years</td>\n      <td>1 day ago</td>\n    </tr>\n    <tr>\n      <th>3977</th>\n      <td>Accountant</td>\n      <td>Freshleaf Teas</td>\n      <td>Ludhiana</td>\n      <td>Starts Immediately</td>\n      <td>Competitive salary</td>\n      <td>0-1 years</td>\n      <td>1 day ago</td>\n    </tr>\n    <tr>\n      <th>3978</th>\n      <td>Graphic Designer</td>\n      <td>Freshleaf Teas</td>\n      <td>Ludhiana</td>\n      <td>Starts Immediately</td>\n      <td>Competitive salary</td>\n      <td>0-1 years</td>\n      <td>1 day ago</td>\n    </tr>\n    <tr>\n      <th>3990</th>\n      <td>Operations Manager</td>\n      <td>R3 Consultant</td>\n      <td>Mumbai</td>\n      <td>Starts Immediately</td>\n      <td>Competitive salary</td>\n      <td>4-6 years</td>\n      <td>2 days ago</td>\n    </tr>\n    <tr>\n      <th>...</th>\n      <td>...</td>\n      <td>...</td>\n      <td>...</td>\n      <td>...</td>\n      <td>...</td>\n      <td>...</td>\n      <td>...</td>\n    </tr>\n    <tr>\n      <th>4501</th>\n      <td>Digital Marketing Manager</td>\n      <td>Unnati</td>\n      <td>Delhi</td>\n      <td>Starts Immediately</td>\n      <td>Competitive salary</td>\n      <td>3-7 years</td>\n      <td>3 weeks ago</td>\n    </tr>\n    <tr>\n      <th>7814</th>\n      <td>Datastage Operations</td>\n      <td>Teradata</td>\n      <td>Pune</td>\n      <td>Starts Immediately</td>\n      <td>Competitive salary</td>\n      <td>3-5 years</td>\n      <td>1 week ago</td>\n    </tr>\n    <tr>\n      <th>7815</th>\n      <td>Datastage Operations</td>\n      <td>Teradata</td>\n      <td>Navi Mumbai</td>\n      <td>Starts Immediately</td>\n      <td>Competitive salary</td>\n      <td>3-5 years</td>\n      <td>1 week ago</td>\n    </tr>\n    <tr>\n      <th>7816</th>\n      <td>Applied Scientist</td>\n      <td>Amazon</td>\n      <td>Bangalore</td>\n      <td>Starts Immediately</td>\n      <td>Competitive salary</td>\n      <td>3-5 years</td>\n      <td>1 week ago</td>\n    </tr>\n    <tr>\n      <th>7817</th>\n      <td>Applied Scientist</td>\n      <td>Amazon</td>\n      <td>Mumbai</td>\n      <td>Starts Immediately</td>\n      <td>Competitive salary</td>\n      <td>3-5 years</td>\n      <td>1 week ago</td>\n    </tr>\n  </tbody>\n</table>\n<p>172 rows × 7 columns</p>\n</div>"
     },
     "execution_count": 24,
     "metadata": {},
     "output_type": "execute_result"
    }
   ],
   "source": [
    "df[df['ctc'] == 'Competitive salary']"
   ],
   "metadata": {
    "collapsed": false,
    "ExecuteTime": {
     "end_time": "2023-12-15T05:06:40.079699Z",
     "start_time": "2023-12-15T05:06:40.012655Z"
    }
   },
   "id": "f40fe643cafa54ad"
  },
  {
   "cell_type": "code",
   "execution_count": 25,
   "outputs": [],
   "source": [
    "jobs_cs = df[df['ctc'] == 'Competitive salary'].job_title"
   ],
   "metadata": {
    "collapsed": false,
    "ExecuteTime": {
     "end_time": "2023-12-15T05:06:40.079816Z",
     "start_time": "2023-12-15T05:06:40.016736Z"
    }
   },
   "id": "4add647ad76ceff"
  },
  {
   "cell_type": "code",
   "execution_count": 26,
   "outputs": [],
   "source": [
    "for job in jobs_cs:\n",
    "    df['ctc'] = df['ctc'].replace('Competitive salary', df[df['job_title'] == job]['ctc'].mode()[0])"
   ],
   "metadata": {
    "collapsed": false,
    "ExecuteTime": {
     "end_time": "2023-12-15T05:06:40.211147Z",
     "start_time": "2023-12-15T05:06:40.022043Z"
    }
   },
   "id": "c2332c49bc6ddc55"
  },
  {
   "cell_type": "markdown",
   "source": [
    "+ 'ctc'로 Competitive salary를 가진 행은 같은 직종의 'ctc' 최빈값으로 대체"
   ],
   "metadata": {
    "collapsed": false
   },
   "id": "f44bb6f2e70a7d00"
  },
  {
   "cell_type": "code",
   "execution_count": 27,
   "outputs": [
    {
     "data": {
      "text/plain": "Empty DataFrame\nColumns: [job_title, company_name, location, start_date, ctc, experience, posted]\nIndex: []",
      "text/html": "<div>\n<style scoped>\n    .dataframe tbody tr th:only-of-type {\n        vertical-align: middle;\n    }\n\n    .dataframe tbody tr th {\n        vertical-align: top;\n    }\n\n    .dataframe thead th {\n        text-align: right;\n    }\n</style>\n<table border=\"1\" class=\"dataframe\">\n  <thead>\n    <tr style=\"text-align: right;\">\n      <th></th>\n      <th>job_title</th>\n      <th>company_name</th>\n      <th>location</th>\n      <th>start_date</th>\n      <th>ctc</th>\n      <th>experience</th>\n      <th>posted</th>\n    </tr>\n  </thead>\n  <tbody>\n  </tbody>\n</table>\n</div>"
     },
     "execution_count": 27,
     "metadata": {},
     "output_type": "execute_result"
    }
   ],
   "source": [
    "df[df['ctc'] == 'Competitive salary']"
   ],
   "metadata": {
    "collapsed": false,
    "ExecuteTime": {
     "end_time": "2023-12-15T05:06:40.211532Z",
     "start_time": "2023-12-15T05:06:40.182822Z"
    }
   },
   "id": "115f8dca29083c85"
  },
  {
   "cell_type": "code",
   "execution_count": 28,
   "outputs": [
    {
     "data": {
      "text/plain": "job_title       Customer Success Associate\ncompany_name                 Vertex Cosmos\nlocation                            Jaipur\nstart_date              Starts Immediately\nctc                  ₹ 3,00,000 - 3,40,000\nexperience                       0-2 years\nposted                          3 days ago\nName: 4515, dtype: object"
     },
     "execution_count": 28,
     "metadata": {},
     "output_type": "execute_result"
    }
   ],
   "source": [
    "df.iloc[3989]"
   ],
   "metadata": {
    "collapsed": false,
    "ExecuteTime": {
     "end_time": "2023-12-15T05:06:40.211685Z",
     "start_time": "2023-12-15T05:06:40.187716Z"
    }
   },
   "id": "7ebfac01b79fdffb"
  },
  {
   "cell_type": "markdown",
   "source": [
    "+ 'ctc'가 Competitive salary인 행이 모두 대체된 것 확인"
   ],
   "metadata": {
    "collapsed": false
   },
   "id": "e4c94a7340b0c0c7"
  },
  {
   "cell_type": "code",
   "execution_count": 29,
   "outputs": [],
   "source": [
    "from currency_converter import CurrencyConverter\n",
    "\n",
    "c = CurrencyConverter()"
   ],
   "metadata": {
    "collapsed": false,
    "ExecuteTime": {
     "end_time": "2023-12-15T05:06:40.355824Z",
     "start_time": "2023-12-15T05:06:40.191021Z"
    }
   },
   "id": "57a7ad3b195a56e5"
  },
  {
   "cell_type": "code",
   "execution_count": 30,
   "outputs": [],
   "source": [
    "def convert_ctc(money):\n",
    "    if '₹' in money:\n",
    "        wages = money.replace('₹ ', '').replace(',', '').split(' - ')\n",
    "        if len(wages) == 2:\n",
    "            avg = (float(wages[0]) + float(wages[1])) / 2\n",
    "            return avg\n",
    "        elif len(wages) == 1:\n",
    "            avg = float(wages[0])\n",
    "        return c.convert(avg, 'INR', 'USD')\n",
    "    elif 'AED' in money:\n",
    "        return None"
   ],
   "metadata": {
    "collapsed": false,
    "ExecuteTime": {
     "end_time": "2023-12-15T05:06:40.361294Z",
     "start_time": "2023-12-15T05:06:40.357896Z"
    }
   },
   "id": "64ba0496807e58af"
  },
  {
   "cell_type": "markdown",
   "source": [
    "+ 'ctc'에서 '₹' 글자 제거\n",
    "+ 'ctc'로 범위값을 가진 행에 대해 최대 & 최소 임금의 평균으로 대체\n",
    "+ AED로 표기된 행은 None으로 대체"
   ],
   "metadata": {
    "collapsed": false
   },
   "id": "491ce012a2988def"
  },
  {
   "cell_type": "code",
   "execution_count": 31,
   "outputs": [],
   "source": [
    "df['new_ctc'] = df['ctc'].apply(convert_ctc)"
   ],
   "metadata": {
    "collapsed": false,
    "ExecuteTime": {
     "end_time": "2023-12-15T05:06:40.369946Z",
     "start_time": "2023-12-15T05:06:40.360558Z"
    }
   },
   "id": "85349122f772281d"
  },
  {
   "cell_type": "code",
   "execution_count": 32,
   "outputs": [
    {
     "data": {
      "text/plain": "                             job_title  \\\n0       Business Development Associate   \n1     IELTS/PTE/Spoken English Trainer   \n2                     Fashion Designer   \n3            Corporate Sales Executive   \n4              Junior Python Developer   \n...                                ...   \n7813         Corporate Sales Executive   \n7814              Datastage Operations   \n7815              Datastage Operations   \n7816                 Applied Scientist   \n7817                 Applied Scientist   \n\n                                   company_name     location  \\\n0                                Break The Code       Mumbai   \n1                  DePioneer Education Overseas        Delhi   \n2                              Valkyre Clothing       Mumbai   \n3     Kompass India Information Private Limited       Mumbai   \n4        Extension Technologies Private Limited    Faridabad   \n...                                         ...          ...   \n7813                    Itech Ecommerce Company    Ahmedabad   \n7814                                   Teradata         Pune   \n7815                                   Teradata  Navi Mumbai   \n7816                                     Amazon    Bangalore   \n7817                                     Amazon       Mumbai   \n\n              start_date                    ctc experience  \\\n0     Starts Immediately  ₹ 2,00,000 - 3,00,000  0-1 years   \n1     Starts Immediately  ₹ 3,00,000 - 3,50,000  0-2 years   \n2     Starts Immediately  ₹ 3,00,000 - 3,50,000  0-2 years   \n3     Starts Immediately  ₹ 2,00,000 - 4,00,000  0-5 years   \n4     Starts Immediately  ₹ 2,40,000 - 3,60,000  0-2 years   \n...                  ...                    ...        ...   \n7813  Starts Immediately  ₹ 2,00,000 - 3,00,000  0-2 years   \n7814  Starts Immediately  ₹ 2,00,000 - 3,00,000  3-5 years   \n7815  Starts Immediately  ₹ 2,00,000 - 3,00,000  3-5 years   \n7816  Starts Immediately  ₹ 2,00,000 - 3,00,000  3-5 years   \n7817  Starts Immediately  ₹ 2,00,000 - 3,00,000  3-5 years   \n\n                                     posted   new_ctc  \n0                                3 days ago  250000.0  \n1                                1 week ago  325000.0  \n2     3 days ago\\n\\n\\nBe an early applicant  325000.0  \n3                               3 weeks ago  300000.0  \n4                               2 weeks ago  300000.0  \n...                                     ...       ...  \n7813                            3 weeks ago  250000.0  \n7814                             1 week ago  250000.0  \n7815                             1 week ago  250000.0  \n7816                             1 week ago  250000.0  \n7817                             1 week ago  250000.0  \n\n[7292 rows x 8 columns]",
      "text/html": "<div>\n<style scoped>\n    .dataframe tbody tr th:only-of-type {\n        vertical-align: middle;\n    }\n\n    .dataframe tbody tr th {\n        vertical-align: top;\n    }\n\n    .dataframe thead th {\n        text-align: right;\n    }\n</style>\n<table border=\"1\" class=\"dataframe\">\n  <thead>\n    <tr style=\"text-align: right;\">\n      <th></th>\n      <th>job_title</th>\n      <th>company_name</th>\n      <th>location</th>\n      <th>start_date</th>\n      <th>ctc</th>\n      <th>experience</th>\n      <th>posted</th>\n      <th>new_ctc</th>\n    </tr>\n  </thead>\n  <tbody>\n    <tr>\n      <th>0</th>\n      <td>Business Development Associate</td>\n      <td>Break The Code</td>\n      <td>Mumbai</td>\n      <td>Starts Immediately</td>\n      <td>₹ 2,00,000 - 3,00,000</td>\n      <td>0-1 years</td>\n      <td>3 days ago</td>\n      <td>250000.0</td>\n    </tr>\n    <tr>\n      <th>1</th>\n      <td>IELTS/PTE/Spoken English Trainer</td>\n      <td>DePioneer Education Overseas</td>\n      <td>Delhi</td>\n      <td>Starts Immediately</td>\n      <td>₹ 3,00,000 - 3,50,000</td>\n      <td>0-2 years</td>\n      <td>1 week ago</td>\n      <td>325000.0</td>\n    </tr>\n    <tr>\n      <th>2</th>\n      <td>Fashion Designer</td>\n      <td>Valkyre Clothing</td>\n      <td>Mumbai</td>\n      <td>Starts Immediately</td>\n      <td>₹ 3,00,000 - 3,50,000</td>\n      <td>0-2 years</td>\n      <td>3 days ago\\n\\n\\nBe an early applicant</td>\n      <td>325000.0</td>\n    </tr>\n    <tr>\n      <th>3</th>\n      <td>Corporate Sales Executive</td>\n      <td>Kompass India Information Private Limited</td>\n      <td>Mumbai</td>\n      <td>Starts Immediately</td>\n      <td>₹ 2,00,000 - 4,00,000</td>\n      <td>0-5 years</td>\n      <td>3 weeks ago</td>\n      <td>300000.0</td>\n    </tr>\n    <tr>\n      <th>4</th>\n      <td>Junior Python Developer</td>\n      <td>Extension Technologies Private Limited</td>\n      <td>Faridabad</td>\n      <td>Starts Immediately</td>\n      <td>₹ 2,40,000 - 3,60,000</td>\n      <td>0-2 years</td>\n      <td>2 weeks ago</td>\n      <td>300000.0</td>\n    </tr>\n    <tr>\n      <th>...</th>\n      <td>...</td>\n      <td>...</td>\n      <td>...</td>\n      <td>...</td>\n      <td>...</td>\n      <td>...</td>\n      <td>...</td>\n      <td>...</td>\n    </tr>\n    <tr>\n      <th>7813</th>\n      <td>Corporate Sales Executive</td>\n      <td>Itech Ecommerce Company</td>\n      <td>Ahmedabad</td>\n      <td>Starts Immediately</td>\n      <td>₹ 2,00,000 - 3,00,000</td>\n      <td>0-2 years</td>\n      <td>3 weeks ago</td>\n      <td>250000.0</td>\n    </tr>\n    <tr>\n      <th>7814</th>\n      <td>Datastage Operations</td>\n      <td>Teradata</td>\n      <td>Pune</td>\n      <td>Starts Immediately</td>\n      <td>₹ 2,00,000 - 3,00,000</td>\n      <td>3-5 years</td>\n      <td>1 week ago</td>\n      <td>250000.0</td>\n    </tr>\n    <tr>\n      <th>7815</th>\n      <td>Datastage Operations</td>\n      <td>Teradata</td>\n      <td>Navi Mumbai</td>\n      <td>Starts Immediately</td>\n      <td>₹ 2,00,000 - 3,00,000</td>\n      <td>3-5 years</td>\n      <td>1 week ago</td>\n      <td>250000.0</td>\n    </tr>\n    <tr>\n      <th>7816</th>\n      <td>Applied Scientist</td>\n      <td>Amazon</td>\n      <td>Bangalore</td>\n      <td>Starts Immediately</td>\n      <td>₹ 2,00,000 - 3,00,000</td>\n      <td>3-5 years</td>\n      <td>1 week ago</td>\n      <td>250000.0</td>\n    </tr>\n    <tr>\n      <th>7817</th>\n      <td>Applied Scientist</td>\n      <td>Amazon</td>\n      <td>Mumbai</td>\n      <td>Starts Immediately</td>\n      <td>₹ 2,00,000 - 3,00,000</td>\n      <td>3-5 years</td>\n      <td>1 week ago</td>\n      <td>250000.0</td>\n    </tr>\n  </tbody>\n</table>\n<p>7292 rows × 8 columns</p>\n</div>"
     },
     "execution_count": 32,
     "metadata": {},
     "output_type": "execute_result"
    }
   ],
   "source": [
    "df"
   ],
   "metadata": {
    "collapsed": false,
    "ExecuteTime": {
     "end_time": "2023-12-15T05:06:40.388495Z",
     "start_time": "2023-12-15T05:06:40.378358Z"
    }
   },
   "id": "6475ee47af315abe"
  },
  {
   "cell_type": "code",
   "execution_count": 33,
   "outputs": [],
   "source": [
    "temp_df = df[df['new_ctc'].isnull() == False]"
   ],
   "metadata": {
    "collapsed": false,
    "ExecuteTime": {
     "end_time": "2023-12-15T05:06:40.388854Z",
     "start_time": "2023-12-15T05:06:40.381923Z"
    }
   },
   "id": "e30eb7c865ccc3c4"
  },
  {
   "cell_type": "markdown",
   "source": [
    "+ 'new_ctc'가 None인 행 제거된 임시 DataFrame 생성"
   ],
   "metadata": {
    "collapsed": false
   },
   "id": "768b361ae99929f"
  },
  {
   "cell_type": "code",
   "execution_count": 34,
   "outputs": [
    {
     "data": {
      "text/plain": "job_title\n.NET Developer                                 360000.00000\n2D Animator                                    220000.00000\n3D Animator                                    250000.00000\n3D Animator In Blender (Medical Animations)    350000.00000\n3D Designer                                    350000.00000\n                                                   ...     \nWordPress Developer                            303818.28206\nWorkshop Trainer                               225000.00000\nYouTube Influencer                             375000.00000\nZonal Assistant Manager- Logistics             380000.00000\niOS App Developer                              192001.10266\nName: new_ctc, Length: 1764, dtype: float64"
     },
     "execution_count": 34,
     "metadata": {},
     "output_type": "execute_result"
    }
   ],
   "source": [
    "mean_ctc = temp_df.groupby('job_title')['new_ctc'].mean()\n",
    "mean_ctc"
   ],
   "metadata": {
    "collapsed": false,
    "ExecuteTime": {
     "end_time": "2023-12-15T05:06:40.391457Z",
     "start_time": "2023-12-15T05:06:40.385801Z"
    }
   },
   "id": "5dde5f446e558519"
  },
  {
   "cell_type": "code",
   "execution_count": 35,
   "outputs": [
    {
     "data": {
      "text/plain": "job_title\nAzure Solutions Architect Expert     3.500000e+06\nFull Stack ( React + Python )        2.500000e+06\nSenior Architect                     2.260000e+06\nAVP - HR                             1.700000e+06\nSenior Web Developer                 1.638000e+06\nChief Monetization Officer           1.500000e+06\nSenior DevOps Engineer               1.400000e+06\nSales Executive - Enterprise SaaS    1.350000e+06\nSenior Backend Developer             1.325000e+06\nNetwork Engineer                     1.258100e+06\nName: new_ctc, dtype: float64"
     },
     "execution_count": 35,
     "metadata": {},
     "output_type": "execute_result"
    }
   ],
   "source": [
    "top_10 = mean_ctc.sort_values(ascending=False).head(10)\n",
    "top_10"
   ],
   "metadata": {
    "collapsed": false,
    "ExecuteTime": {
     "end_time": "2023-12-15T05:06:40.399405Z",
     "start_time": "2023-12-15T05:06:40.391011Z"
    }
   },
   "id": "fe28b2194edd0d51"
  },
  {
   "cell_type": "code",
   "execution_count": 36,
   "outputs": [
    {
     "data": {
      "text/plain": "<Figure size 864x576 with 1 Axes>",
      "image/png": "[encoded data removed]"
     },
     "metadata": {
      "needs_background": "light"
     },
     "output_type": "display_data"
    }
   ],
   "source": [
    "plt.figure(figsize=(12, 8))\n",
    "bars = plt.bar(top_10.index, top_10.values, color='pink', edgecolor='black', width=0.6)\n",
    "plt.xticks(rotation=90)\n",
    "plt.xlabel('Job Title', fontsize=14, fontweight='bold')\n",
    "plt.ylabel('Average Salary (USD)', fontsize=14, fontweight='bold')\n",
    "plt.title('Top 10 Job Titles', fontsize=14, fontweight='bold')\n",
    "\n",
    "for bar in bars:\n",
    "    height = bar.get_height()\n",
    "    plt.text(bar.get_x() + bar.get_width() / 2.0, height, '%.2f' % height, ha='center', va='bottom', size=10)\n",
    "    \n",
    "plt.show()"
   ],
   "metadata": {
    "collapsed": false,
    "ExecuteTime": {
     "end_time": "2023-12-15T05:06:40.532616Z",
     "start_time": "2023-12-15T05:06:40.398745Z"
    }
   },
   "id": "2a105f271bfb7678"
  },
  {
   "cell_type": "markdown",
   "source": [
    "+ 평균 임금이 높은 상위 10개 직종"
   ],
   "metadata": {
    "collapsed": false
   },
   "id": "1915588469d1024"
  },
  {
   "cell_type": "code",
   "execution_count": 37,
   "outputs": [
    {
     "data": {
      "text/plain": "job_title\nShopify And Wordpress Developer                    2401.323192\nSocial Media Account Handler                       2401.323192\nTellercaller                                       2401.323192\nContent Developer (Professional Community)         2401.323192\nReachOut Communication Executive                   2401.323192\nRESERVATION EXECUTIVE MANAGER                      2401.323192\nQuality Engineer                                   2401.323192\nTelemarketer                                       2401.323192\nCommissioning Engineer                             2401.323192\nExperience Curator - Travel And Tourism (Sales)    2401.323192\nName: new_ctc, dtype: float64"
     },
     "execution_count": 37,
     "metadata": {},
     "output_type": "execute_result"
    }
   ],
   "source": [
    "bottom_10 = mean_ctc.sort_values(ascending=False).tail(10)\n",
    "bottom_10"
   ],
   "metadata": {
    "collapsed": false,
    "ExecuteTime": {
     "end_time": "2023-12-15T05:06:40.537496Z",
     "start_time": "2023-12-15T05:06:40.532553Z"
    }
   },
   "id": "5cecc5a497a4e4c6"
  },
  {
   "cell_type": "code",
   "execution_count": 38,
   "outputs": [
    {
     "data": {
      "text/plain": "<Figure size 864x576 with 1 Axes>",
      "image/png": "[encoded data removed]"
     },
     "metadata": {
      "needs_background": "light"
     },
     "output_type": "display_data"
    }
   ],
   "source": [
    "plt.figure(figsize=(12, 8))\n",
    "bars = plt.bar(bottom_10.index, bottom_10.values, color='pink', edgecolor='black')\n",
    "plt.xticks(rotation=90)\n",
    "plt.xlabel('Job Title', fontsize=14, fontweight='bold')\n",
    "plt.ylabel('Average Salary (USD)', fontsize=14, fontweight='bold')\n",
    "plt.title('Bottom 10 Job Titles', fontsize=14, fontweight='bold')\n",
    "\n",
    "for bar in bars:\n",
    "    height = bar.get_height()\n",
    "    plt.text(bar.get_x() + bar.get_width() / 2.0, height, '%.2f' % height, ha='center', va='bottom', size=10)\n",
    "\n",
    "plt.show()"
   ],
   "metadata": {
    "collapsed": false,
    "ExecuteTime": {
     "end_time": "2023-12-15T05:06:40.672137Z",
     "start_time": "2023-12-15T05:06:40.544972Z"
    }
   },
   "id": "1996ba685b00c6f7"
  },
  {
   "cell_type": "markdown",
   "source": [
    "+ 평균 임금이 낮은 하위 10개 직종"
   ],
   "metadata": {
    "collapsed": false
   },
   "id": "6edb7d210561ed87"
  },
  {
   "cell_type": "markdown",
   "source": [
    "## 3) 경력 별 평균 임금 출력"
   ],
   "metadata": {
    "collapsed": false
   },
   "id": "c6b6807c46a6ba7"
  },
  {
   "cell_type": "code",
   "execution_count": 39,
   "outputs": [],
   "source": [
    "# TODO: 경력 별로 평균 임금을 계산하여 출력"
   ],
   "metadata": {
    "collapsed": false,
    "ExecuteTime": {
     "end_time": "2023-12-15T05:06:40.676774Z",
     "start_time": "2023-12-15T05:06:40.672343Z"
    }
   },
   "id": "da35c5c9fd1c5b23"
  },
  {
   "cell_type": "code",
   "execution_count": 40,
   "outputs": [
    {
     "data": {
      "text/plain": "0-2 years      3572\n0-5 years      2021\n0-1 years       795\n1-3 years       291\n4-6 years       148\n0-3 years        72\n1-2 years        71\n2-5 years        52\n1-5 years        45\n3-5 years        40\n0 years          37\n7-10 years       34\n4-5 years        19\n2-4 years        16\n1 year           15\n1-4 years        13\n0-4 years        11\n2 years          10\n2-3 years         9\n10-15 years       8\n4 years           3\n3-4 years         3\n3 years           2\n6-10 years        1\n5-7 years         1\n2-10 years        1\n3-7 years         1\n3-6 years         1\nName: experience, dtype: int64"
     },
     "execution_count": 40,
     "metadata": {},
     "output_type": "execute_result"
    }
   ],
   "source": [
    "df['experience'].value_counts()"
   ],
   "metadata": {
    "collapsed": false,
    "ExecuteTime": {
     "end_time": "2023-12-15T05:06:40.678986Z",
     "start_time": "2023-12-15T05:06:40.676407Z"
    }
   },
   "id": "c8a11fab49f405f5"
  },
  {
   "cell_type": "code",
   "execution_count": 41,
   "outputs": [
    {
     "data": {
      "text/plain": "experience\n0 years        2.741182e+05\n0-1 years      4.976135e+05\n0-2 years      2.373022e+05\n0-3 years      3.380667e+05\n0-4 years      3.253182e+05\n0-5 years      5.087813e+05\n1 year         3.440000e+05\n1-2 years      3.021410e+05\n1-3 years      4.372022e+05\n1-4 years      4.411538e+05\n1-5 years      4.221023e+05\n10-15 years    1.237500e+06\n2 years        4.972007e+05\n2-10 years     2.500000e+05\n2-3 years      3.742500e+05\n2-4 years      3.129502e+05\n2-5 years      4.438654e+05\n3 years        6.000000e+05\n3-4 years      1.688679e+05\n3-5 years      3.287751e+05\n3-6 years      2.500000e+05\n3-7 years      2.500000e+05\n4 years        1.000000e+06\n4-5 years      3.576844e+05\n4-6 years      6.728243e+05\n5-7 years      2.500000e+05\n6-10 years     2.500000e+05\n7-10 years     9.811765e+05\nName: new_ctc, dtype: float64"
     },
     "execution_count": 41,
     "metadata": {},
     "output_type": "execute_result"
    }
   ],
   "source": [
    "mean_ctc = df.groupby('experience')['new_ctc'].mean()\n",
    "mean_ctc"
   ],
   "metadata": {
    "collapsed": false,
    "ExecuteTime": {
     "end_time": "2023-12-15T05:06:40.684189Z",
     "start_time": "2023-12-15T05:06:40.679274Z"
    }
   },
   "id": "4f04b3bafe4ff579"
  },
  {
   "cell_type": "code",
   "execution_count": 42,
   "outputs": [
    {
     "data": {
      "text/plain": "<Figure size 2160x576 with 1 Axes>",
      "image/png": "[encoded data removed]"
     },
     "metadata": {
      "needs_background": "light"
     },
     "output_type": "display_data"
    }
   ],
   "source": [
    "plt.figure(figsize=(30, 8))\n",
    "plt.bar(mean_ctc.index, mean_ctc.values, color='pink', edgecolor='black')\n",
    "plt.xticks(rotation=90)\n",
    "plt.xlabel('Experience', fontsize=14, fontweight='bold')\n",
    "plt.ylabel('Average Salary (USD)', fontsize=14, fontweight='bold')\n",
    "plt.title('Average Salary by Experience', fontsize=14, fontweight='bold')\n",
    "\n",
    "for i, v in enumerate(mean_ctc.values):\n",
    "    plt.text(i, v, '%.2f' % v, ha='center', va='bottom', size=10)\n",
    "\n",
    "plt.show()"
   ],
   "metadata": {
    "collapsed": false,
    "ExecuteTime": {
     "end_time": "2023-12-15T05:06:40.965774Z",
     "start_time": "2023-12-15T05:06:40.686524Z"
    }
   },
   "id": "27543bc997fe1930"
  },
  {
   "cell_type": "code",
   "execution_count": null,
   "outputs": [],
   "source": [
    "# TODO: csv parsing 오류 처리 (e.g., \"Be an early applicant\" 등)"
   ],
   "metadata": {
    "collapsed": false
   },
   "id": "b05eeb8e52a5e251"
  },
  {
   "cell_type": "code",
   "execution_count": 43,
   "outputs": [
    {
     "data": {
      "text/plain": "                             job_title  \\\n0       Business Development Associate   \n1     IELTS/PTE/Spoken English Trainer   \n2                     Fashion Designer   \n3            Corporate Sales Executive   \n4              Junior Python Developer   \n...                                ...   \n7813         Corporate Sales Executive   \n7814              Datastage Operations   \n7815              Datastage Operations   \n7816                 Applied Scientist   \n7817                 Applied Scientist   \n\n                                   company_name     location  \\\n0                                Break The Code       Mumbai   \n1                  DePioneer Education Overseas        Delhi   \n2                              Valkyre Clothing       Mumbai   \n3     Kompass India Information Private Limited       Mumbai   \n4        Extension Technologies Private Limited    Faridabad   \n...                                         ...          ...   \n7813                    Itech Ecommerce Company    Ahmedabad   \n7814                                   Teradata         Pune   \n7815                                   Teradata  Navi Mumbai   \n7816                                     Amazon    Bangalore   \n7817                                     Amazon       Mumbai   \n\n              start_date                    ctc experience  \\\n0     Starts Immediately  ₹ 2,00,000 - 3,00,000  0-1 years   \n1     Starts Immediately  ₹ 3,00,000 - 3,50,000  0-2 years   \n2     Starts Immediately  ₹ 3,00,000 - 3,50,000  0-2 years   \n3     Starts Immediately  ₹ 2,00,000 - 4,00,000  0-5 years   \n4     Starts Immediately  ₹ 2,40,000 - 3,60,000  0-2 years   \n...                  ...                    ...        ...   \n7813  Starts Immediately  ₹ 2,00,000 - 3,00,000  0-2 years   \n7814  Starts Immediately  ₹ 2,00,000 - 3,00,000  3-5 years   \n7815  Starts Immediately  ₹ 2,00,000 - 3,00,000  3-5 years   \n7816  Starts Immediately  ₹ 2,00,000 - 3,00,000  3-5 years   \n7817  Starts Immediately  ₹ 2,00,000 - 3,00,000  3-5 years   \n\n                                     posted   new_ctc  \n0                                3 days ago  250000.0  \n1                                1 week ago  325000.0  \n2     3 days ago\\n\\n\\nBe an early applicant  325000.0  \n3                               3 weeks ago  300000.0  \n4                               2 weeks ago  300000.0  \n...                                     ...       ...  \n7813                            3 weeks ago  250000.0  \n7814                             1 week ago  250000.0  \n7815                             1 week ago  250000.0  \n7816                             1 week ago  250000.0  \n7817                             1 week ago  250000.0  \n\n[7292 rows x 8 columns]",
      "text/html": "<div>\n<style scoped>\n    .dataframe tbody tr th:only-of-type {\n        vertical-align: middle;\n    }\n\n    .dataframe tbody tr th {\n        vertical-align: top;\n    }\n\n    .dataframe thead th {\n        text-align: right;\n    }\n</style>\n<table border=\"1\" class=\"dataframe\">\n  <thead>\n    <tr style=\"text-align: right;\">\n      <th></th>\n      <th>job_title</th>\n      <th>company_name</th>\n      <th>location</th>\n      <th>start_date</th>\n      <th>ctc</th>\n      <th>experience</th>\n      <th>posted</th>\n      <th>new_ctc</th>\n    </tr>\n  </thead>\n  <tbody>\n    <tr>\n      <th>0</th>\n      <td>Business Development Associate</td>\n      <td>Break The Code</td>\n      <td>Mumbai</td>\n      <td>Starts Immediately</td>\n      <td>₹ 2,00,000 - 3,00,000</td>\n      <td>0-1 years</td>\n      <td>3 days ago</td>\n      <td>250000.0</td>\n    </tr>\n    <tr>\n      <th>1</th>\n      <td>IELTS/PTE/Spoken English Trainer</td>\n      <td>DePioneer Education Overseas</td>\n      <td>Delhi</td>\n      <td>Starts Immediately</td>\n      <td>₹ 3,00,000 - 3,50,000</td>\n      <td>0-2 years</td>\n      <td>1 week ago</td>\n      <td>325000.0</td>\n    </tr>\n    <tr>\n      <th>2</th>\n      <td>Fashion Designer</td>\n      <td>Valkyre Clothing</td>\n      <td>Mumbai</td>\n      <td>Starts Immediately</td>\n      <td>₹ 3,00,000 - 3,50,000</td>\n      <td>0-2 years</td>\n      <td>3 days ago\\n\\n\\nBe an early applicant</td>\n      <td>325000.0</td>\n    </tr>\n    <tr>\n      <th>3</th>\n      <td>Corporate Sales Executive</td>\n      <td>Kompass India Information Private Limited</td>\n      <td>Mumbai</td>\n      <td>Starts Immediately</td>\n      <td>₹ 2,00,000 - 4,00,000</td>\n      <td>0-5 years</td>\n      <td>3 weeks ago</td>\n      <td>300000.0</td>\n    </tr>\n    <tr>\n      <th>4</th>\n      <td>Junior Python Developer</td>\n      <td>Extension Technologies Private Limited</td>\n      <td>Faridabad</td>\n      <td>Starts Immediately</td>\n      <td>₹ 2,40,000 - 3,60,000</td>\n      <td>0-2 years</td>\n      <td>2 weeks ago</td>\n      <td>300000.0</td>\n    </tr>\n    <tr>\n      <th>...</th>\n      <td>...</td>\n      <td>...</td>\n      <td>...</td>\n      <td>...</td>\n      <td>...</td>\n      <td>...</td>\n      <td>...</td>\n      <td>...</td>\n    </tr>\n    <tr>\n      <th>7813</th>\n      <td>Corporate Sales Executive</td>\n      <td>Itech Ecommerce Company</td>\n      <td>Ahmedabad</td>\n      <td>Starts Immediately</td>\n      <td>₹ 2,00,000 - 3,00,000</td>\n      <td>0-2 years</td>\n      <td>3 weeks ago</td>\n      <td>250000.0</td>\n    </tr>\n    <tr>\n      <th>7814</th>\n      <td>Datastage Operations</td>\n      <td>Teradata</td>\n      <td>Pune</td>\n      <td>Starts Immediately</td>\n      <td>₹ 2,00,000 - 3,00,000</td>\n      <td>3-5 years</td>\n      <td>1 week ago</td>\n      <td>250000.0</td>\n    </tr>\n    <tr>\n      <th>7815</th>\n      <td>Datastage Operations</td>\n      <td>Teradata</td>\n      <td>Navi Mumbai</td>\n      <td>Starts Immediately</td>\n      <td>₹ 2,00,000 - 3,00,000</td>\n      <td>3-5 years</td>\n      <td>1 week ago</td>\n      <td>250000.0</td>\n    </tr>\n    <tr>\n      <th>7816</th>\n      <td>Applied Scientist</td>\n      <td>Amazon</td>\n      <td>Bangalore</td>\n      <td>Starts Immediately</td>\n      <td>₹ 2,00,000 - 3,00,000</td>\n      <td>3-5 years</td>\n      <td>1 week ago</td>\n      <td>250000.0</td>\n    </tr>\n    <tr>\n      <th>7817</th>\n      <td>Applied Scientist</td>\n      <td>Amazon</td>\n      <td>Mumbai</td>\n      <td>Starts Immediately</td>\n      <td>₹ 2,00,000 - 3,00,000</td>\n      <td>3-5 years</td>\n      <td>1 week ago</td>\n      <td>250000.0</td>\n    </tr>\n  </tbody>\n</table>\n<p>7292 rows × 8 columns</p>\n</div>"
     },
     "execution_count": 43,
     "metadata": {},
     "output_type": "execute_result"
    }
   ],
   "source": [
    "df"
   ],
   "metadata": {
    "collapsed": false,
    "ExecuteTime": {
     "end_time": "2023-12-15T05:06:40.974266Z",
     "start_time": "2023-12-15T05:06:40.965197Z"
    }
   },
   "id": "5f6d7968642b9705"
  },
  {
   "cell_type": "code",
   "execution_count": 44,
   "outputs": [
    {
     "data": {
      "text/plain": "Starts Immediately    7292\nName: start_date, dtype: int64"
     },
     "execution_count": 44,
     "metadata": {},
     "output_type": "execute_result"
    }
   ],
   "source": [
    "df['start_date'].value_counts()"
   ],
   "metadata": {
    "collapsed": false,
    "ExecuteTime": {
     "end_time": "2023-12-15T05:06:40.978788Z",
     "start_time": "2023-12-15T05:06:40.976283Z"
    }
   },
   "id": "edf2e0bd62d1e5b9"
  },
  {
   "cell_type": "code",
   "execution_count": 45,
   "outputs": [
    {
     "data": {
      "text/plain": "                             job_title  \\\n0       Business Development Associate   \n1     IELTS/PTE/Spoken English Trainer   \n2                     Fashion Designer   \n3            Corporate Sales Executive   \n4              Junior Python Developer   \n...                                ...   \n7813         Corporate Sales Executive   \n7814              Datastage Operations   \n7815              Datastage Operations   \n7816                 Applied Scientist   \n7817                 Applied Scientist   \n\n                                   company_name     location  \\\n0                                Break The Code       Mumbai   \n1                  DePioneer Education Overseas        Delhi   \n2                              Valkyre Clothing       Mumbai   \n3     Kompass India Information Private Limited       Mumbai   \n4        Extension Technologies Private Limited    Faridabad   \n...                                         ...          ...   \n7813                    Itech Ecommerce Company    Ahmedabad   \n7814                                   Teradata         Pune   \n7815                                   Teradata  Navi Mumbai   \n7816                                     Amazon    Bangalore   \n7817                                     Amazon       Mumbai   \n\n              start_date                    ctc experience  \\\n0     Starts Immediately  ₹ 2,00,000 - 3,00,000  0-1 years   \n1     Starts Immediately  ₹ 3,00,000 - 3,50,000  0-2 years   \n2     Starts Immediately  ₹ 3,00,000 - 3,50,000  0-2 years   \n3     Starts Immediately  ₹ 2,00,000 - 4,00,000  0-5 years   \n4     Starts Immediately  ₹ 2,40,000 - 3,60,000  0-2 years   \n...                  ...                    ...        ...   \n7813  Starts Immediately  ₹ 2,00,000 - 3,00,000  0-2 years   \n7814  Starts Immediately  ₹ 2,00,000 - 3,00,000  3-5 years   \n7815  Starts Immediately  ₹ 2,00,000 - 3,00,000  3-5 years   \n7816  Starts Immediately  ₹ 2,00,000 - 3,00,000  3-5 years   \n7817  Starts Immediately  ₹ 2,00,000 - 3,00,000  3-5 years   \n\n                                     posted   new_ctc  \n0                                3 days ago  250000.0  \n1                                1 week ago  325000.0  \n2     3 days ago\\n\\n\\nBe an early applicant  325000.0  \n3                               3 weeks ago  300000.0  \n4                               2 weeks ago  300000.0  \n...                                     ...       ...  \n7813                            3 weeks ago  250000.0  \n7814                             1 week ago  250000.0  \n7815                             1 week ago  250000.0  \n7816                             1 week ago  250000.0  \n7817                             1 week ago  250000.0  \n\n[7292 rows x 8 columns]",
      "text/html": "<div>\n<style scoped>\n    .dataframe tbody tr th:only-of-type {\n        vertical-align: middle;\n    }\n\n    .dataframe tbody tr th {\n        vertical-align: top;\n    }\n\n    .dataframe thead th {\n        text-align: right;\n    }\n</style>\n<table border=\"1\" class=\"dataframe\">\n  <thead>\n    <tr style=\"text-align: right;\">\n      <th></th>\n      <th>job_title</th>\n      <th>company_name</th>\n      <th>location</th>\n      <th>start_date</th>\n      <th>ctc</th>\n      <th>experience</th>\n      <th>posted</th>\n      <th>new_ctc</th>\n    </tr>\n  </thead>\n  <tbody>\n    <tr>\n      <th>0</th>\n      <td>Business Development Associate</td>\n      <td>Break The Code</td>\n      <td>Mumbai</td>\n      <td>Starts Immediately</td>\n      <td>₹ 2,00,000 - 3,00,000</td>\n      <td>0-1 years</td>\n      <td>3 days ago</td>\n      <td>250000.0</td>\n    </tr>\n    <tr>\n      <th>1</th>\n      <td>IELTS/PTE/Spoken English Trainer</td>\n      <td>DePioneer Education Overseas</td>\n      <td>Delhi</td>\n      <td>Starts Immediately</td>\n      <td>₹ 3,00,000 - 3,50,000</td>\n      <td>0-2 years</td>\n      <td>1 week ago</td>\n      <td>325000.0</td>\n    </tr>\n    <tr>\n      <th>2</th>\n      <td>Fashion Designer</td>\n      <td>Valkyre Clothing</td>\n      <td>Mumbai</td>\n      <td>Starts Immediately</td>\n      <td>₹ 3,00,000 - 3,50,000</td>\n      <td>0-2 years</td>\n      <td>3 days ago\\n\\n\\nBe an early applicant</td>\n      <td>325000.0</td>\n    </tr>\n    <tr>\n      <th>3</th>\n      <td>Corporate Sales Executive</td>\n      <td>Kompass India Information Private Limited</td>\n      <td>Mumbai</td>\n      <td>Starts Immediately</td>\n      <td>₹ 2,00,000 - 4,00,000</td>\n      <td>0-5 years</td>\n      <td>3 weeks ago</td>\n      <td>300000.0</td>\n    </tr>\n    <tr>\n      <th>4</th>\n      <td>Junior Python Developer</td>\n      <td>Extension Technologies Private Limited</td>\n      <td>Faridabad</td>\n      <td>Starts Immediately</td>\n      <td>₹ 2,40,000 - 3,60,000</td>\n      <td>0-2 years</td>\n      <td>2 weeks ago</td>\n      <td>300000.0</td>\n    </tr>\n    <tr>\n      <th>...</th>\n      <td>...</td>\n      <td>...</td>\n      <td>...</td>\n      <td>...</td>\n      <td>...</td>\n      <td>...</td>\n      <td>...</td>\n      <td>...</td>\n    </tr>\n    <tr>\n      <th>7813</th>\n      <td>Corporate Sales Executive</td>\n      <td>Itech Ecommerce Company</td>\n      <td>Ahmedabad</td>\n      <td>Starts Immediately</td>\n      <td>₹ 2,00,000 - 3,00,000</td>\n      <td>0-2 years</td>\n      <td>3 weeks ago</td>\n      <td>250000.0</td>\n    </tr>\n    <tr>\n      <th>7814</th>\n      <td>Datastage Operations</td>\n      <td>Teradata</td>\n      <td>Pune</td>\n      <td>Starts Immediately</td>\n      <td>₹ 2,00,000 - 3,00,000</td>\n      <td>3-5 years</td>\n      <td>1 week ago</td>\n      <td>250000.0</td>\n    </tr>\n    <tr>\n      <th>7815</th>\n      <td>Datastage Operations</td>\n      <td>Teradata</td>\n      <td>Navi Mumbai</td>\n      <td>Starts Immediately</td>\n      <td>₹ 2,00,000 - 3,00,000</td>\n      <td>3-5 years</td>\n      <td>1 week ago</td>\n      <td>250000.0</td>\n    </tr>\n    <tr>\n      <th>7816</th>\n      <td>Applied Scientist</td>\n      <td>Amazon</td>\n      <td>Bangalore</td>\n      <td>Starts Immediately</td>\n      <td>₹ 2,00,000 - 3,00,000</td>\n      <td>3-5 years</td>\n      <td>1 week ago</td>\n      <td>250000.0</td>\n    </tr>\n    <tr>\n      <th>7817</th>\n      <td>Applied Scientist</td>\n      <td>Amazon</td>\n      <td>Mumbai</td>\n      <td>Starts Immediately</td>\n      <td>₹ 2,00,000 - 3,00,000</td>\n      <td>3-5 years</td>\n      <td>1 week ago</td>\n      <td>250000.0</td>\n    </tr>\n  </tbody>\n</table>\n<p>7292 rows × 8 columns</p>\n</div>"
     },
     "execution_count": 45,
     "metadata": {},
     "output_type": "execute_result"
    }
   ],
   "source": [
    "df['start_date'] = df['start_date'].apply(lambda date: date.replace(' ', ' '))\n",
    "df"
   ],
   "metadata": {
    "collapsed": false,
    "ExecuteTime": {
     "end_time": "2023-12-15T05:06:41.068627Z",
     "start_time": "2023-12-15T05:06:40.981477Z"
    }
   },
   "id": "4feb8fb32cf5ffa"
  },
  {
   "cell_type": "markdown",
   "source": [
    "+ 'start_date'에서 ' ' 제거 (nbsp)"
   ],
   "metadata": {
    "collapsed": false
   },
   "id": "5c8c7446f4f92096"
  },
  {
   "cell_type": "code",
   "execution_count": 46,
   "outputs": [
    {
     "data": {
      "text/plain": "array(['3 days ago', '1 week ago',\n       '3 days ago\\n\\n\\nBe an early applicant', '3 weeks ago',\n       '2 weeks ago', '1 day ago\\n\\n\\nBe an early applicant',\n       '4 days ago', '2 days ago', '6 days ago', 'Few hours ago', 'Today',\n       '1 day ago', '5 days ago', 'Just now\\n\\n\\nBe an early applicant',\n       'Few hours ago\\n\\n\\nBe an early applicant',\n       'Today\\n\\n\\nBe an early applicant',\n       '2 days ago\\n\\n\\nBe an early applicant',\n       '5 days ago\\n\\n\\nBe an early applicant',\n       '4 days ago\\n\\n\\nBe an early applicant',\n       '6 days ago\\n\\n\\nBe an early applicant',\n       '1 week ago\\n\\n\\nBe an early applicant', '7 days ago',\n       '7 days ago\\n\\n\\nBe an early applicant',\n       '3 weeks ago\\n\\n\\nBe an early applicant',\n       '2 weeks ago\\n\\n\\nBe an early applicant', 'Just now'], dtype=object)"
     },
     "execution_count": 46,
     "metadata": {},
     "output_type": "execute_result"
    }
   ],
   "source": [
    "df['posted'].unique()"
   ],
   "metadata": {
    "collapsed": false,
    "ExecuteTime": {
     "end_time": "2023-12-15T05:06:41.068788Z",
     "start_time": "2023-12-15T05:06:40.990716Z"
    }
   },
   "id": "36eaf939344f14c9"
  },
  {
   "cell_type": "code",
   "execution_count": 47,
   "outputs": [
    {
     "data": {
      "text/plain": "                             job_title  \\\n0       Business Development Associate   \n1     IELTS/PTE/Spoken English Trainer   \n2                     Fashion Designer   \n3            Corporate Sales Executive   \n4              Junior Python Developer   \n...                                ...   \n7813         Corporate Sales Executive   \n7814              Datastage Operations   \n7815              Datastage Operations   \n7816                 Applied Scientist   \n7817                 Applied Scientist   \n\n                                   company_name     location  \\\n0                                Break The Code       Mumbai   \n1                  DePioneer Education Overseas        Delhi   \n2                              Valkyre Clothing       Mumbai   \n3     Kompass India Information Private Limited       Mumbai   \n4        Extension Technologies Private Limited    Faridabad   \n...                                         ...          ...   \n7813                    Itech Ecommerce Company    Ahmedabad   \n7814                                   Teradata         Pune   \n7815                                   Teradata  Navi Mumbai   \n7816                                     Amazon    Bangalore   \n7817                                     Amazon       Mumbai   \n\n              start_date                    ctc experience       posted  \\\n0     Starts Immediately  ₹ 2,00,000 - 3,00,000  0-1 years   3 days ago   \n1     Starts Immediately  ₹ 3,00,000 - 3,50,000  0-2 years   1 week ago   \n2     Starts Immediately  ₹ 3,00,000 - 3,50,000  0-2 years   3 days ago   \n3     Starts Immediately  ₹ 2,00,000 - 4,00,000  0-5 years  3 weeks ago   \n4     Starts Immediately  ₹ 2,40,000 - 3,60,000  0-2 years  2 weeks ago   \n...                  ...                    ...        ...          ...   \n7813  Starts Immediately  ₹ 2,00,000 - 3,00,000  0-2 years  3 weeks ago   \n7814  Starts Immediately  ₹ 2,00,000 - 3,00,000  3-5 years   1 week ago   \n7815  Starts Immediately  ₹ 2,00,000 - 3,00,000  3-5 years   1 week ago   \n7816  Starts Immediately  ₹ 2,00,000 - 3,00,000  3-5 years   1 week ago   \n7817  Starts Immediately  ₹ 2,00,000 - 3,00,000  3-5 years   1 week ago   \n\n       new_ctc  \n0     250000.0  \n1     325000.0  \n2     325000.0  \n3     300000.0  \n4     300000.0  \n...        ...  \n7813  250000.0  \n7814  250000.0  \n7815  250000.0  \n7816  250000.0  \n7817  250000.0  \n\n[7292 rows x 8 columns]",
      "text/html": "<div>\n<style scoped>\n    .dataframe tbody tr th:only-of-type {\n        vertical-align: middle;\n    }\n\n    .dataframe tbody tr th {\n        vertical-align: top;\n    }\n\n    .dataframe thead th {\n        text-align: right;\n    }\n</style>\n<table border=\"1\" class=\"dataframe\">\n  <thead>\n    <tr style=\"text-align: right;\">\n      <th></th>\n      <th>job_title</th>\n      <th>company_name</th>\n      <th>location</th>\n      <th>start_date</th>\n      <th>ctc</th>\n      <th>experience</th>\n      <th>posted</th>\n      <th>new_ctc</th>\n    </tr>\n  </thead>\n  <tbody>\n    <tr>\n      <th>0</th>\n      <td>Business Development Associate</td>\n      <td>Break The Code</td>\n      <td>Mumbai</td>\n      <td>Starts Immediately</td>\n      <td>₹ 2,00,000 - 3,00,000</td>\n      <td>0-1 years</td>\n      <td>3 days ago</td>\n      <td>250000.0</td>\n    </tr>\n    <tr>\n      <th>1</th>\n      <td>IELTS/PTE/Spoken English Trainer</td>\n      <td>DePioneer Education Overseas</td>\n      <td>Delhi</td>\n      <td>Starts Immediately</td>\n      <td>₹ 3,00,000 - 3,50,000</td>\n      <td>0-2 years</td>\n      <td>1 week ago</td>\n      <td>325000.0</td>\n    </tr>\n    <tr>\n      <th>2</th>\n      <td>Fashion Designer</td>\n      <td>Valkyre Clothing</td>\n      <td>Mumbai</td>\n      <td>Starts Immediately</td>\n      <td>₹ 3,00,000 - 3,50,000</td>\n      <td>0-2 years</td>\n      <td>3 days ago</td>\n      <td>325000.0</td>\n    </tr>\n    <tr>\n      <th>3</th>\n      <td>Corporate Sales Executive</td>\n      <td>Kompass India Information Private Limited</td>\n      <td>Mumbai</td>\n      <td>Starts Immediately</td>\n      <td>₹ 2,00,000 - 4,00,000</td>\n      <td>0-5 years</td>\n      <td>3 weeks ago</td>\n      <td>300000.0</td>\n    </tr>\n    <tr>\n      <th>4</th>\n      <td>Junior Python Developer</td>\n      <td>Extension Technologies Private Limited</td>\n      <td>Faridabad</td>\n      <td>Starts Immediately</td>\n      <td>₹ 2,40,000 - 3,60,000</td>\n      <td>0-2 years</td>\n      <td>2 weeks ago</td>\n      <td>300000.0</td>\n    </tr>\n    <tr>\n      <th>...</th>\n      <td>...</td>\n      <td>...</td>\n      <td>...</td>\n      <td>...</td>\n      <td>...</td>\n      <td>...</td>\n      <td>...</td>\n      <td>...</td>\n    </tr>\n    <tr>\n      <th>7813</th>\n      <td>Corporate Sales Executive</td>\n      <td>Itech Ecommerce Company</td>\n      <td>Ahmedabad</td>\n      <td>Starts Immediately</td>\n      <td>₹ 2,00,000 - 3,00,000</td>\n      <td>0-2 years</td>\n      <td>3 weeks ago</td>\n      <td>250000.0</td>\n    </tr>\n    <tr>\n      <th>7814</th>\n      <td>Datastage Operations</td>\n      <td>Teradata</td>\n      <td>Pune</td>\n      <td>Starts Immediately</td>\n      <td>₹ 2,00,000 - 3,00,000</td>\n      <td>3-5 years</td>\n      <td>1 week ago</td>\n      <td>250000.0</td>\n    </tr>\n    <tr>\n      <th>7815</th>\n      <td>Datastage Operations</td>\n      <td>Teradata</td>\n      <td>Navi Mumbai</td>\n      <td>Starts Immediately</td>\n      <td>₹ 2,00,000 - 3,00,000</td>\n      <td>3-5 years</td>\n      <td>1 week ago</td>\n      <td>250000.0</td>\n    </tr>\n    <tr>\n      <th>7816</th>\n      <td>Applied Scientist</td>\n      <td>Amazon</td>\n      <td>Bangalore</td>\n      <td>Starts Immediately</td>\n      <td>₹ 2,00,000 - 3,00,000</td>\n      <td>3-5 years</td>\n      <td>1 week ago</td>\n      <td>250000.0</td>\n    </tr>\n    <tr>\n      <th>7817</th>\n      <td>Applied Scientist</td>\n      <td>Amazon</td>\n      <td>Mumbai</td>\n      <td>Starts Immediately</td>\n      <td>₹ 2,00,000 - 3,00,000</td>\n      <td>3-5 years</td>\n      <td>1 week ago</td>\n      <td>250000.0</td>\n    </tr>\n  </tbody>\n</table>\n<p>7292 rows × 8 columns</p>\n</div>"
     },
     "execution_count": 47,
     "metadata": {},
     "output_type": "execute_result"
    }
   ],
   "source": [
    "df['posted'] = df['posted'].apply(lambda date: date.replace('\\n\\n\\nBe an early applicant', ''))\n",
    "df"
   ],
   "metadata": {
    "collapsed": false,
    "ExecuteTime": {
     "end_time": "2023-12-15T05:06:41.068973Z",
     "start_time": "2023-12-15T05:06:40.993770Z"
    }
   },
   "id": "61d450ccb36730c0"
  },
  {
   "cell_type": "markdown",
   "source": [
    "## 4) 구직자 클래스를 만들어 봅시다."
   ],
   "metadata": {
    "collapsed": false
   },
   "id": "bbc306bb42e467ef"
  },
  {
   "cell_type": "code",
   "execution_count": 48,
   "outputs": [],
   "source": [
    "df.drop(['ctc'], axis=1, inplace=True)"
   ],
   "metadata": {
    "collapsed": false,
    "ExecuteTime": {
     "end_time": "2023-12-15T05:06:41.069014Z",
     "start_time": "2023-12-15T05:06:41.004139Z"
    }
   },
   "id": "8c77bc205ec1c398"
  },
  {
   "cell_type": "code",
   "execution_count": 49,
   "outputs": [],
   "source": [
    "class JobSeeker:\n",
    "    def __init__(self, salary, experience):\n",
    "        self.salary = salary\n",
    "        self.experience = experience\n",
    "        \n",
    "    def get_appropriate_job(self, n):\n",
    "        exp = f'{self.experience} years'\n",
    "        print(df[(df['new_ctc'] >= self.salary) & (df['experience'] == exp)].head(n).reset_index(drop=True))\n",
    "    \n",
    "    def print_info(self):\n",
    "        print(f'Job seeker info: Looking for a job with salary of {self.salary} and experience of {self.experience} years')"
   ],
   "metadata": {
    "collapsed": false,
    "ExecuteTime": {
     "end_time": "2023-12-15T05:06:41.069044Z",
     "start_time": "2023-12-15T05:06:41.008652Z"
    }
   },
   "id": "a2b76c68847ffdf7"
  },
  {
   "cell_type": "code",
   "execution_count": 50,
   "outputs": [
    {
     "data": {
      "text/plain": "                             job_title  \\\n0       Business Development Associate   \n1     IELTS/PTE/Spoken English Trainer   \n2                     Fashion Designer   \n3            Corporate Sales Executive   \n4              Junior Python Developer   \n...                                ...   \n7813         Corporate Sales Executive   \n7814              Datastage Operations   \n7815              Datastage Operations   \n7816                 Applied Scientist   \n7817                 Applied Scientist   \n\n                                   company_name     location  \\\n0                                Break The Code       Mumbai   \n1                  DePioneer Education Overseas        Delhi   \n2                              Valkyre Clothing       Mumbai   \n3     Kompass India Information Private Limited       Mumbai   \n4        Extension Technologies Private Limited    Faridabad   \n...                                         ...          ...   \n7813                    Itech Ecommerce Company    Ahmedabad   \n7814                                   Teradata         Pune   \n7815                                   Teradata  Navi Mumbai   \n7816                                     Amazon    Bangalore   \n7817                                     Amazon       Mumbai   \n\n              start_date experience       posted   new_ctc  \n0     Starts Immediately  0-1 years   3 days ago  250000.0  \n1     Starts Immediately  0-2 years   1 week ago  325000.0  \n2     Starts Immediately  0-2 years   3 days ago  325000.0  \n3     Starts Immediately  0-5 years  3 weeks ago  300000.0  \n4     Starts Immediately  0-2 years  2 weeks ago  300000.0  \n...                  ...        ...          ...       ...  \n7813  Starts Immediately  0-2 years  3 weeks ago  250000.0  \n7814  Starts Immediately  3-5 years   1 week ago  250000.0  \n7815  Starts Immediately  3-5 years   1 week ago  250000.0  \n7816  Starts Immediately  3-5 years   1 week ago  250000.0  \n7817  Starts Immediately  3-5 years   1 week ago  250000.0  \n\n[7292 rows x 7 columns]",
      "text/html": "<div>\n<style scoped>\n    .dataframe tbody tr th:only-of-type {\n        vertical-align: middle;\n    }\n\n    .dataframe tbody tr th {\n        vertical-align: top;\n    }\n\n    .dataframe thead th {\n        text-align: right;\n    }\n</style>\n<table border=\"1\" class=\"dataframe\">\n  <thead>\n    <tr style=\"text-align: right;\">\n      <th></th>\n      <th>job_title</th>\n      <th>company_name</th>\n      <th>location</th>\n      <th>start_date</th>\n      <th>experience</th>\n      <th>posted</th>\n      <th>new_ctc</th>\n    </tr>\n  </thead>\n  <tbody>\n    <tr>\n      <th>0</th>\n      <td>Business Development Associate</td>\n      <td>Break The Code</td>\n      <td>Mumbai</td>\n      <td>Starts Immediately</td>\n      <td>0-1 years</td>\n      <td>3 days ago</td>\n      <td>250000.0</td>\n    </tr>\n    <tr>\n      <th>1</th>\n      <td>IELTS/PTE/Spoken English Trainer</td>\n      <td>DePioneer Education Overseas</td>\n      <td>Delhi</td>\n      <td>Starts Immediately</td>\n      <td>0-2 years</td>\n      <td>1 week ago</td>\n      <td>325000.0</td>\n    </tr>\n    <tr>\n      <th>2</th>\n      <td>Fashion Designer</td>\n      <td>Valkyre Clothing</td>\n      <td>Mumbai</td>\n      <td>Starts Immediately</td>\n      <td>0-2 years</td>\n      <td>3 days ago</td>\n      <td>325000.0</td>\n    </tr>\n    <tr>\n      <th>3</th>\n      <td>Corporate Sales Executive</td>\n      <td>Kompass India Information Private Limited</td>\n      <td>Mumbai</td>\n      <td>Starts Immediately</td>\n      <td>0-5 years</td>\n      <td>3 weeks ago</td>\n      <td>300000.0</td>\n    </tr>\n    <tr>\n      <th>4</th>\n      <td>Junior Python Developer</td>\n      <td>Extension Technologies Private Limited</td>\n      <td>Faridabad</td>\n      <td>Starts Immediately</td>\n      <td>0-2 years</td>\n      <td>2 weeks ago</td>\n      <td>300000.0</td>\n    </tr>\n    <tr>\n      <th>...</th>\n      <td>...</td>\n      <td>...</td>\n      <td>...</td>\n      <td>...</td>\n      <td>...</td>\n      <td>...</td>\n      <td>...</td>\n    </tr>\n    <tr>\n      <th>7813</th>\n      <td>Corporate Sales Executive</td>\n      <td>Itech Ecommerce Company</td>\n      <td>Ahmedabad</td>\n      <td>Starts Immediately</td>\n      <td>0-2 years</td>\n      <td>3 weeks ago</td>\n      <td>250000.0</td>\n    </tr>\n    <tr>\n      <th>7814</th>\n      <td>Datastage Operations</td>\n      <td>Teradata</td>\n      <td>Pune</td>\n      <td>Starts Immediately</td>\n      <td>3-5 years</td>\n      <td>1 week ago</td>\n      <td>250000.0</td>\n    </tr>\n    <tr>\n      <th>7815</th>\n      <td>Datastage Operations</td>\n      <td>Teradata</td>\n      <td>Navi Mumbai</td>\n      <td>Starts Immediately</td>\n      <td>3-5 years</td>\n      <td>1 week ago</td>\n      <td>250000.0</td>\n    </tr>\n    <tr>\n      <th>7816</th>\n      <td>Applied Scientist</td>\n      <td>Amazon</td>\n      <td>Bangalore</td>\n      <td>Starts Immediately</td>\n      <td>3-5 years</td>\n      <td>1 week ago</td>\n      <td>250000.0</td>\n    </tr>\n    <tr>\n      <th>7817</th>\n      <td>Applied Scientist</td>\n      <td>Amazon</td>\n      <td>Mumbai</td>\n      <td>Starts Immediately</td>\n      <td>3-5 years</td>\n      <td>1 week ago</td>\n      <td>250000.0</td>\n    </tr>\n  </tbody>\n</table>\n<p>7292 rows × 7 columns</p>\n</div>"
     },
     "execution_count": 50,
     "metadata": {},
     "output_type": "execute_result"
    }
   ],
   "source": [
    "df"
   ],
   "metadata": {
    "collapsed": false,
    "ExecuteTime": {
     "end_time": "2023-12-15T05:06:41.069231Z",
     "start_time": "2023-12-15T05:06:41.011015Z"
    }
   },
   "id": "38fef01d5b3fe412"
  },
  {
   "cell_type": "code",
   "execution_count": 51,
   "outputs": [],
   "source": [
    "job_seeker1 = JobSeeker(275000, '1-3')"
   ],
   "metadata": {
    "collapsed": false,
    "ExecuteTime": {
     "end_time": "2023-12-15T05:06:41.069262Z",
     "start_time": "2023-12-15T05:06:41.019225Z"
    }
   },
   "id": "b4330e9e907ff83a"
  },
  {
   "cell_type": "code",
   "execution_count": 52,
   "outputs": [
    {
     "name": "stdout",
     "output_type": "stream",
     "text": [
      "Job seeker info: Looking for a job with salary of 275000 and experience of 1-3 years\n"
     ]
    }
   ],
   "source": [
    "job_seeker1.print_info()"
   ],
   "metadata": {
    "collapsed": false,
    "ExecuteTime": {
     "end_time": "2023-12-15T05:06:41.069327Z",
     "start_time": "2023-12-15T05:06:41.021548Z"
    }
   },
   "id": "5ccea196d4db2183"
  },
  {
   "cell_type": "code",
   "execution_count": 53,
   "outputs": [
    {
     "name": "stdout",
     "output_type": "stream",
     "text": [
      "                               job_title                    company_name  \\\n",
      "0                         HTML Developer                   Hansa Cequity   \n",
      "1  Senior Social Media Marketing Manager                Valkyre Clothing   \n",
      "2                       Graphic Designer             Marcamor Consulting   \n",
      "3             Associate Graphic Designer  IIDE Education Private Limited   \n",
      "4         Marketing Coordinator - Remote  IIDE Education Private Limited   \n",
      "\n",
      "         location          start_date experience         posted   new_ctc  \n",
      "0          Mumbai  Starts Immediately  1-3 years     1 week ago  275000.0  \n",
      "1          Mumbai  Starts Immediately  1-3 years       Just now  300000.0  \n",
      "2       Hyderabad  Starts Immediately  1-3 years       Just now  425000.0  \n",
      "3  Work from home  Starts Immediately  1-3 years  Few hours ago  400000.0  \n",
      "4  Work from home  Starts Immediately  1-3 years  Few hours ago  400000.0  \n"
     ]
    }
   ],
   "source": [
    "job_seeker1.get_appropriate_job(5)"
   ],
   "metadata": {
    "collapsed": false,
    "ExecuteTime": {
     "end_time": "2023-12-15T05:06:41.069387Z",
     "start_time": "2023-12-15T05:06:41.047931Z"
    }
   },
   "id": "372e836eec4593"
  },
  {
   "cell_type": "code",
   "execution_count": 54,
   "outputs": [],
   "source": [
    "job_seeker2 = JobSeeker(700000, '0-2')"
   ],
   "metadata": {
    "collapsed": false,
    "ExecuteTime": {
     "end_time": "2023-12-15T05:06:41.069416Z",
     "start_time": "2023-12-15T05:06:41.050200Z"
    }
   },
   "id": "fa79a0a4f45e7b5e"
  },
  {
   "cell_type": "code",
   "execution_count": 55,
   "outputs": [
    {
     "name": "stdout",
     "output_type": "stream",
     "text": [
      "Job seeker info: Looking for a job with salary of 700000 and experience of 0-2 years\n"
     ]
    }
   ],
   "source": [
    "job_seeker2.print_info()"
   ],
   "metadata": {
    "collapsed": false,
    "ExecuteTime": {
     "end_time": "2023-12-15T05:06:41.069476Z",
     "start_time": "2023-12-15T05:06:41.052291Z"
    }
   },
   "id": "7357b105aeac2765"
  },
  {
   "cell_type": "code",
   "execution_count": 56,
   "outputs": [
    {
     "name": "stdout",
     "output_type": "stream",
     "text": [
      "                             job_title         company_name        location  \\\n",
      "0  Domain Specialist Company Secretary             ClearTax       Bangalore   \n",
      "1             Full Stack Web Developer               Avaari  Work from home   \n",
      "2                  Front End Developer  Shubh International  Work from home   \n",
      "3                Android App Developer  Shubh International  Work from home   \n",
      "\n",
      "           start_date experience      posted   new_ctc  \n",
      "0  Starts Immediately  0-2 years  2 days ago  850000.0  \n",
      "1  Starts Immediately  0-2 years  7 days ago  750000.0  \n",
      "2  Starts Immediately  0-2 years  1 week ago  900000.0  \n",
      "3  Starts Immediately  0-2 years  1 week ago  750000.0  \n"
     ]
    }
   ],
   "source": [
    "job_seeker2.get_appropriate_job(5)"
   ],
   "metadata": {
    "collapsed": false,
    "ExecuteTime": {
     "end_time": "2023-12-15T05:06:41.069574Z",
     "start_time": "2023-12-15T05:06:41.054401Z"
    }
   },
   "id": "272f8ab8725c503f"
  }
 ],
 "metadata": {
  "kernelspec": {
   "display_name": "Python 3",
   "language": "python",
   "name": "python3"
  },
  "language_info": {
   "codemirror_mode": {
    "name": "ipython",
    "version": 2
   },
   "file_extension": ".py",
   "mimetype": "text/x-python",
   "name": "python",
   "nbconvert_exporter": "python",
   "pygments_lexer": "ipython2",
   "version": "2.7.6"
  }
 },
 "nbformat": 4,
 "nbformat_minor": 5
}
