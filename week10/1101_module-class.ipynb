{
 "cells": [
  {
   "cell_type": "markdown",
   "metadata": {},
   "source": [
    "# How to make module, class, attribute, and function"
   ]
  },
  {
   "cell_type": "code",
   "execution_count": 1,
   "metadata": {},
   "outputs": [
    {
     "name": "stdout",
     "output_type": "stream",
     "text": [
      "5\n",
      "-1\n"
     ]
    }
   ],
   "source": [
    "def add(a, b):\n",
    "    return a + b\n",
    "\n",
    "def sub(a, b):\n",
    "    return a - b\n",
    "    \n",
    "print(add(2, 3))\n",
    "print(sub(2, 3))"
   ]
  },
  {
   "cell_type": "markdown",
   "metadata": {},
   "source": [
    "# Class"
   ]
  },
  {
   "cell_type": "code",
   "execution_count": 2,
   "metadata": {},
   "outputs": [
    {
     "name": "stdout",
     "output_type": "stream",
     "text": [
      "<class '__main__.Cookie'>\n"
     ]
    }
   ],
   "source": [
    "class Cookie:\n",
    "    pass\n",
    "\n",
    "# a and b are \"instances\" of Cookie class.\n",
    "a = Cookie()\n",
    "b = Cookie()\n",
    "print(type(a))"
   ]
  },
  {
   "cell_type": "markdown",
   "metadata": {},
   "source": [
    "## Attribute"
   ]
  },
  {
   "cell_type": "code",
   "execution_count": 3,
   "metadata": {},
   "outputs": [
    {
     "name": "stdout",
     "output_type": "stream",
     "text": [
      "Yummy!\n"
     ]
    }
   ],
   "source": [
    "class Cookie:\n",
    "    foodtype = \"Yummy!\" # Class attribute\n",
    "\n",
    "# a and b are \"instances\" of Cookie class.\n",
    "a = Cookie()\n",
    "b = Cookie()\n",
    "print(a.foodtype)"
   ]
  },
  {
   "cell_type": "markdown",
   "metadata": {},
   "source": [
    "## Constructor"
   ]
  },
  {
   "cell_type": "code",
   "execution_count": 4,
   "metadata": {},
   "outputs": [
    {
     "name": "stdout",
     "output_type": "stream",
     "text": [
      "Yummy!\n",
      "Bad!\n"
     ]
    }
   ],
   "source": [
    "class Cookie:\n",
    "    # Constructor\n",
    "    def __init__(self, taste = \"Yummy!\"):\n",
    "    # def __init__(self, taste):\n",
    "        self.taste = taste\n",
    "\n",
    "# a and b are \"instances\" of Cookie class.\n",
    "a = Cookie()\n",
    "b = Cookie(\"Bad!\")\n",
    "print(a.taste)\n",
    "print(b.taste)"
   ]
  },
  {
   "cell_type": "markdown",
   "metadata": {},
   "source": [
    "## Function"
   ]
  },
  {
   "cell_type": "code",
   "execution_count": 5,
   "metadata": {},
   "outputs": [
    {
     "name": "stdout",
     "output_type": "stream",
     "text": [
      "Yummy!\n",
      "Hmm... not bad.\n"
     ]
    }
   ],
   "source": [
    "class Cookie:\n",
    "    foodtype = \"It's cookie!\"\n",
    "    # Constructor\n",
    "    def __init__(self, taste = \"Yummy!\"):\n",
    "        self.taste = taste\n",
    "    # Function\n",
    "    def set_taste(self, taste):\n",
    "        self.taste = taste\n",
    "\n",
    "# a and b are \"instances\" of Cookie class.\n",
    "a = Cookie()\n",
    "b = Cookie(\"Bad!\")\n",
    "b.set_taste(\"Hmm... not bad.\")\n",
    "print(a.taste)\n",
    "print(b.taste)"
   ]
  },
  {
   "cell_type": "markdown",
   "metadata": {},
   "source": [
    "# Soccer player class"
   ]
  },
  {
   "cell_type": "code",
   "execution_count": 6,
   "metadata": {},
   "outputs": [],
   "source": [
    "class SoccerPlayer:\n",
    "    def __init__(self, name, *args):\n",
    "        self.name = name\n",
    "        self.stat = args\n",
    "        self.shooting = args[0]\n",
    "        self.passing = args[1]\n",
    "        self.running = args[2]\n",
    "        self.defence = args[3]\n",
    "        self.vital = args[4]\n",
    "        self.goalkeeping = args[5]\n",
    "\n",
    "messi = SoccerPlayer(\"Lionel Messi\", 90, 90, 90, 65, 85, 50)\n",
    "navas = SoccerPlayer(\"Kaylor Navas\", 40, 40, 70, 90, 85, 90)\n",
    "son = SoccerPlayer(\"Heungmin Son\", 85, 85, 90, 75, 80, 50)\n"
   ]
  },
  {
   "cell_type": "markdown",
   "metadata": {},
   "source": [
    "## 이름 출력 함수"
   ]
  },
  {
   "cell_type": "code",
   "execution_count": 7,
   "metadata": {},
   "outputs": [
    {
     "name": "stdout",
     "output_type": "stream",
     "text": [
      "Lionel Messi\n"
     ]
    }
   ],
   "source": [
    "class SoccerPlayer:\n",
    "    def __init__(self, name, *args):\n",
    "        self.name = name\n",
    "        self.stat = args\n",
    "        self.shooting = args[0]\n",
    "        self.passing = args[1]\n",
    "        self.running = args[2]\n",
    "        self.defence = args[3]\n",
    "        self.vital = args[4]\n",
    "        self.goalkeeping = args[5]\n",
    "        \n",
    "    def print_name(self):\n",
    "        print(self.name)\n",
    "\n",
    "messi = SoccerPlayer(\"Lionel Messi\", 90, 90, 90, 65, 85, 50)\n",
    "navas = SoccerPlayer(\"Kaylor Navas\", 40, 40, 70, 90, 85, 90)\n",
    "son = SoccerPlayer(\"Heungmin Son\", 85, 85, 90, 75, 80, 50)\n",
    "\n",
    "messi.print_name()"
   ]
  },
  {
   "cell_type": "markdown",
   "metadata": {},
   "source": [
    "## 능력치 출력 함수"
   ]
  },
  {
   "cell_type": "code",
   "execution_count": 8,
   "metadata": {},
   "outputs": [
    {
     "name": "stdout",
     "output_type": "stream",
     "text": [
      "Player Name: Lionel Messi\n",
      "Shooting: 90\n",
      "Passing: 90\n",
      "Running: 90\n",
      "Defence: 65\n",
      "Vital: 85\n",
      "Goalkeeping: 50\n"
     ]
    }
   ],
   "source": [
    "class SoccerPlayer:\n",
    "    def __init__(self, name, *args):\n",
    "        self.name = name\n",
    "        self.stat = args\n",
    "        self.shooting = args[0]\n",
    "        self.passing = args[1]\n",
    "        self.running = args[2]\n",
    "        self.defence = args[3]\n",
    "        self.vital = args[4]\n",
    "        self.goalkeeping = args[5]\n",
    "        \n",
    "    def print_name(self):\n",
    "        print(self.name)\n",
    "        \n",
    "    def print_stat(self):\n",
    "        print(f\"Player Name: {self.name}\")\n",
    "        print(f\"Shooting: {self.shooting}\")\n",
    "        print(f\"Passing: {self.passing}\")\n",
    "        print(f\"Running: {self.running}\")\n",
    "        print(f\"Defence: {self.defence}\")\n",
    "        print(f\"Vital: {self.vital}\")\n",
    "        print(f\"Goalkeeping: {self.goalkeeping}\")\n",
    "        \n",
    "messi = SoccerPlayer(\"Lionel Messi\", 90, 90, 90, 65, 85, 50)\n",
    "navas = SoccerPlayer(\"Kaylor Navas\", 40, 40, 70, 90, 85, 90)\n",
    "son = SoccerPlayer(\"Heungmin Son\", 85, 85, 90, 75, 80, 50)\n",
    "\n",
    "messi.print_stat()"
   ]
  },
  {
   "cell_type": "markdown",
   "metadata": {},
   "source": [
    "## 능력치 변경 함수"
   ]
  },
  {
   "cell_type": "code",
   "execution_count": 9,
   "metadata": {},
   "outputs": [
    {
     "name": "stdout",
     "output_type": "stream",
     "text": [
      "Player Name: Lionel Messi\n",
      "Status: OK\n",
      "Shooting: 90\n",
      "Passing: 90\n",
      "Running: 90\n",
      "Defence: 65\n",
      "Vital: 85\n",
      "Goalkeeping: 50\n",
      "Player Name: Lionel Messi\n",
      "Status: Injured\n",
      "Shooting: 45.0\n",
      "Passing: 45.0\n",
      "Running: 45.0\n",
      "Defence: 32.5\n",
      "Vital: 42.5\n",
      "Goalkeeping: 25.0\n"
     ]
    }
   ],
   "source": [
    "import numpy as np\n",
    "\n",
    "class SoccerPlayer:\n",
    "    # def __init__(self, name, shooting = 50, passing = 50, running = 50, defence = 50, vital = 50, goalkeeping = 50):\n",
    "    def __init__(self, name, *args):\n",
    "        self.name = name\n",
    "        self.status = \"OK\"\n",
    "        self.stat = np.array(args)\n",
    "        \n",
    "    def print_name(self):\n",
    "        print(self.name)\n",
    "        \n",
    "    def print_stat(self):\n",
    "        print(f\"Player Name: {self.name}\")\n",
    "        print(f\"Status: {self.status}\")\n",
    "        print(f\"Shooting: {self.stat[0]}\")\n",
    "        print(f\"Passing: {self.stat[1]}\")\n",
    "        print(f\"Running: {self.stat[2]}\")\n",
    "        print(f\"Defence: {self.stat[3]}\")\n",
    "        print(f\"Vital: {self.stat[4]}\")\n",
    "        print(f\"Goalkeeping: {self.stat[5]}\")\n",
    "        \n",
    "    def get_injury(self):\n",
    "        self.stat = self.stat / 2\n",
    "        self.status = \"Injured\"\n",
    "        \n",
    "messi = SoccerPlayer(\"Lionel Messi\", 90, 90, 90, 65, 85, 50)\n",
    "navas = SoccerPlayer(\"Kaylor Navas\", 40, 40, 70, 90, 85, 90)\n",
    "son = SoccerPlayer(\"Heungmin Son\", 85, 85, 90, 75, 80, 50)\n",
    "\n",
    "messi.print_stat()\n",
    "messi.get_injury()\n",
    "messi.print_stat()"
   ]
  },
  {
   "cell_type": "markdown",
   "metadata": {},
   "source": [
    "## 상속, 다형성"
   ]
  },
  {
   "cell_type": "code",
   "execution_count": 10,
   "metadata": {},
   "outputs": [],
   "source": [
    "class Player():\n",
    "    def __init__(self, name, back_number):\n",
    "        self.name = name\n",
    "        self.back_number = back_number\n",
    "        \n",
    "    def print_stat(self):\n",
    "        print(f\"This is {self.__class__.__name__} Class\")\n",
    "        print(f\"Player Name: {self.name}\")\n",
    "        print(f\"Back Number: {self.back_number}\")\n",
    "        \n",
    "        \n",
    "class SoccerPlayer(Player):\n",
    "    def __init__(self, name, back_number, position):\n",
    "        super().__init__(name, back_number)\n",
    "        self.position = position\n",
    "        \n",
    "    def print_stat(self):\n",
    "        super().print_stat()\n",
    "        # print(\"This is Soccer Player Class\")\n",
    "        # print(f\"Player Name: {self.name}\")\n",
    "        # print(f\"Back Number: {self.back_number}\")\n",
    "        print(f\"Position: {self.position}\")\n",
    "        \n",
    "        \n",
    "class BaseballPlayer(Player):\n",
    "    def __init__(self, name, back_number, position, avg):\n",
    "        super().__init__(name, back_number)\n",
    "        self.position = position\n",
    "        self.avg = avg\n",
    "        \n",
    "    def print_stat(self):\n",
    "        super().print_stat()\n",
    "        # print(\"This is Baseball Player Class\")\n",
    "        # print(f\"Player Name: {self.name}\")\n",
    "        # print(f\"Back Number: {self.back_number}\")\n",
    "        print(f\"Position: {self.position}\")\n",
    "        print(f\"Batting Average: {self.avg}\")"
   ]
  },
  {
   "cell_type": "code",
   "execution_count": 11,
   "metadata": {},
   "outputs": [
    {
     "name": "stdout",
     "output_type": "stream",
     "text": [
      "This is Player Class\n",
      "Player Name: Hong Gildong\n",
      "Back Number: 1\n"
     ]
    }
   ],
   "source": [
    "gildong = Player(\"Hong Gildong\", 1)\n",
    "gildong.print_stat()"
   ]
  },
  {
   "cell_type": "code",
   "execution_count": 12,
   "metadata": {},
   "outputs": [
    {
     "name": "stdout",
     "output_type": "stream",
     "text": [
      "This is SoccerPlayer Class\n",
      "Player Name: Lionel Messi\n",
      "Back Number: 10\n",
      "Position: Forward\n"
     ]
    }
   ],
   "source": [
    "messi = SoccerPlayer(\"Lionel Messi\", 10, \"Forward\")\n",
    "messi.print_stat()"
   ]
  },
  {
   "cell_type": "code",
   "execution_count": 13,
   "metadata": {},
   "outputs": [
    {
     "name": "stdout",
     "output_type": "stream",
     "text": [
      "This is BaseballPlayer Class\n",
      "Player Name: Lee Daeho\n",
      "Back Number: 10\n",
      "Position: 1B\n",
      "Batting Average: 0.345\n"
     ]
    }
   ],
   "source": [
    "daeho = BaseballPlayer(\"Lee Daeho\", 10, \"1B\", 0.345)\n",
    "daeho.print_stat()"
   ]
  },
  {
   "cell_type": "code",
   "execution_count": 14,
   "metadata": {},
   "outputs": [
    {
     "name": "stdout",
     "output_type": "stream",
     "text": [
      "This is BaseballPlayer Class\n",
      "Player Name: Choo Shinsoo\n",
      "Back Number: 17\n",
      "Position: RF\n",
      "Batting Average: 0.3\n"
     ]
    }
   ],
   "source": [
    "shinsoo = BaseballPlayer(\"Choo Shinsoo\", 17, \"RF\", 0.300)\n",
    "shinsoo.print_stat()"
   ]
  },
  {
   "cell_type": "markdown",
   "metadata": {},
   "source": [
    "## 가시성 (비공개 속성)"
   ]
  },
  {
   "cell_type": "code",
   "execution_count": 15,
   "metadata": {},
   "outputs": [],
   "source": [
    "class Player():\n",
    "    def __init__(self, name, back_number):\n",
    "        self.__name = name\n",
    "        self.__back_number = back_number\n",
    "        \n",
    "    def print_stat(self):\n",
    "        print(\"This is Player Class\")\n",
    "        print(f\"Player Name: {self.__name}\")\n",
    "        print(f\"Back Number: {self.__back_number}\")\n",
    "    \n",
    "    def change_back_number(self, new_number):\n",
    "        print(f\"Change Back Number: From {self.__back_number} to {new_number}\")\n",
    "        self.__back_number = new_number"
   ]
  },
  {
   "cell_type": "code",
   "execution_count": 16,
   "metadata": {},
   "outputs": [
    {
     "name": "stdout",
     "output_type": "stream",
     "text": [
      "Change Back Number: From 1 to 10\n",
      "This is Player Class\n",
      "Player Name: Hong Gildong\n",
      "Back Number: 10\n"
     ]
    }
   ],
   "source": [
    "gildong = Player(\"Hong Gildong\", 1)\n",
    "gildong.change_back_number(10)\n",
    "gildong.print_stat()"
   ]
  },
  {
   "cell_type": "markdown",
   "metadata": {},
   "source": [
    "## 가시성 예제 (간접적으로 private 구현)"
   ]
  },
  {
   "cell_type": "code",
   "execution_count": 17,
   "metadata": {},
   "outputs": [
    {
     "ename": "AttributeError",
     "evalue": "'Player' object has no attribute '__name'",
     "output_type": "error",
     "traceback": [
      "\u001b[0;31m---------------------------------------------------------------------------\u001b[0m",
      "\u001b[0;31mAttributeError\u001b[0m                            Traceback (most recent call last)",
      "\u001b[0;32m/var/folders/yr/jd3hph_53llgn3rcd194plzc0000gp/T/ipykernel_26311/3223675372.py\u001b[0m in \u001b[0;36m<module>\u001b[0;34m\u001b[0m\n\u001b[0;32m----> 1\u001b[0;31m \u001b[0mprint\u001b[0m\u001b[0;34m(\u001b[0m\u001b[0mgildong\u001b[0m\u001b[0;34m.\u001b[0m\u001b[0m__name\u001b[0m\u001b[0;34m)\u001b[0m\u001b[0;34m\u001b[0m\u001b[0;34m\u001b[0m\u001b[0m\n\u001b[0m\u001b[1;32m      2\u001b[0m \u001b[0mprint\u001b[0m\u001b[0;34m(\u001b[0m\u001b[0mgildong\u001b[0m\u001b[0;34m.\u001b[0m\u001b[0m__back_number\u001b[0m\u001b[0;34m)\u001b[0m\u001b[0;34m\u001b[0m\u001b[0;34m\u001b[0m\u001b[0m\n",
      "\u001b[0;31mAttributeError\u001b[0m: 'Player' object has no attribute '__name'"
     ]
    }
   ],
   "source": [
    "print(gildong.__name)\n",
    "print(gildong.__back_number)"
   ]
  },
  {
   "cell_type": "code",
   "execution_count": 18,
   "metadata": {},
   "outputs": [
    {
     "name": "stdout",
     "output_type": "stream",
     "text": [
      "Hong Gildong\n",
      "10\n"
     ]
    }
   ],
   "source": [
    "print(gildong._Player__name)\n",
    "print(gildong._Player__back_number)"
   ]
  },
  {
   "cell_type": "code",
   "execution_count": 19,
   "metadata": {},
   "outputs": [
    {
     "name": "stdout",
     "output_type": "stream",
     "text": [
      "3\n",
      "4\n",
      "2\n"
     ]
    }
   ],
   "source": [
    "class A():\n",
    "    def __init__(self):\n",
    "        self.no_underbar = 1\n",
    "        self.__dunderbar = 2\n",
    "        \n",
    "class B(A):\n",
    "    def __init__(self):\n",
    "        super().__init__()\n",
    "        self.no_underbar = 3\n",
    "        self.__dunderbar = 4\n",
    "        \n",
    "b = B()\n",
    "\n",
    "print(b.no_underbar)\n",
    "print(b._B__dunderbar)\n",
    "print(b._A__dunderbar)"
   ]
  },
  {
   "cell_type": "markdown",
   "metadata": {},
   "source": [
    "# Modules and packages"
   ]
  },
  {
   "cell_type": "markdown",
   "metadata": {},
   "source": [
    "### Function:\n",
    "\n",
    "![func](https://losskatsu.github.io/assets/images/programming/function-module-package/01.JPG)\n",
    "\n",
    "### Module:\n",
    "\n",
    "![module](https://losskatsu.github.io/assets/images/programming/function-module-package/03.JPG)\n",
    "\n",
    "### Package (or Library):\n",
    "\n",
    "![package](https://losskatsu.github.io/assets/images/programming/function-module-package/07.JPG)"
   ]
  },
  {
   "cell_type": "markdown",
   "metadata": {},
   "source": [
    "## Make your own module"
   ]
  },
  {
   "cell_type": "markdown",
   "metadata": {},
   "source": [
    "For Google Colab:"
   ]
  },
  {
   "cell_type": "code",
   "execution_count": 20,
   "metadata": {},
   "outputs": [
    {
     "name": "stdout",
     "output_type": "stream",
     "text": [
      "zsh:1: command not found: wget\n"
     ]
    }
   ],
   "source": [
    "!wget https://raw.githubusercontent.com/crazytb/schadvmachinelearning/main/mymodule.py"
   ]
  },
  {
   "cell_type": "markdown",
   "metadata": {},
   "source": [
    "For local IDE:"
   ]
  },
  {
   "cell_type": "code",
   "execution_count": 21,
   "metadata": {},
   "outputs": [],
   "source": [
    "# imported the requests library\n",
    "import requests\n",
    "url = \"https://raw.githubusercontent.com/crazytb/schadvmachinelearning/main/mymodule.py\"\n",
    "  \n",
    "# URL of the image to be downloaded is defined as url\n",
    "r = requests.get(url) # create HTTP response object\n",
    "\n",
    "# send a HTTP request to the server and save\n",
    "# the HTTP response in a response object called r\n",
    "with open(\"mymodule.py\",'wb') as f:\n",
    "  \n",
    "    # Saving received content as a png file in\n",
    "    # binary format\n",
    "  \n",
    "    # write the contents of the response (r.content)\n",
    "    # to a new file in binary mode.\n",
    "    f.write(r.content)"
   ]
  },
  {
   "cell_type": "markdown",
   "metadata": {},
   "source": [
    "### 1. from \\<package\\> import *"
   ]
  },
  {
   "cell_type": "code",
   "execution_count": null,
   "metadata": {},
   "outputs": [
    {
     "name": "stdout",
     "output_type": "stream",
     "text": [
      "Outside mymodule.py\n",
      "Hello, World!\n"
     ]
    },
    {
     "ename": "NameError",
     "evalue": "name '_world' is not defined",
     "output_type": "error",
     "traceback": [
      "\u001b[0;31m---------------------------------------------------------------------------\u001b[0m",
      "\u001b[0;31mNameError\u001b[0m                                 Traceback (most recent call last)",
      "\u001b[0;32m/var/folders/yr/jd3hph_53llgn3rcd194plzc0000gp/T/ipykernel_32234/1739528863.py\u001b[0m in \u001b[0;36m<module>\u001b[0;34m\u001b[0m\n\u001b[1;32m      2\u001b[0m \u001b[0;34m\u001b[0m\u001b[0m\n\u001b[1;32m      3\u001b[0m \u001b[0mworld\u001b[0m\u001b[0;34m(\u001b[0m\u001b[0;34m)\u001b[0m\u001b[0;34m\u001b[0m\u001b[0;34m\u001b[0m\u001b[0m\n\u001b[0;32m----> 4\u001b[0;31m \u001b[0m_world\u001b[0m\u001b[0;34m(\u001b[0m\u001b[0;34m)\u001b[0m\u001b[0;34m\u001b[0m\u001b[0;34m\u001b[0m\u001b[0m\n\u001b[0m",
      "\u001b[0;31mNameError\u001b[0m: name '_world' is not defined"
     ]
    }
   ],
   "source": [
    "from mymodule import *\n",
    "\n",
    "world()\n",
    "_world()"
   ]
  },
  {
   "cell_type": "markdown",
   "metadata": {},
   "source": [
    "### 2. from \\<package\\> import \\<module\\>"
   ]
  },
  {
   "cell_type": "code",
   "execution_count": 22,
   "metadata": {},
   "outputs": [
    {
     "name": "stdout",
     "output_type": "stream",
     "text": [
      "Outside mymodule.py\n",
      "Hello, World!\n",
      "_Hello, World!\n"
     ]
    }
   ],
   "source": [
    "from mymodule import world, _world\n",
    "\n",
    "world()\n",
    "_world()"
   ]
  },
  {
   "cell_type": "markdown",
   "metadata": {},
   "source": [
    "### 3. import \\<module\\> (as \\<abbr\\>)"
   ]
  },
  {
   "cell_type": "code",
   "execution_count": 23,
   "metadata": {},
   "outputs": [
    {
     "name": "stdout",
     "output_type": "stream",
     "text": [
      "Hello, World!\n",
      "_Hello, World!\n"
     ]
    }
   ],
   "source": [
    "import mymodule\n",
    "\n",
    "mymodule.world()\n",
    "mymodule._world()"
   ]
  },
  {
   "cell_type": "code",
   "execution_count": 24,
   "metadata": {},
   "outputs": [
    {
     "name": "stdout",
     "output_type": "stream",
     "text": [
      "Hello, World!\n",
      "_Hello, World!\n"
     ]
    }
   ],
   "source": [
    "import mymodule as mm\n",
    "\n",
    "mm.world()\n",
    "mm._world()"
   ]
  },
  {
   "cell_type": "code",
   "execution_count": null,
   "metadata": {},
   "outputs": [],
   "source": []
  }
 ],
 "metadata": {
  "kernelspec": {
   "display_name": "Python 3",
   "language": "python",
   "name": "python3"
  },
  "language_info": {
   "codemirror_mode": {
    "name": "ipython",
    "version": 3
   },
   "file_extension": ".py",
   "mimetype": "text/x-python",
   "name": "python",
   "nbconvert_exporter": "python",
   "pygments_lexer": "ipython3",
   "version": "3.9.7"
  },
  "orig_nbformat": 4
 },
 "nbformat": 4,
 "nbformat_minor": 2
}
