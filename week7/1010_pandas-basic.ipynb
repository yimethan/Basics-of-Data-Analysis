{
 "cells": [
  {
   "cell_type": "markdown",
   "metadata": {},
   "source": [
    "# 데이터 시리즈와 프레임 다루기"
   ]
  },
  {
   "cell_type": "markdown",
   "metadata": {},
   "source": [
    "## Series: 1-D data vector (similar to np.array)\n",
    "Numpy array: https://numpy.org/doc/stable/reference/generated/numpy.array.html\n",
    "\n",
    "Pandas series: https://pandas.pydata.org/docs/reference/series.html"
   ]
  },
  {
   "cell_type": "code",
   "execution_count": 1,
   "metadata": {},
   "outputs": [
    {
     "data": {
      "text/plain": [
       "0     2.2\n",
       "1     3.4\n",
       "2     2.8\n",
       "3     1.6\n",
       "4     2.3\n",
       "5     2.7\n",
       "6     3.4\n",
       "7     3.2\n",
       "8     2.8\n",
       "9     3.8\n",
       "10   -0.4\n",
       "11    1.6\n",
       "12    3.2\n",
       "13    2.1\n",
       "14    1.5\n",
       "15    1.5\n",
       "dtype: float64"
      ]
     },
     "execution_count": 1,
     "metadata": {},
     "output_type": "execute_result"
    }
   ],
   "source": [
    "import pandas as pd\n",
    "# 마지막 값이 잘못되었다. 잠시 후에 이를 수정해보자.\n",
    "inflation = pd.Series((2.2, 3.4, 2.8, 1.6, 2.3, 2.7, 3.4, 3.2, 2.8, 3.8, -0.4, 1.6, 3.2, 2.1, 1.5, 1.5))\n",
    "inflation"
   ]
  },
  {
   "cell_type": "code",
   "execution_count": 2,
   "metadata": {},
   "outputs": [
    {
     "data": {
      "text/plain": [
       "16"
      ]
     },
     "execution_count": 2,
     "metadata": {},
     "output_type": "execute_result"
    }
   ],
   "source": [
    "len(inflation)"
   ]
  },
  {
   "cell_type": "code",
   "execution_count": 3,
   "metadata": {},
   "outputs": [
    {
     "data": {
      "text/plain": [
       "array([ 2.2,  3.4,  2.8,  1.6,  2.3,  2.7,  3.4,  3.2,  2.8,  3.8, -0.4,\n",
       "        1.6,  3.2,  2.1,  1.5,  1.5])"
      ]
     },
     "execution_count": 3,
     "metadata": {},
     "output_type": "execute_result"
    }
   ],
   "source": [
    "inflation.values"
   ]
  },
  {
   "cell_type": "markdown",
   "metadata": {},
   "source": [
    "### Pandas datastructure has \"index\" --> Good compatibility with Dictionary\n",
    "https://pandas.pydata.org/docs/reference/api/pandas.Series.index.html#pandas.Series.index\n",
    "--> Returns: Index"
   ]
  },
  {
   "cell_type": "code",
   "execution_count": 4,
   "metadata": {},
   "outputs": [
    {
     "data": {
      "text/plain": [
       "RangeIndex(start=0, stop=16, step=1)"
      ]
     },
     "execution_count": 4,
     "metadata": {},
     "output_type": "execute_result"
    }
   ],
   "source": [
    "inflation.index"
   ]
  },
  {
   "cell_type": "code",
   "execution_count": 13,
   "metadata": {},
   "outputs": [
    {
     "data": {
      "text/plain": [
       "pandas.core.indexes.numeric.Int64Index"
      ]
     },
     "execution_count": 13,
     "metadata": {},
     "output_type": "execute_result"
    }
   ],
   "source": [
    "type(inflation.index)"
   ]
  },
  {
   "cell_type": "markdown",
   "metadata": {},
   "source": [
    "https://pandas.pydata.org/docs/reference/api/pandas.Index.values.html"
   ]
  },
  {
   "cell_type": "code",
   "execution_count": 5,
   "metadata": {},
   "outputs": [
    {
     "data": {
      "text/plain": [
       "array([ 0,  1,  2,  3,  4,  5,  6,  7,  8,  9, 10, 11, 12, 13, 14, 15])"
      ]
     },
     "execution_count": 5,
     "metadata": {},
     "output_type": "execute_result"
    }
   ],
   "source": [
    "inflation.index.values"
   ]
  },
  {
   "cell_type": "code",
   "execution_count": 6,
   "metadata": {},
   "outputs": [
    {
     "data": {
      "text/plain": [
       "1999    2.2\n",
       "2000    3.4\n",
       "2001    2.8\n",
       "2002    1.6\n",
       "2003    2.3\n",
       "2004    2.7\n",
       "2005    3.4\n",
       "2006    3.2\n",
       "2007    2.8\n",
       "2008    3.8\n",
       "2009   -0.4\n",
       "2010    1.6\n",
       "2011    3.2\n",
       "2012    2.1\n",
       "2013    1.5\n",
       "2014    1.6\n",
       "2015    NaN\n",
       "dtype: float64"
      ]
     },
     "execution_count": 6,
     "metadata": {},
     "output_type": "execute_result"
    }
   ],
   "source": [
    "import numpy as np\n",
    "\n",
    "inflation = pd.Series({1999: 2.2, \n",
    "                       2000: 3.4, \n",
    "                       2001: 2.8, \n",
    "                       2002: 1.6, \n",
    "                       2003: 2.3, \n",
    "                       2004: 2.7, \n",
    "                       2005: 3.4, \n",
    "                       2006: 3.2, \n",
    "                       2007: 2.8, \n",
    "                       2008: 3.8, \n",
    "                       2009: -0.4, \n",
    "                       2010: 1.6, \n",
    "                       2011: 3.2, \n",
    "                       2012: 2.1, \n",
    "                       2013: 1.5, \n",
    "                       2014: 1.6, \n",
    "                       2015: np.nan})\n",
    "inflation"
   ]
  },
  {
   "cell_type": "code",
   "execution_count": 17,
   "metadata": {},
   "outputs": [],
   "source": [
    "inflation = pd.Series((2.2, 3.4, 2.8, 1.6, 2.3, 2.7, 3.4, 3.2, 2.8, 3.8, -0.4, 1.6, 3.2, 2.1, 1.6, 1.5))\n",
    "inflation.index = pd.Index(range(1999, 2015))"
   ]
  },
  {
   "cell_type": "code",
   "execution_count": 18,
   "metadata": {},
   "outputs": [
    {
     "data": {
      "text/plain": [
       "RangeIndex(start=1999, stop=2015, step=1)"
      ]
     },
     "execution_count": 18,
     "metadata": {},
     "output_type": "execute_result"
    }
   ],
   "source": [
    "inflation.index"
   ]
  },
  {
   "cell_type": "code",
   "execution_count": 20,
   "metadata": {},
   "outputs": [
    {
     "data": {
      "text/plain": [
       "1999    2.2\n",
       "2000    3.4\n",
       "2001    2.8\n",
       "2002    1.6\n",
       "2003    2.3\n",
       "2004    2.7\n",
       "2005    3.4\n",
       "2006    3.2\n",
       "2007    2.8\n",
       "2008    3.8\n",
       "2009   -0.4\n",
       "2010    1.6\n",
       "2011    3.2\n",
       "2012    2.1\n",
       "2013    1.6\n",
       "2014    1.5\n",
       "dtype: float64"
      ]
     },
     "execution_count": 20,
     "metadata": {},
     "output_type": "execute_result"
    }
   ],
   "source": [
    "inflation"
   ]
  },
  {
   "cell_type": "code",
   "execution_count": 8,
   "metadata": {},
   "outputs": [
    {
     "data": {
      "text/plain": [
       "1999    2.2\n",
       "2000    3.4\n",
       "2001    2.8\n",
       "2002    1.6\n",
       "2003    2.3\n",
       "2004    2.7\n",
       "2005    3.4\n",
       "2006    3.2\n",
       "2007    2.8\n",
       "2008    3.8\n",
       "2009   -0.4\n",
       "2010    1.6\n",
       "2011    3.2\n",
       "2012    2.1\n",
       "2013    1.6\n",
       "2014    1.5\n",
       "2015    NaN\n",
       "dtype: float64"
      ]
     },
     "execution_count": 8,
     "metadata": {},
     "output_type": "execute_result"
    }
   ],
   "source": [
    "inflation[2015] = np.nan\n",
    "inflation"
   ]
  },
  {
   "cell_type": "code",
   "execution_count": 21,
   "metadata": {},
   "outputs": [
    {
     "data": {
      "text/plain": [
       "Year\n",
       "1999    2.2\n",
       "2000    3.4\n",
       "2001    2.8\n",
       "2002    1.6\n",
       "2003    2.3\n",
       "2004    2.7\n",
       "2005    3.4\n",
       "2006    3.2\n",
       "2007    2.8\n",
       "2008    3.8\n",
       "2009   -0.4\n",
       "2010    1.6\n",
       "2011    3.2\n",
       "2012    2.1\n",
       "2013    1.6\n",
       "2014    1.5\n",
       "Name: Inflation Rate, dtype: float64"
      ]
     },
     "execution_count": 21,
     "metadata": {},
     "output_type": "execute_result"
    }
   ],
   "source": [
    "inflation.index.name = \"Year\" \n",
    "inflation.name = \"Inflation Rate\"\n",
    "inflation"
   ]
  },
  {
   "cell_type": "code",
   "execution_count": 10,
   "metadata": {},
   "outputs": [
    {
     "data": {
      "text/plain": [
       "Year\n",
       "1999    2.2\n",
       "2000    3.4\n",
       "2001    2.8\n",
       "2002    1.6\n",
       "2003    2.3\n",
       "2004    2.7\n",
       "2005    3.4\n",
       "2006    3.2\n",
       "2007    2.8\n",
       "2008    3.8\n",
       "2009   -0.4\n",
       "2010    1.6\n",
       "2011    3.2\n",
       "2012    2.1\n",
       "2013    1.6\n",
       "2014    1.5\n",
       "2015    NaN\n",
       "Name: Inflation Rate, dtype: float64"
      ]
     },
     "execution_count": 10,
     "metadata": {},
     "output_type": "execute_result"
    }
   ],
   "source": [
    "inflation.columns = [\"%\"]\n",
    "inflation"
   ]
  },
  {
   "cell_type": "code",
   "execution_count": 11,
   "metadata": {},
   "outputs": [
    {
     "data": {
      "text/plain": [
       "Year\n",
       "1999    2.2\n",
       "2000    3.4\n",
       "2001    2.8\n",
       "2002    1.6\n",
       "2003    2.3\n",
       "Name: Inflation Rate, dtype: float64"
      ]
     },
     "execution_count": 11,
     "metadata": {},
     "output_type": "execute_result"
    }
   ],
   "source": [
    "inflation.head()"
   ]
  },
  {
   "cell_type": "code",
   "execution_count": 12,
   "metadata": {},
   "outputs": [
    {
     "data": {
      "text/plain": [
       "Year\n",
       "2011    3.2\n",
       "2012    2.1\n",
       "2013    1.6\n",
       "2014    1.5\n",
       "2015    NaN\n",
       "Name: Inflation Rate, dtype: float64"
      ]
     },
     "execution_count": 12,
     "metadata": {},
     "output_type": "execute_result"
    }
   ],
   "source": [
    "inflation.tail()"
   ]
  },
  {
   "cell_type": "markdown",
   "metadata": {},
   "source": [
    "## Dataframe: 2-D data vector\n",
    "https://pandas.pydata.org/docs/reference/frame.html"
   ]
  },
  {
   "cell_type": "markdown",
   "metadata": {},
   "source": [
    "![](https://media.geeksforgeeks.org/wp-content/cdn-uploads/creating_dataframe1.png)"
   ]
  },
  {
   "cell_type": "markdown",
   "metadata": {},
   "source": [
    "### Making dataframe with dictionary of lists"
   ]
  },
  {
   "cell_type": "code",
   "execution_count": null,
   "metadata": {},
   "outputs": [],
   "source": [
    "df = pd.DataFrame({\"Name\": [\"Braund, Mr. Owen Harris\", \n",
    "                            \"Allen, Mr. William Henry\", \n",
    "                            \"Bonnell, Miss. Elizabeth\",],\n",
    "                   \"Age\": [22, \n",
    "                           35, \n",
    "                           58],\n",
    "                   \"Sex\": [\"male\", \n",
    "                           \"male\", \n",
    "                           \"female\"],})\n",
    "print(df)\n",
    "df"
   ]
  },
  {
   "cell_type": "markdown",
   "metadata": {},
   "source": [
    "### Each column of a dataframe is \"series\""
   ]
  },
  {
   "cell_type": "code",
   "execution_count": null,
   "metadata": {},
   "outputs": [],
   "source": [
    "print(df[\"Age\"])\n",
    "print(type(df[\"Age\"]))"
   ]
  },
  {
   "cell_type": "markdown",
   "metadata": {},
   "source": [
    "* c.f.) Series has no label."
   ]
  },
  {
   "cell_type": "code",
   "execution_count": null,
   "metadata": {},
   "outputs": [],
   "source": [
    "df[\"Age\"].max()"
   ]
  },
  {
   "cell_type": "markdown",
   "metadata": {},
   "source": [
    "* The describe() method provides a quick overview of the numerical data in a DataFrame."
   ]
  },
  {
   "cell_type": "code",
   "execution_count": null,
   "metadata": {},
   "outputs": [],
   "source": [
    "df.describe()"
   ]
  },
  {
   "cell_type": "markdown",
   "metadata": {},
   "source": [
    "### Reading tabular data"
   ]
  },
  {
   "cell_type": "code",
   "execution_count": null,
   "metadata": {},
   "outputs": [],
   "source": [
    "path = \"https://raw.githubusercontent.com/crazytb/schadvmachinelearning/main/\"\n",
    "filename = \"niaaa-report2009.csv\"\n",
    "\n",
    "alco2009 = pd.read_csv(path+filename, index_col=\"State\")\n",
    "alco2009"
   ]
  },
  {
   "cell_type": "code",
   "execution_count": null,
   "metadata": {},
   "outputs": [],
   "source": [
    "alco2009[\"Wine\"].head()"
   ]
  },
  {
   "cell_type": "code",
   "execution_count": null,
   "metadata": {},
   "outputs": [],
   "source": [
    "alco2009.Beer.tail()"
   ]
  },
  {
   "cell_type": "code",
   "execution_count": null,
   "metadata": {},
   "outputs": [],
   "source": [
    "alco2009[\"Total\"] = 0\n",
    "alco2009.head()"
   ]
  },
  {
   "cell_type": "code",
   "execution_count": null,
   "metadata": {},
   "outputs": [],
   "source": [
    "alco2009.columns.values"
   ]
  },
  {
   "cell_type": "code",
   "execution_count": null,
   "metadata": {},
   "outputs": [],
   "source": [
    "alco2009.index.values"
   ]
  },
  {
   "cell_type": "code",
   "execution_count": null,
   "metadata": {},
   "outputs": [],
   "source": [
    "titanic_file = \"https://raw.githubusercontent.com/pandas-dev/pandas/main/doc/data/titanic.csv\"\n",
    "titanic = pd.read_csv(titanic_file)\n",
    "titanic"
   ]
  },
  {
   "cell_type": "code",
   "execution_count": null,
   "metadata": {},
   "outputs": [],
   "source": [
    "titanic.dtypes"
   ]
  },
  {
   "cell_type": "code",
   "execution_count": null,
   "metadata": {},
   "outputs": [],
   "source": [
    "titanic.info()"
   ]
  },
  {
   "cell_type": "markdown",
   "metadata": {},
   "source": [
    "* When asking for the dtypes, no brackets are used! dtypes is an attribute of a DataFrame and Series. \n",
    "* Attributes of a DataFrame or Series do not need brackets. \n",
    "* Attributes represent a characteristic of a DataFrame/Series, whereas methods (which require brackets) do something"
   ]
  },
  {
   "cell_type": "code",
   "execution_count": null,
   "metadata": {},
   "outputs": [],
   "source": [
    "titanic.to_excel(\"titanic.xlsx\", sheet_name=\"passengers\", index=False)"
   ]
  },
  {
   "cell_type": "markdown",
   "metadata": {},
   "source": [
    "### Selecting specific columns"
   ]
  },
  {
   "cell_type": "code",
   "execution_count": null,
   "metadata": {},
   "outputs": [],
   "source": [
    "ages = titanic[\"Age\"]\n",
    "ages.head()"
   ]
  },
  {
   "cell_type": "code",
   "execution_count": null,
   "metadata": {},
   "outputs": [],
   "source": [
    "ages = titanic.Age\n",
    "ages.head()"
   ]
  },
  {
   "cell_type": "markdown",
   "metadata": {},
   "source": [
    "* To select multiple columns, use a list of column names within the selection brackets []."
   ]
  },
  {
   "cell_type": "code",
   "execution_count": null,
   "metadata": {},
   "outputs": [],
   "source": [
    "age_sex = titanic[[\"Age\", \"Sex\"]]\n",
    "age_sex.head()"
   ]
  },
  {
   "cell_type": "markdown",
   "metadata": {},
   "source": [
    "### Boolean indexing\n",
    "https://pandas.pydata.org/docs/user_guide/indexing.html#indexing-boolean"
   ]
  },
  {
   "cell_type": "code",
   "execution_count": null,
   "metadata": {},
   "outputs": [],
   "source": [
    "above_35 = titanic[titanic[\"Age\"] > 35]\n",
    "above_35.head(10)"
   ]
  },
  {
   "cell_type": "markdown",
   "metadata": {},
   "source": [
    "## How to select specific rows and columns from a dataframe\n",
    "![](https://pandas.pydata.org/docs/_images/03_subset_columns_rows.svg)"
   ]
  },
  {
   "cell_type": "markdown",
   "metadata": {},
   "source": [
    "```python\n",
    "loc/iloc[row_indexer, (column_indexer)]\n",
    "```"
   ]
  },
  {
   "cell_type": "code",
   "execution_count": null,
   "metadata": {},
   "outputs": [],
   "source": [
    "adult_names = titanic.loc[titanic[\"Age\"] > 35, \"Name\"]\n",
    "adult_names.head()"
   ]
  },
  {
   "cell_type": "code",
   "execution_count": null,
   "metadata": {},
   "outputs": [],
   "source": [
    "adult_names = titanic.Name[titanic.Age > 35]\n",
    "adult_names.head()"
   ]
  },
  {
   "cell_type": "code",
   "execution_count": null,
   "metadata": {},
   "outputs": [],
   "source": [
    "sliced_1 = titanic.iloc[3:10, 0:2]\n",
    "sliced_1"
   ]
  },
  {
   "cell_type": "code",
   "execution_count": null,
   "metadata": {},
   "outputs": [],
   "source": [
    "sliced_2 = titanic.iloc[[0, 2, 4, 6, 8], [0, 2, 4]]\n",
    "sliced_2"
   ]
  }
 ],
 "metadata": {
  "kernelspec": {
   "display_name": "Python 3.9.6 64-bit",
   "language": "python",
   "name": "python3"
  },
  "language_info": {
   "codemirror_mode": {
    "name": "ipython",
    "version": 3
   },
   "file_extension": ".py",
   "mimetype": "text/x-python",
   "name": "python",
   "nbconvert_exporter": "python",
   "pygments_lexer": "ipython3",
   "version": "3.9.7"
  },
  "orig_nbformat": 4,
  "vscode": {
   "interpreter": {
    "hash": "4ed7c5303468c6f42560d32e811323012438a4f036415de2c7ac2fb5dad5e44a"
   }
  }
 },
 "nbformat": 4,
 "nbformat_minor": 2
}
