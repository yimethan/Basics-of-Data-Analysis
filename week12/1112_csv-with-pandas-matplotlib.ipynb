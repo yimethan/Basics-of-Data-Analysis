{
 "cells": [
  {
   "cell_type": "markdown",
   "metadata": {},
   "source": [
    "# 파일 읽기"
   ]
  },
  {
   "cell_type": "code",
   "execution_count": 1,
   "metadata": {},
   "outputs": [],
   "source": [
    "from urllib import request\n",
    "\n",
    "try:\n",
    "    import google.colab\n",
    "    IN_COLAB = True\n",
    "except:\n",
    "    IN_COLAB = False\n",
    "\n",
    "if IN_COLAB == True:\n",
    "    !wget https://raw.githubusercontent.com/crazytb/schadvmachinelearning/master/postcard.txt -O postcard.txt\n",
    "else:\n",
    "    url = \"https://raw.githubusercontent.com/crazytb/schadvmachinelearning/master/\"\n",
    "    filename = \"postcard.txt\"\n",
    "    request.urlretrieve(url+filename,filename)"
   ]
  },
  {
   "cell_type": "markdown",
   "metadata": {},
   "source": [
    "## open 함수\n",
    "https://docs.python.org/3/library/functions.html#open\n",
    "\n",
    "https://docs.python.org/3/tutorial/inputoutput.html#reading-and-writing-files"
   ]
  },
  {
   "cell_type": "markdown",
   "metadata": {},
   "source": [
    "## read 함수"
   ]
  },
  {
   "cell_type": "code",
   "execution_count": 2,
   "metadata": {},
   "outputs": [
    {
     "name": "stdout",
     "output_type": "stream",
     "text": [
      "<class 'str'>\n",
      "                August 29, 1943\n",
      "Dear Iers:\n",
      "\n",
      "After surrender, health improved\n",
      "fifty percent.  Better food etc.\n",
      "Americans lost confidence\n",
      "in Philippines.  Am comfortable\n",
      "in Nippon.  Mother: Invest\n",
      "30%, salary, in business.  Love\n",
      "\n",
      "                (signed)\n",
      "                Frank G. Jonelis\n"
     ]
    }
   ],
   "source": [
    "# 파일을 처음부터 끝까지 이어서 읽기\n",
    "f = open(\"postcard.txt\")\n",
    "statement = f.read()\n",
    "\n",
    "print(type(statement))\n",
    "print(statement)\n",
    "f.close()"
   ]
  },
  {
   "cell_type": "code",
   "execution_count": 3,
   "metadata": {},
   "outputs": [
    {
     "name": "stdout",
     "output_type": "stream",
     "text": [
      "<class 'str'>\n",
      "                August 29, 1943\n",
      "Dear Iers:\n",
      "\n",
      "After surrender, health improved\n",
      "fifty percent.  Better food etc.\n",
      "Americans lost confidence\n",
      "in Philippines.  Am comfortable\n",
      "in Nippon.  Mother: Invest\n",
      "30%, salary, in business.  Love\n",
      "\n",
      "                (signed)\n",
      "                Frank G. Jonelis\n"
     ]
    }
   ],
   "source": [
    "# 파일을 처음부터 끝까지 이어서 읽기\n",
    "with open(\"postcard.txt\") as f:\n",
    "    statement = f.read()\n",
    "    print(type(statement))\n",
    "    print(statement)"
   ]
  },
  {
   "cell_type": "code",
   "execution_count": 4,
   "metadata": {},
   "outputs": [
    {
     "name": "stdout",
     "output_type": "stream",
     "text": [
      "<class 'str'>\n",
      "                August 29, 194\n"
     ]
    }
   ],
   "source": [
    "# 특정 글자수만큼 읽기\n",
    "f = open(\"postcard.txt\")\n",
    "statement = f.read(30)\n",
    "\n",
    "print(type(statement))\n",
    "print(statement)\n",
    "f.close()"
   ]
  },
  {
   "cell_type": "markdown",
   "metadata": {},
   "source": [
    "## readline 함수"
   ]
  },
  {
   "cell_type": "code",
   "execution_count": 5,
   "metadata": {},
   "outputs": [
    {
     "name": "stdout",
     "output_type": "stream",
     "text": [
      "                August 29, 1943\n",
      "\n",
      "Dear Iers:\n",
      "\n",
      "\n",
      "\n",
      "After surrender, health improved\n",
      "\n",
      "fifty percent.  Better food etc.\n",
      "\n"
     ]
    }
   ],
   "source": [
    "f = open(\"postcard.txt\")\n",
    "for _ in range(5):\n",
    "    print(f.readline())\n",
    "f.close()"
   ]
  },
  {
   "cell_type": "markdown",
   "metadata": {},
   "source": [
    "## readlines 함수"
   ]
  },
  {
   "cell_type": "code",
   "execution_count": 6,
   "metadata": {},
   "outputs": [],
   "source": [
    "f = open(\"postcard.txt\")\n",
    "f.readlines()\n",
    "f.close()"
   ]
  },
  {
   "cell_type": "code",
   "execution_count": 7,
   "metadata": {},
   "outputs": [
    {
     "name": "stdout",
     "output_type": "stream",
     "text": [
      "['                August 29, 1943\\n', 'Dear Iers:\\n', '\\n', 'After surrender, health improved\\n', 'fifty percent.  Better food etc.\\n', 'Americans lost confidence\\n', 'in Philippines.  Am comfortable\\n', 'in Nippon.  Mother: Invest\\n', '30%, salary, in business.  Love\\n', '\\n', '                (signed)\\n', '                Frank G. Jonelis']\n"
     ]
    }
   ],
   "source": [
    "with open(\"postcard.txt\") as f:\n",
    "    s = f.readlines()\n",
    "\n",
    "print(s)"
   ]
  },
  {
   "cell_type": "code",
   "execution_count": 8,
   "metadata": {},
   "outputs": [
    {
     "name": "stdout",
     "output_type": "stream",
     "text": [
      "['                August 29, 1943\\n', 'Dear Iers:\\n', '\\n', 'After surrender, health improved\\n', 'fifty percent.  Better food etc.\\n', 'Americans lost confidence\\n', 'in Philippines.  Am comfortable\\n', 'in Nippon.  Mother: Invest\\n', '30%, salary, in business.  Love\\n', '\\n', '                (signed)\\n', '                Frank G. Jonelis']\n"
     ]
    }
   ],
   "source": [
    "with open(\"postcard.txt\") as f:\n",
    "    s = list(f)\n",
    "\n",
    "print(s)"
   ]
  },
  {
   "cell_type": "markdown",
   "metadata": {},
   "source": [
    "# CSV 파일 다루기 with numpy"
   ]
  },
  {
   "cell_type": "code",
   "execution_count": 9,
   "metadata": {},
   "outputs": [],
   "source": [
    "import csv\n",
    "import numpy as np\n",
    "\n",
    "try:\n",
    "    import google.colab\n",
    "    IN_COLAB = True\n",
    "except:\n",
    "    IN_COLAB = False\n",
    "\n",
    "if IN_COLAB == True:\n",
    "    !wget https://raw.githubusercontent.com/crazytb/schadvmachinelearning/master/gold_price_1979-2021.csv -O gold_price_1979-2021.csv\n",
    "else:\n",
    "    url = \"https://raw.githubusercontent.com/crazytb/schadvmachinelearning/master/\"\n",
    "    filename = \"gold_price_1979-2021.csv\"\n",
    "    request.urlretrieve(url+filename,filename)"
   ]
  },
  {
   "cell_type": "code",
   "execution_count": 10,
   "metadata": {},
   "outputs": [],
   "source": [
    "with open(\"gold_price_1979-2021.csv\") as infile:\n",
    "    data_1 = np.array(list(csv.reader(infile)))"
   ]
  },
  {
   "cell_type": "code",
   "execution_count": 11,
   "metadata": {},
   "outputs": [
    {
     "data": {
      "text/plain": [
       "(512, 19)"
      ]
     },
     "execution_count": 11,
     "metadata": {},
     "output_type": "execute_result"
    }
   ],
   "source": [
    "data_1.shape"
   ]
  },
  {
   "cell_type": "code",
   "execution_count": 12,
   "metadata": {},
   "outputs": [
    {
     "data": {
      "text/plain": [
       "array(['Date', 'United States(USD)', 'Europe(EUR)', 'Japan(JPY)',\n",
       "       'United Kingdom(GBP)', 'Canada(CAD)', 'Switzerland(CHF)',\n",
       "       'India(INR)', 'China(CNY)', 'Turkey(TRY)', 'Saudi Arabia(SAR)',\n",
       "       'Indonesia(IDR)', 'United Arab Emirates(AED)', 'Thailand(THB)',\n",
       "       'Vietnam(VND)', 'Egypt(EGP)', 'South Korean(KRW)',\n",
       "       'Australia(AUD)', 'South Africa(ZAR)'], dtype='<U25')"
      ]
     },
     "execution_count": 12,
     "metadata": {},
     "output_type": "execute_result"
    }
   ],
   "source": [
    "data_1[0]"
   ]
  },
  {
   "cell_type": "code",
   "execution_count": 13,
   "metadata": {},
   "outputs": [],
   "source": [
    "data_2 = np.loadtxt(\"gold_price_1979-2021.csv\", delimiter=\",\", dtype='str')"
   ]
  },
  {
   "cell_type": "code",
   "execution_count": 14,
   "metadata": {},
   "outputs": [
    {
     "data": {
      "text/plain": [
       "(512, 19)"
      ]
     },
     "execution_count": 14,
     "metadata": {},
     "output_type": "execute_result"
    }
   ],
   "source": [
    "data_2.shape"
   ]
  },
  {
   "cell_type": "code",
   "execution_count": 15,
   "metadata": {},
   "outputs": [
    {
     "data": {
      "text/plain": [
       "array(['Date', 'United States(USD)', 'Europe(EUR)', 'Japan(JPY)',\n",
       "       'United Kingdom(GBP)', 'Canada(CAD)', 'Switzerland(CHF)',\n",
       "       'India(INR)', 'China(CNY)', 'Turkey(TRY)', 'Saudi Arabia(SAR)',\n",
       "       'Indonesia(IDR)', 'United Arab Emirates(AED)', 'Thailand(THB)',\n",
       "       'Vietnam(VND)', 'Egypt(EGP)', 'South Korean(KRW)',\n",
       "       'Australia(AUD)', 'South Africa(ZAR)'], dtype='<U25')"
      ]
     },
     "execution_count": 15,
     "metadata": {},
     "output_type": "execute_result"
    }
   ],
   "source": [
    "data_2[0]"
   ]
  },
  {
   "cell_type": "markdown",
   "metadata": {
    "deletable": true,
    "editable": true
   },
   "source": [
    "# CSV 파일 다루기 with Pandas DataFrame"
   ]
  },
  {
   "cell_type": "code",
   "execution_count": 16,
   "metadata": {},
   "outputs": [
    {
     "data": {
      "text/html": [
       "<div>\n",
       "<style scoped>\n",
       "    .dataframe tbody tr th:only-of-type {\n",
       "        vertical-align: middle;\n",
       "    }\n",
       "\n",
       "    .dataframe tbody tr th {\n",
       "        vertical-align: top;\n",
       "    }\n",
       "\n",
       "    .dataframe thead th {\n",
       "        text-align: right;\n",
       "    }\n",
       "</style>\n",
       "<table border=\"1\" class=\"dataframe\">\n",
       "  <thead>\n",
       "    <tr style=\"text-align: right;\">\n",
       "      <th></th>\n",
       "      <th>Date</th>\n",
       "      <th>United States(USD)</th>\n",
       "      <th>Europe(EUR)</th>\n",
       "      <th>Japan(JPY)</th>\n",
       "      <th>United Kingdom(GBP)</th>\n",
       "      <th>Canada(CAD)</th>\n",
       "      <th>Switzerland(CHF)</th>\n",
       "      <th>India(INR)</th>\n",
       "      <th>China(CNY)</th>\n",
       "      <th>Turkey(TRY)</th>\n",
       "      <th>Saudi Arabia(SAR)</th>\n",
       "      <th>Indonesia(IDR)</th>\n",
       "      <th>United Arab Emirates(AED)</th>\n",
       "      <th>Thailand(THB)</th>\n",
       "      <th>Vietnam(VND)</th>\n",
       "      <th>Egypt(EGP)</th>\n",
       "      <th>South Korean(KRW)</th>\n",
       "      <th>Australia(AUD)</th>\n",
       "      <th>South Africa(ZAR)</th>\n",
       "    </tr>\n",
       "  </thead>\n",
       "  <tbody>\n",
       "    <tr>\n",
       "      <th>0</th>\n",
       "      <td>31-01-1979</td>\n",
       "      <td>233.7</td>\n",
       "      <td>144.8</td>\n",
       "      <td>45160.3</td>\n",
       "      <td>117.4</td>\n",
       "      <td>267.1</td>\n",
       "      <td>379.3</td>\n",
       "      <td>1840.8</td>\n",
       "      <td>NaN</td>\n",
       "      <td>NaN</td>\n",
       "      <td>745.2</td>\n",
       "      <td>139739.3</td>\n",
       "      <td>856.1</td>\n",
       "      <td>4511.3</td>\n",
       "      <td>NaN</td>\n",
       "      <td>NaN</td>\n",
       "      <td>108235.8</td>\n",
       "      <td>197.2</td>\n",
       "      <td>194.5</td>\n",
       "    </tr>\n",
       "    <tr>\n",
       "      <th>1</th>\n",
       "      <td>28-02-1979</td>\n",
       "      <td>251.3</td>\n",
       "      <td>154.6</td>\n",
       "      <td>50209.1</td>\n",
       "      <td>124.2</td>\n",
       "      <td>295.5</td>\n",
       "      <td>413.6</td>\n",
       "      <td>2011.7</td>\n",
       "      <td>NaN</td>\n",
       "      <td>NaN</td>\n",
       "      <td>827.8</td>\n",
       "      <td>154683.1</td>\n",
       "      <td>946.6</td>\n",
       "      <td>4985.7</td>\n",
       "      <td>NaN</td>\n",
       "      <td>NaN</td>\n",
       "      <td>119929.3</td>\n",
       "      <td>219.6</td>\n",
       "      <td>209.4</td>\n",
       "    </tr>\n",
       "    <tr>\n",
       "      <th>2</th>\n",
       "      <td>30-03-1979</td>\n",
       "      <td>240.1</td>\n",
       "      <td>148.0</td>\n",
       "      <td>50274.3</td>\n",
       "      <td>116.2</td>\n",
       "      <td>278.2</td>\n",
       "      <td>406.2</td>\n",
       "      <td>1940.2</td>\n",
       "      <td>NaN</td>\n",
       "      <td>NaN</td>\n",
       "      <td>796.7</td>\n",
       "      <td>148844.2</td>\n",
       "      <td>910.4</td>\n",
       "      <td>4812.9</td>\n",
       "      <td>NaN</td>\n",
       "      <td>NaN</td>\n",
       "      <td>116123.6</td>\n",
       "      <td>214.6</td>\n",
       "      <td>202.4</td>\n",
       "    </tr>\n",
       "    <tr>\n",
       "      <th>3</th>\n",
       "      <td>30-04-1979</td>\n",
       "      <td>245.3</td>\n",
       "      <td>152.8</td>\n",
       "      <td>54144.6</td>\n",
       "      <td>118.8</td>\n",
       "      <td>278.5</td>\n",
       "      <td>420.0</td>\n",
       "      <td>2013.1</td>\n",
       "      <td>NaN</td>\n",
       "      <td>NaN</td>\n",
       "      <td>819.4</td>\n",
       "      <td>152453.6</td>\n",
       "      <td>930.2</td>\n",
       "      <td>4891.0</td>\n",
       "      <td>NaN</td>\n",
       "      <td>NaN</td>\n",
       "      <td>117423.3</td>\n",
       "      <td>221.1</td>\n",
       "      <td>206.9</td>\n",
       "    </tr>\n",
       "    <tr>\n",
       "      <th>4</th>\n",
       "      <td>31-05-1979</td>\n",
       "      <td>274.6</td>\n",
       "      <td>172.0</td>\n",
       "      <td>61057.1</td>\n",
       "      <td>132.7</td>\n",
       "      <td>321.6</td>\n",
       "      <td>478.0</td>\n",
       "      <td>2253.4</td>\n",
       "      <td>NaN</td>\n",
       "      <td>NaN</td>\n",
       "      <td>933.3</td>\n",
       "      <td>171656.1</td>\n",
       "      <td>1048.4</td>\n",
       "      <td>5560.8</td>\n",
       "      <td>NaN</td>\n",
       "      <td>NaN</td>\n",
       "      <td>133889.6</td>\n",
       "      <td>250.7</td>\n",
       "      <td>233.7</td>\n",
       "    </tr>\n",
       "  </tbody>\n",
       "</table>\n",
       "</div>"
      ],
      "text/plain": [
       "         Date  United States(USD)  Europe(EUR)  Japan(JPY)  \\\n",
       "0  31-01-1979               233.7        144.8     45160.3   \n",
       "1  28-02-1979               251.3        154.6     50209.1   \n",
       "2  30-03-1979               240.1        148.0     50274.3   \n",
       "3  30-04-1979               245.3        152.8     54144.6   \n",
       "4  31-05-1979               274.6        172.0     61057.1   \n",
       "\n",
       "   United Kingdom(GBP)  Canada(CAD)  Switzerland(CHF)  India(INR)  China(CNY)  \\\n",
       "0                117.4        267.1             379.3      1840.8         NaN   \n",
       "1                124.2        295.5             413.6      2011.7         NaN   \n",
       "2                116.2        278.2             406.2      1940.2         NaN   \n",
       "3                118.8        278.5             420.0      2013.1         NaN   \n",
       "4                132.7        321.6             478.0      2253.4         NaN   \n",
       "\n",
       "   Turkey(TRY)  Saudi Arabia(SAR)  Indonesia(IDR)  United Arab Emirates(AED)  \\\n",
       "0          NaN              745.2        139739.3                      856.1   \n",
       "1          NaN              827.8        154683.1                      946.6   \n",
       "2          NaN              796.7        148844.2                      910.4   \n",
       "3          NaN              819.4        152453.6                      930.2   \n",
       "4          NaN              933.3        171656.1                     1048.4   \n",
       "\n",
       "   Thailand(THB)  Vietnam(VND)  Egypt(EGP)  South Korean(KRW)  Australia(AUD)  \\\n",
       "0         4511.3           NaN         NaN           108235.8           197.2   \n",
       "1         4985.7           NaN         NaN           119929.3           219.6   \n",
       "2         4812.9           NaN         NaN           116123.6           214.6   \n",
       "3         4891.0           NaN         NaN           117423.3           221.1   \n",
       "4         5560.8           NaN         NaN           133889.6           250.7   \n",
       "\n",
       "   South Africa(ZAR)  \n",
       "0              194.5  \n",
       "1              209.4  \n",
       "2              202.4  \n",
       "3              206.9  \n",
       "4              233.7  "
      ]
     },
     "execution_count": 16,
     "metadata": {},
     "output_type": "execute_result"
    }
   ],
   "source": [
    "import pandas as pd\n",
    "\n",
    "df1 = pd.read_csv(\"gold_price_1979-2021.csv\")\n",
    "df1.head()"
   ]
  },
  {
   "cell_type": "code",
   "execution_count": 17,
   "metadata": {},
   "outputs": [
    {
     "data": {
      "text/html": [
       "<div>\n",
       "<style scoped>\n",
       "    .dataframe tbody tr th:only-of-type {\n",
       "        vertical-align: middle;\n",
       "    }\n",
       "\n",
       "    .dataframe tbody tr th {\n",
       "        vertical-align: top;\n",
       "    }\n",
       "\n",
       "    .dataframe thead th {\n",
       "        text-align: right;\n",
       "    }\n",
       "</style>\n",
       "<table border=\"1\" class=\"dataframe\">\n",
       "  <thead>\n",
       "    <tr style=\"text-align: right;\">\n",
       "      <th></th>\n",
       "      <th>Date</th>\n",
       "      <th>United States(USD)</th>\n",
       "      <th>Europe(EUR)</th>\n",
       "      <th>Japan(JPY)</th>\n",
       "      <th>United Kingdom(GBP)</th>\n",
       "      <th>Canada(CAD)</th>\n",
       "      <th>Switzerland(CHF)</th>\n",
       "      <th>India(INR)</th>\n",
       "      <th>China(CNY)</th>\n",
       "      <th>Turkey(TRY)</th>\n",
       "      <th>Saudi Arabia(SAR)</th>\n",
       "      <th>Indonesia(IDR)</th>\n",
       "      <th>United Arab Emirates(AED)</th>\n",
       "      <th>Thailand(THB)</th>\n",
       "      <th>Vietnam(VND)</th>\n",
       "      <th>Egypt(EGP)</th>\n",
       "      <th>South Korean(KRW)</th>\n",
       "      <th>Australia(AUD)</th>\n",
       "      <th>South Africa(ZAR)</th>\n",
       "    </tr>\n",
       "  </thead>\n",
       "  <tbody>\n",
       "    <tr>\n",
       "      <th>0</th>\n",
       "      <td>31-01-1979</td>\n",
       "      <td>233.7</td>\n",
       "      <td>144.8</td>\n",
       "      <td>45160.3</td>\n",
       "      <td>117.4</td>\n",
       "      <td>267.1</td>\n",
       "      <td>379.3</td>\n",
       "      <td>1840.8</td>\n",
       "      <td>NaN</td>\n",
       "      <td>NaN</td>\n",
       "      <td>745.2</td>\n",
       "      <td>139739.3</td>\n",
       "      <td>856.1</td>\n",
       "      <td>4511.3</td>\n",
       "      <td>NaN</td>\n",
       "      <td>NaN</td>\n",
       "      <td>108235.8</td>\n",
       "      <td>197.2</td>\n",
       "      <td>194.5</td>\n",
       "    </tr>\n",
       "    <tr>\n",
       "      <th>1</th>\n",
       "      <td>28-02-1979</td>\n",
       "      <td>251.3</td>\n",
       "      <td>154.6</td>\n",
       "      <td>50209.1</td>\n",
       "      <td>124.2</td>\n",
       "      <td>295.5</td>\n",
       "      <td>413.6</td>\n",
       "      <td>2011.7</td>\n",
       "      <td>NaN</td>\n",
       "      <td>NaN</td>\n",
       "      <td>827.8</td>\n",
       "      <td>154683.1</td>\n",
       "      <td>946.6</td>\n",
       "      <td>4985.7</td>\n",
       "      <td>NaN</td>\n",
       "      <td>NaN</td>\n",
       "      <td>119929.3</td>\n",
       "      <td>219.6</td>\n",
       "      <td>209.4</td>\n",
       "    </tr>\n",
       "    <tr>\n",
       "      <th>2</th>\n",
       "      <td>30-03-1979</td>\n",
       "      <td>240.1</td>\n",
       "      <td>148.0</td>\n",
       "      <td>50274.3</td>\n",
       "      <td>116.2</td>\n",
       "      <td>278.2</td>\n",
       "      <td>406.2</td>\n",
       "      <td>1940.2</td>\n",
       "      <td>NaN</td>\n",
       "      <td>NaN</td>\n",
       "      <td>796.7</td>\n",
       "      <td>148844.2</td>\n",
       "      <td>910.4</td>\n",
       "      <td>4812.9</td>\n",
       "      <td>NaN</td>\n",
       "      <td>NaN</td>\n",
       "      <td>116123.6</td>\n",
       "      <td>214.6</td>\n",
       "      <td>202.4</td>\n",
       "    </tr>\n",
       "    <tr>\n",
       "      <th>3</th>\n",
       "      <td>30-04-1979</td>\n",
       "      <td>245.3</td>\n",
       "      <td>152.8</td>\n",
       "      <td>54144.6</td>\n",
       "      <td>118.8</td>\n",
       "      <td>278.5</td>\n",
       "      <td>420.0</td>\n",
       "      <td>2013.1</td>\n",
       "      <td>NaN</td>\n",
       "      <td>NaN</td>\n",
       "      <td>819.4</td>\n",
       "      <td>152453.6</td>\n",
       "      <td>930.2</td>\n",
       "      <td>4891.0</td>\n",
       "      <td>NaN</td>\n",
       "      <td>NaN</td>\n",
       "      <td>117423.3</td>\n",
       "      <td>221.1</td>\n",
       "      <td>206.9</td>\n",
       "    </tr>\n",
       "    <tr>\n",
       "      <th>4</th>\n",
       "      <td>31-05-1979</td>\n",
       "      <td>274.6</td>\n",
       "      <td>172.0</td>\n",
       "      <td>61057.1</td>\n",
       "      <td>132.7</td>\n",
       "      <td>321.6</td>\n",
       "      <td>478.0</td>\n",
       "      <td>2253.4</td>\n",
       "      <td>NaN</td>\n",
       "      <td>NaN</td>\n",
       "      <td>933.3</td>\n",
       "      <td>171656.1</td>\n",
       "      <td>1048.4</td>\n",
       "      <td>5560.8</td>\n",
       "      <td>NaN</td>\n",
       "      <td>NaN</td>\n",
       "      <td>133889.6</td>\n",
       "      <td>250.7</td>\n",
       "      <td>233.7</td>\n",
       "    </tr>\n",
       "  </tbody>\n",
       "</table>\n",
       "</div>"
      ],
      "text/plain": [
       "         Date  United States(USD)  Europe(EUR)  Japan(JPY)  \\\n",
       "0  31-01-1979               233.7        144.8     45160.3   \n",
       "1  28-02-1979               251.3        154.6     50209.1   \n",
       "2  30-03-1979               240.1        148.0     50274.3   \n",
       "3  30-04-1979               245.3        152.8     54144.6   \n",
       "4  31-05-1979               274.6        172.0     61057.1   \n",
       "\n",
       "   United Kingdom(GBP)  Canada(CAD)  Switzerland(CHF)  India(INR)  China(CNY)  \\\n",
       "0                117.4        267.1             379.3      1840.8         NaN   \n",
       "1                124.2        295.5             413.6      2011.7         NaN   \n",
       "2                116.2        278.2             406.2      1940.2         NaN   \n",
       "3                118.8        278.5             420.0      2013.1         NaN   \n",
       "4                132.7        321.6             478.0      2253.4         NaN   \n",
       "\n",
       "   Turkey(TRY)  Saudi Arabia(SAR)  Indonesia(IDR)  United Arab Emirates(AED)  \\\n",
       "0          NaN              745.2        139739.3                      856.1   \n",
       "1          NaN              827.8        154683.1                      946.6   \n",
       "2          NaN              796.7        148844.2                      910.4   \n",
       "3          NaN              819.4        152453.6                      930.2   \n",
       "4          NaN              933.3        171656.1                     1048.4   \n",
       "\n",
       "   Thailand(THB)  Vietnam(VND)  Egypt(EGP)  South Korean(KRW)  Australia(AUD)  \\\n",
       "0         4511.3           NaN         NaN           108235.8           197.2   \n",
       "1         4985.7           NaN         NaN           119929.3           219.6   \n",
       "2         4812.9           NaN         NaN           116123.6           214.6   \n",
       "3         4891.0           NaN         NaN           117423.3           221.1   \n",
       "4         5560.8           NaN         NaN           133889.6           250.7   \n",
       "\n",
       "   South Africa(ZAR)  \n",
       "0              194.5  \n",
       "1              209.4  \n",
       "2              202.4  \n",
       "3              206.9  \n",
       "4              233.7  "
      ]
     },
     "execution_count": 17,
     "metadata": {},
     "output_type": "execute_result"
    }
   ],
   "source": [
    "df2 = pd.read_csv(url+filename)\n",
    "df2.head()"
   ]
  },
  {
   "cell_type": "markdown",
   "metadata": {},
   "source": [
    "# Matplotlib\n",
    "https://matplotlib.org/stable/tutorials/introductory/pyplot.html"
   ]
  },
  {
   "cell_type": "markdown",
   "metadata": {},
   "source": [
    "### 기본 plotting"
   ]
  },
  {
   "cell_type": "code",
   "execution_count": 18,
   "metadata": {},
   "outputs": [
    {
     "data": {
      "image/png": "[encoded data removed]",
      "text/plain": [
       "<Figure size 432x288 with 1 Axes>"
      ]
     },
     "metadata": {
      "needs_background": "light"
     },
     "output_type": "display_data"
    }
   ],
   "source": [
    "import matplotlib.pyplot as plt\n",
    "\n",
    "plt.plot([1, 2, 3, 4])\n",
    "plt.show()\n",
    "# plt.savefig('./filename.pdf')"
   ]
  },
  {
   "cell_type": "code",
   "execution_count": 19,
   "metadata": {},
   "outputs": [
    {
     "data": {
      "image/png": "[encoded data removed]",
      "text/plain": [
       "<Figure size 432x288 with 1 Axes>"
      ]
     },
     "metadata": {
      "needs_background": "light"
     },
     "output_type": "display_data"
    }
   ],
   "source": [
    "plt.plot([1, 2, 3, 4], [1, 4, 9, 16])\n",
    "plt.show()"
   ]
  },
  {
   "cell_type": "code",
   "execution_count": null,
   "metadata": {},
   "outputs": [],
   "source": [
    "# Line2D"
   ]
  },
  {
   "cell_type": "markdown",
   "metadata": {},
   "source": [
    "### axis 설정"
   ]
  },
  {
   "cell_type": "code",
   "execution_count": 20,
   "metadata": {},
   "outputs": [
    {
     "data": {
      "image/png": "[encoded data removed]",
      "text/plain": [
       "<Figure size 432x288 with 1 Axes>"
      ]
     },
     "metadata": {
      "needs_background": "light"
     },
     "output_type": "display_data"
    }
   ],
   "source": [
    "plt.plot([1, 2, 3, 4], [1, 4, 9, 16], 'ro')\n",
    "plt.axis([0, 6, 0, 20])\n",
    "plt.show()"
   ]
  },
  {
   "cell_type": "markdown",
   "metadata": {},
   "source": [
    "### marker 설정"
   ]
  },
  {
   "cell_type": "code",
   "execution_count": 21,
   "metadata": {},
   "outputs": [
    {
     "data": {
      "image/png": "[encoded data removed]",
      "text/plain": [
       "<Figure size 432x288 with 1 Axes>"
      ]
     },
     "metadata": {
      "needs_background": "light"
     },
     "output_type": "display_data"
    }
   ],
   "source": [
    "import numpy as np\n",
    "\n",
    "# 200ms 간격으로 균일하게 샘플된 시간\n",
    "t = np.arange(0., 5., 0.2)\n",
    "\n",
    "# 빨간 대쉬, 파란 사각형, 녹색 삼각형\n",
    "plt.plot(t, t, 'r--', t, t**2, 'bs', t, t**3, 'g^')\n",
    "plt.show()"
   ]
  },
  {
   "cell_type": "markdown",
   "metadata": {},
   "source": [
    "### plotting with multiple data"
   ]
  },
  {
   "cell_type": "code",
   "execution_count": 22,
   "metadata": {},
   "outputs": [
    {
     "data": {
      "image/png": "[encoded data removed]",
      "text/plain": [
       "<Figure size 432x288 with 1 Axes>"
      ]
     },
     "metadata": {
      "needs_background": "light"
     },
     "output_type": "display_data"
    }
   ],
   "source": [
    "import numpy as np\n",
    "\n",
    "# 200ms 간격으로 균일하게 샘플된 시간\n",
    "t = np.arange(0., 5., 0.2)\n",
    "\n",
    "# 빨간 대쉬, 파란 사각형, 녹색 삼각형\n",
    "plt.plot(t, t, 'r--')\n",
    "plt.plot(t, t**2, 'bs')\n",
    "plt.plot(t, t**3, 'g^')\n",
    "plt.show()"
   ]
  },
  {
   "cell_type": "markdown",
   "metadata": {},
   "source": [
    "### plotting with labeled data (dict, dataframe, ...)"
   ]
  },
  {
   "cell_type": "code",
   "execution_count": 23,
   "metadata": {},
   "outputs": [
    {
     "data": {
      "image/png": "[encoded data removed]",
      "text/plain": [
       "<Figure size 432x288 with 1 Axes>"
      ]
     },
     "metadata": {
      "needs_background": "light"
     },
     "output_type": "display_data"
    }
   ],
   "source": [
    "data_dict = {'data_x': [1, 2, 3, 4, 5], 'data_y': [2, 3, 5, 10, 8]}\n",
    "\n",
    "# (xlabel, ylabel, data)\n",
    "plt.plot('data_x', 'data_y', data=data_dict)\n",
    "plt.show()"
   ]
  },
  {
   "cell_type": "code",
   "execution_count": 24,
   "metadata": {},
   "outputs": [
    {
     "data": {
      "text/html": [
       "<div>\n",
       "<style scoped>\n",
       "    .dataframe tbody tr th:only-of-type {\n",
       "        vertical-align: middle;\n",
       "    }\n",
       "\n",
       "    .dataframe tbody tr th {\n",
       "        vertical-align: top;\n",
       "    }\n",
       "\n",
       "    .dataframe thead th {\n",
       "        text-align: right;\n",
       "    }\n",
       "</style>\n",
       "<table border=\"1\" class=\"dataframe\">\n",
       "  <thead>\n",
       "    <tr style=\"text-align: right;\">\n",
       "      <th></th>\n",
       "      <th>data_x</th>\n",
       "      <th>data_y</th>\n",
       "    </tr>\n",
       "  </thead>\n",
       "  <tbody>\n",
       "    <tr>\n",
       "      <th>0</th>\n",
       "      <td>1</td>\n",
       "      <td>2</td>\n",
       "    </tr>\n",
       "    <tr>\n",
       "      <th>1</th>\n",
       "      <td>2</td>\n",
       "      <td>3</td>\n",
       "    </tr>\n",
       "    <tr>\n",
       "      <th>2</th>\n",
       "      <td>3</td>\n",
       "      <td>5</td>\n",
       "    </tr>\n",
       "    <tr>\n",
       "      <th>3</th>\n",
       "      <td>4</td>\n",
       "      <td>10</td>\n",
       "    </tr>\n",
       "    <tr>\n",
       "      <th>4</th>\n",
       "      <td>5</td>\n",
       "      <td>8</td>\n",
       "    </tr>\n",
       "  </tbody>\n",
       "</table>\n",
       "</div>"
      ],
      "text/plain": [
       "   data_x  data_y\n",
       "0       1       2\n",
       "1       2       3\n",
       "2       3       5\n",
       "3       4      10\n",
       "4       5       8"
      ]
     },
     "execution_count": 24,
     "metadata": {},
     "output_type": "execute_result"
    }
   ],
   "source": [
    "data_pandas = pd.DataFrame(data_dict)\n",
    "data_pandas"
   ]
  },
  {
   "cell_type": "code",
   "execution_count": 25,
   "metadata": {},
   "outputs": [
    {
     "data": {
      "image/png": "[encoded data removed]",
      "text/plain": [
       "<Figure size 432x288 with 1 Axes>"
      ]
     },
     "metadata": {
      "needs_background": "light"
     },
     "output_type": "display_data"
    }
   ],
   "source": [
    "plt.plot('data_x', 'data_y', data=data_pandas)\n",
    "plt.show()"
   ]
  },
  {
   "cell_type": "markdown",
   "metadata": {},
   "source": [
    "### axis labelling"
   ]
  },
  {
   "cell_type": "code",
   "execution_count": 26,
   "metadata": {},
   "outputs": [
    {
     "data": {
      "image/png": "[encoded data removed]",
      "text/plain": [
       "<Figure size 432x288 with 1 Axes>"
      ]
     },
     "metadata": {
      "needs_background": "light"
     },
     "output_type": "display_data"
    }
   ],
   "source": [
    "plt.plot([1, 2, 3, 4], [1, 4, 9, 16])\n",
    "plt.xlabel('X-Label')\n",
    "plt.ylabel('Y-Label')\n",
    "plt.show()"
   ]
  },
  {
   "cell_type": "code",
   "execution_count": 27,
   "metadata": {},
   "outputs": [
    {
     "data": {
      "image/png": "[encoded data removed]",
      "text/plain": [
       "<Figure size 432x288 with 1 Axes>"
      ]
     },
     "metadata": {
      "needs_background": "light"
     },
     "output_type": "display_data"
    }
   ],
   "source": [
    "plt.plot([1, 2, 3, 4], [2, 3, 5, 10])\n",
    "plt.xlabel('X-Axis', labelpad=15)\n",
    "plt.ylabel('Y-Axis', labelpad=20)\n",
    "plt.show()"
   ]
  },
  {
   "cell_type": "code",
   "execution_count": 28,
   "metadata": {},
   "outputs": [
    {
     "data": {
      "image/png": "[encoded data removed]",
      "text/plain": [
       "<Figure size 432x288 with 1 Axes>"
      ]
     },
     "metadata": {
      "needs_background": "light"
     },
     "output_type": "display_data"
    }
   ],
   "source": [
    "plt.plot([1, 2, 3, 4], [2, 3, 5, 10])\n",
    "plt.xlabel('X-Axis', loc='right')\n",
    "plt.ylabel('Y-Axis', loc='top')\n",
    "plt.show()"
   ]
  },
  {
   "cell_type": "markdown",
   "metadata": {},
   "source": [
    "### adding legend"
   ]
  },
  {
   "cell_type": "code",
   "execution_count": 29,
   "metadata": {},
   "outputs": [
    {
     "data": {
      "image/png": "[encoded data removed]",
      "text/plain": [
       "<Figure size 432x288 with 1 Axes>"
      ]
     },
     "metadata": {
      "needs_background": "light"
     },
     "output_type": "display_data"
    }
   ],
   "source": [
    "plt.plot([1, 2, 3, 4], [2, 3, 5, 10], label='Price ($)')\n",
    "plt.xlabel('X-Axis')\n",
    "plt.ylabel('Y-Axis')\n",
    "plt.legend()\n",
    "plt.show()"
   ]
  },
  {
   "cell_type": "code",
   "execution_count": 30,
   "metadata": {},
   "outputs": [
    {
     "data": {
      "image/png": "[encoded data removed]",
      "text/plain": [
       "<Figure size 432x288 with 1 Axes>"
      ]
     },
     "metadata": {
      "needs_background": "light"
     },
     "output_type": "display_data"
    }
   ],
   "source": [
    "plt.plot([1, 2, 3, 4], [2, 3, 5, 10], label='Price ($)')\n",
    "plt.plot([1, 2, 3, 4], [3, 5, 9, 7], label='Demand (#)')\n",
    "plt.xlabel('X-Axis')\n",
    "plt.ylabel('Y-Axis')\n",
    "# plt.legend(loc='best')          # ncol = 1\n",
    "plt.legend(loc='best', ncol=2)    # ncol = 2\n",
    "\n",
    "plt.show()"
   ]
  },
  {
   "cell_type": "code",
   "execution_count": 31,
   "metadata": {},
   "outputs": [
    {
     "data": {
      "image/png": "[encoded data removed]",
      "text/plain": [
       "<Figure size 432x288 with 1 Axes>"
      ]
     },
     "metadata": {
      "needs_background": "light"
     },
     "output_type": "display_data"
    }
   ],
   "source": [
    "plt.plot([1, 2, 3, 4], [2, 3, 5, 10], label='Price ($)')\n",
    "plt.plot([1, 2, 3, 4], [3, 5, 9, 7], label='Demand (#)')\n",
    "plt.xlabel('X-Axis')\n",
    "plt.ylabel('Y-Axis')\n",
    "# plt.legend(loc='best')\n",
    "plt.legend(loc='best', ncol=2, fontsize=14)\n",
    "\n",
    "plt.show()"
   ]
  },
  {
   "cell_type": "code",
   "execution_count": 32,
   "metadata": {},
   "outputs": [
    {
     "data": {
      "image/png": "[encoded data removed]",
      "text/plain": [
       "<Figure size 432x288 with 1 Axes>"
      ]
     },
     "metadata": {
      "needs_background": "light"
     },
     "output_type": "display_data"
    }
   ],
   "source": [
    "plt.plot([1, 2, 3, 4], [2, 3, 5, 10], label='Price ($)')\n",
    "plt.plot([1, 2, 3, 4], [3, 5, 9, 7], label='Demand (#)')\n",
    "plt.xlabel('X-Axis')\n",
    "plt.ylabel('Y-Axis')\n",
    "# plt.legend(loc='best')\n",
    "plt.legend(loc='best', ncol=2, fontsize=14, frameon=True, shadow=True)\n",
    "\n",
    "plt.show()"
   ]
  }
 ],
 "metadata": {
  "kernelspec": {
   "display_name": "Python 3.9.6 64-bit",
   "language": "python",
   "name": "python3"
  },
  "language_info": {
   "codemirror_mode": {
    "name": "ipython",
    "version": 3
   },
   "file_extension": ".py",
   "mimetype": "text/x-python",
   "name": "python",
   "nbconvert_exporter": "python",
   "pygments_lexer": "ipython3",
   "version": "3.9.7"
  },
  "vscode": {
   "interpreter": {
    "hash": "4ed7c5303468c6f42560d32e811323012438a4f036415de2c7ac2fb5dad5e44a"
   }
  }
 },
 "nbformat": 4,
 "nbformat_minor": 0
}
