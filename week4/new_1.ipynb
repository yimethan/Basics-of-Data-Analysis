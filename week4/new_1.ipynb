{
 "cells": [
  {
   "cell_type": "markdown",
   "id": "86489c5c",
   "metadata": {},
   "source": [
    "# Functions"
   ]
  },
  {
   "cell_type": "code",
   "execution_count": null,
   "id": "e1c25e87",
   "metadata": {},
   "outputs": [],
   "source": [
    "def function_name(arg1, arg2):\n",
    "    # Do something\n",
    "    return arg1, arg2"
   ]
  },
  {
   "cell_type": "markdown",
   "metadata": {},
   "source": [
    "# Recursive functions"
   ]
  },
  {
   "cell_type": "code",
   "execution_count": null,
   "metadata": {
    "collapsed": true,
    "jupyter": {
     "outputs_hidden": true
    },
    "tags": []
   },
   "outputs": [],
   "source": [
    "def factorial(n):\n",
    "    if n == 1:\n",
    "        return 1\n",
    "    else:\n",
    "        return n*factorial(n-1)\n",
    "\n",
    "for i in range(1,10):\n",
    "    print(factorial(i))\n"
   ]
  },
  {
   "cell_type": "markdown",
   "metadata": {},
   "source": [
    "# Arguments\n",
    "## Keyword arguments\n"
   ]
  },
  {
   "cell_type": "code",
   "execution_count": null,
   "metadata": {},
   "outputs": [],
   "source": [
    "def print_something(personname, univname):\n",
    "    print(f\"Hello {personname} in {univname}\")\n",
    "\n",
    "print_something(\"Taewon\", \"SCH University\")\n",
    "print_something(personname = \"Taewon\", univname = \"SCH University\")\n",
    "print_something(univname = \"SCH University\", personname = \"Taewon\")"
   ]
  },
  {
   "cell_type": "markdown",
   "metadata": {},
   "source": [
    "## Default arguments"
   ]
  },
  {
   "cell_type": "code",
   "execution_count": null,
   "metadata": {
    "collapsed": true,
    "jupyter": {
     "outputs_hidden": true
    },
    "tags": []
   },
   "outputs": [],
   "source": [
    "def print_something(personname, univname=\"SCH University\"):\n",
    "    print(f\"Hello {personname} in {univname}\")\n",
    "\n",
    "print_something(\"Taewon\", \"SCH University\")\n",
    "print_something(\"Taewon\", univname = \"Other University\")"
   ]
  },
  {
   "cell_type": "markdown",
   "metadata": {},
   "source": [
    "## Variable-length arguments (*Unpacking*)"
   ]
  },
  {
   "cell_type": "code",
   "execution_count": null,
   "metadata": {},
   "outputs": [],
   "source": [
    "def summation(a, b, *args):\n",
    "    # return a + b + sum(args)\n",
    "    print(a, b, args)\n",
    "    # Return 뒤에 다른 명령문이 오면 어떻게 동작하는가?\n",
    "\n",
    "print(summation(1,2))\n",
    "print(summation(1,2,3,4,5))"
   ]
  },
  {
   "cell_type": "code",
   "execution_count": null,
   "id": "d1b1465a",
   "metadata": {},
   "outputs": [],
   "source": [
    "def f(x, *args):\n",
    "    print(x)\n",
    "    print(args)\n",
    "\n",
    "a = (2, 3, 4)\n",
    "# a = [2, 3, 4]\n",
    "\n",
    "f(1, *a)\n",
    "# f(1, a)"
   ]
  },
  {
   "cell_type": "markdown",
   "metadata": {},
   "source": [
    "# Dictionary data type"
   ]
  },
  {
   "cell_type": "code",
   "execution_count": null,
   "metadata": {},
   "outputs": [],
   "source": [
    "list_type = [0, 1, 2, 3]\n",
    "tuple_type = (0, 1, 2, 3)\n",
    "dict_type = {'Name':'Taewon', 'Affiliation':'SCH University'}\n",
    "\n",
    "print(type(list_type))\n",
    "print(type(tuple_type))\n",
    "print(type(dict_type))\n",
    "\n",
    "print(list_type[0])\n",
    "print(tuple_type[0])\n",
    "print(dict_type['Name'])"
   ]
  },
  {
   "cell_type": "code",
   "execution_count": null,
   "metadata": {},
   "outputs": [],
   "source": [
    "dict_type = {'Name':'Taewon', 'Affiliation':'SCH University'}\n",
    "print(dict_type)\n",
    "\n",
    "dict_type['Major']='Electrical Engineering'\n",
    "print(dict_type)\n",
    "\n",
    "dict_type['Languages']=['Korean', 'Japanese', 'English']\n",
    "print(dict_type)"
   ]
  },
  {
   "cell_type": "markdown",
   "metadata": {},
   "source": [
    "## Keyword variable-length arguments"
   ]
  },
  {
   "cell_type": "code",
   "execution_count": null,
   "id": "b54cf677",
   "metadata": {},
   "outputs": [],
   "source": [
    "def kwargs_test(**kwargs):\n",
    "    print(kwargs['first'], kwargs['second'], kwargs['third'])\n",
    "\n",
    "kwargs_test(first = 3, second = 4, third = 5)"
   ]
  },
  {
   "cell_type": "code",
   "execution_count": null,
   "metadata": {},
   "outputs": [],
   "source": [
    "def print_major_info(**kwargs):\n",
    "    print(kwargs['Major'])\n",
    "\n",
    "info = {'Name':'Taewon', 'Affiliation':'SCH University'}\n",
    "info['Major']='Electrical Engineering'\n",
    "\n",
    "print_major_info(**info)"
   ]
  },
  {
   "cell_type": "markdown",
   "id": "6d36042a",
   "metadata": {},
   "source": [
    "## *args, **kwargs는 반드시 입력 인수의 마지막에 위치해야 합니다!"
   ]
  },
  {
   "cell_type": "markdown",
   "id": "921728ec",
   "metadata": {},
   "source": [
    "## 입력으로 들어오는 수의 평균을 구하는 함수를 작성해 봅시다."
   ]
  },
  {
   "cell_type": "code",
   "execution_count": null,
   "id": "fe0623ae",
   "metadata": {},
   "outputs": [],
   "source": [
    "def avg_number(*args):\n",
    "    return sum(args) / len(args)\n",
    "\n",
    "avg_number(2, 3, 4, 5)"
   ]
  },
  {
   "cell_type": "markdown",
   "id": "08f1b7c1",
   "metadata": {},
   "source": [
    "출력예시:\n",
    "```python\n",
    ">> avg_numbers(1, 2)\n",
    "1.5\n",
    ">> avg_numbers(1, 2, 3, 4, 5)\n",
    "3.0\n",
    "```"
   ]
  },
  {
   "cell_type": "markdown",
   "id": "ffbbb31d",
   "metadata": {},
   "source": [
    "## Combining variable-length arguments and keyword variable-length arguments"
   ]
  },
  {
   "cell_type": "code",
   "execution_count": 9,
   "id": "d8d230ea",
   "metadata": {},
   "outputs": [
    {
     "name": "stdout",
     "output_type": "stream",
     "text": [
      "(10, 20)\n",
      "{'name': 'yim', 'age': '20', 'gender': 'male'}\n"
     ]
    }
   ],
   "source": [
    "def f(*args, **kwargs):\n",
    "    print(args)\n",
    "    print(kwargs)\n",
    "    \n",
    "f(10, 20, name = 'yim', age = '20', gender = 'male')"
   ]
  },
  {
   "cell_type": "markdown",
   "id": "d517a663",
   "metadata": {},
   "source": [
    "## yield"
   ]
  },
  {
   "cell_type": "code",
   "execution_count": 1,
   "id": "737f4a8a",
   "metadata": {},
   "outputs": [
    {
     "name": "stdout",
     "output_type": "stream",
     "text": [
      "1\n",
      "2\n",
      "3\n"
     ]
    }
   ],
   "source": [
    "def test_generator():\n",
    "    yield 1\n",
    "    yield 2\n",
    "    yield 3\n",
    "\n",
    "gen = test_generator()\n",
    "print(next(gen))\n",
    "print(next(gen))\n",
    "print(next(gen))"
   ]
  },
  {
   "cell_type": "code",
   "execution_count": 2,
   "id": "4dbd201f",
   "metadata": {},
   "outputs": [
    {
     "name": "stdout",
     "output_type": "stream",
     "text": [
      "<class 'generator'>\n",
      "Addition: 10 + 5\n",
      "15\n",
      "Subtraction: 10 - 5\n",
      "5\n",
      "Multiplication: 10 * 5\n",
      "50\n",
      "Division: 10 / 5\n",
      "2.0\n"
     ]
    }
   ],
   "source": [
    "def weird_calculator(a, b):\n",
    "    print(f\"Addition: {a} + {b}\")\n",
    "    yield a+b\n",
    "    \n",
    "    print(f\"Subtraction: {a} - {b}\")\n",
    "    yield a-b\n",
    "    \n",
    "    print(f\"Multiplication: {a} * {b}\")\n",
    "    yield a*b\n",
    "    \n",
    "    print(f\"Division: {a} / {b}\")\n",
    "    yield a/b\n",
    "    \n",
    "a = 10\n",
    "b = 5\n",
    "g = weird_calculator(a, b)\n",
    "print(type(g))\n",
    "\n",
    "print(next(g))\n",
    "print(next(g))\n",
    "print(next(g))\n",
    "print(next(g))"
   ]
  },
  {
   "cell_type": "code",
   "execution_count": 7,
   "id": "579e7a87",
   "metadata": {},
   "outputs": [
    {
     "ename": "TypeError",
     "evalue": "'list' object is not an iterator",
     "output_type": "error",
     "traceback": [
      "\u001b[0;31m---------------------------------------------------------------------------\u001b[0m",
      "\u001b[0;31mTypeError\u001b[0m                                 Traceback (most recent call last)",
      "\u001b[0;32m/var/folders/yr/jd3hph_53llgn3rcd194plzc0000gp/T/ipykernel_65988/3598550447.py\u001b[0m in \u001b[0;36m<module>\u001b[0;34m\u001b[0m\n\u001b[1;32m      1\u001b[0m \u001b[0ma\u001b[0m \u001b[0;34m=\u001b[0m \u001b[0;34m[\u001b[0m\u001b[0;36m1\u001b[0m\u001b[0;34m,\u001b[0m \u001b[0;36m2\u001b[0m\u001b[0;34m,\u001b[0m \u001b[0;36m3\u001b[0m\u001b[0;34m,\u001b[0m \u001b[0;36m4\u001b[0m\u001b[0;34m,\u001b[0m \u001b[0;36m5\u001b[0m\u001b[0;34m]\u001b[0m\u001b[0;34m\u001b[0m\u001b[0;34m\u001b[0m\u001b[0m\n\u001b[0;32m----> 2\u001b[0;31m \u001b[0mprint\u001b[0m\u001b[0;34m(\u001b[0m\u001b[0mnext\u001b[0m\u001b[0;34m(\u001b[0m\u001b[0ma\u001b[0m\u001b[0;34m)\u001b[0m\u001b[0;34m)\u001b[0m\u001b[0;34m\u001b[0m\u001b[0;34m\u001b[0m\u001b[0m\n\u001b[0m",
      "\u001b[0;31mTypeError\u001b[0m: 'list' object is not an iterator"
     ]
    }
   ],
   "source": [
    "a = [1, 2, 3, 4, 5]\n",
    "print(next(a))"
   ]
  },
  {
   "cell_type": "markdown",
   "id": "f09d84c5",
   "metadata": {},
   "source": [
    "## unpacking after return"
   ]
  },
  {
   "cell_type": "code",
   "execution_count": 3,
   "id": "73ff7d05",
   "metadata": {},
   "outputs": [
    {
     "name": "stdout",
     "output_type": "stream",
     "text": [
      "Maximum: 2.2471910112359548\n",
      "Minimum: 0.11235955056179775\n"
     ]
    }
   ],
   "source": [
    "def get_avg_ratio(numbers):\n",
    "    average = sum(numbers) / len(numbers)\n",
    "    scaled = [x / average for x in numbers]\n",
    "    scaled.sort(reverse=True)\n",
    "    return scaled\n",
    "\n",
    "longest, *middles, shortest = get_avg_ratio([1, 8, 4, 8, 7, 20, 19, 1, 6, 15])\n",
    "\n",
    "print(f\"Maximum: {longest}\")\n",
    "print(f\"Minimum: {shortest}\")"
   ]
  },
  {
   "cell_type": "markdown",
   "id": "0635cf45",
   "metadata": {},
   "source": [
    "## Lab: add function supporting exception\n",
    "```\n",
    "adder(1, 2, 3, 4, 5)\n",
    ">>> 15\n",
    "adder()\n",
    ">>> Please insert numbers.\n",
    "```"
   ]
  },
  {
   "cell_type": "code",
   "execution_count": 5,
   "id": "561c3f23",
   "metadata": {},
   "outputs": [
    {
     "name": "stdout",
     "output_type": "stream",
     "text": [
      "15\n"
     ]
    }
   ],
   "source": [
    "def adder(*args):\n",
    "    if len(args) != 0:\n",
    "        print(sum(args))\n",
    "    \n",
    "adder(1, 2, 3, 4, 5)\n",
    "adder()"
   ]
  },
  {
   "cell_type": "markdown",
   "id": "88d2458f",
   "metadata": {},
   "source": [
    "## Lab: try-except\n",
    "```\n",
    "divisor(10, 2)\n",
    ">>> 5.0\n",
    "divisor(10, 0)\n",
    ">>> inf\n",
    "```"
   ]
  },
  {
   "cell_type": "code",
   "execution_count": 6,
   "id": "c27d911e",
   "metadata": {},
   "outputs": [
    {
     "name": "stdout",
     "output_type": "stream",
     "text": [
      "5.0\n",
      "inf\n"
     ]
    }
   ],
   "source": [
    "def divisor(a, b):\n",
    "    try:\n",
    "        print(a/b)\n",
    "    except:\n",
    "        print('inf')\n",
    "\n",
    "divisor(10, 2)\n",
    "divisor(10, 0)"
   ]
  },
  {
   "cell_type": "markdown",
   "id": "5c7a35b2",
   "metadata": {},
   "source": [
    "## Lab: smart divisor using try-except-raise"
   ]
  },
  {
   "cell_type": "code",
   "execution_count": 1,
   "id": "9df8bfef",
   "metadata": {},
   "outputs": [
    {
     "ename": "ZeroDivisionError",
     "evalue": "division by zero",
     "output_type": "error",
     "traceback": [
      "\u001b[1;31m---------------------------------------------------------------------------\u001b[0m",
      "\u001b[1;31mZeroDivisionError\u001b[0m                         Traceback (most recent call last)",
      "\u001b[1;32m~\\AppData\\Local\\Temp/ipykernel_44916/530406163.py\u001b[0m in \u001b[0;36m<module>\u001b[1;34m\u001b[0m\n\u001b[1;32m----> 1\u001b[1;33m \u001b[1;36m10\u001b[0m\u001b[1;33m/\u001b[0m\u001b[1;36m0\u001b[0m\u001b[1;33m\u001b[0m\u001b[1;33m\u001b[0m\u001b[0m\n\u001b[0m",
      "\u001b[1;31mZeroDivisionError\u001b[0m: division by zero"
     ]
    }
   ],
   "source": [
    "10/0"
   ]
  },
  {
   "cell_type": "code",
   "execution_count": 7,
   "id": "0d47615d",
   "metadata": {},
   "outputs": [
    {
     "ename": "OverflowError",
     "evalue": "int too large to convert to float",
     "output_type": "error",
     "traceback": [
      "\u001b[1;31m---------------------------------------------------------------------------\u001b[0m",
      "\u001b[1;31mOverflowError\u001b[0m                             Traceback (most recent call last)",
      "\u001b[1;32m~\\AppData\\Local\\Temp/ipykernel_44916/1074519870.py\u001b[0m in \u001b[0;36m<module>\u001b[1;34m\u001b[0m\n\u001b[1;32m----> 1\u001b[1;33m \u001b[0mprint\u001b[0m\u001b[1;33m(\u001b[0m\u001b[1;36m1.0\u001b[0m\u001b[1;33m/\u001b[0m\u001b[1;33m(\u001b[0m\u001b[1;36m10\u001b[0m\u001b[1;33m**\u001b[0m\u001b[1;36m5000\u001b[0m\u001b[1;33m)\u001b[0m\u001b[1;33m)\u001b[0m\u001b[1;33m\u001b[0m\u001b[1;33m\u001b[0m\u001b[0m\n\u001b[0m",
      "\u001b[1;31mOverflowError\u001b[0m: int too large to convert to float"
     ]
    }
   ],
   "source": [
    "print(1.0/(10**5000))"
   ]
  },
  {
   "cell_type": "code",
   "execution_count": 12,
   "id": "f4100cff",
   "metadata": {},
   "outputs": [
    {
     "data": {
      "text/plain": [
       "inf"
      ]
     },
     "execution_count": 12,
     "metadata": {},
     "output_type": "execute_result"
    }
   ],
   "source": [
    "def smart_divisor(denominator, numerator, ignore_zero_division=False, ignore_overflow=False):\n",
    "    try:\n",
    "        return denominator / numerator\n",
    "    except ZeroDivisionError:\n",
    "        if ignore_zero_division:\n",
    "            return float('inf')\n",
    "        else:\n",
    "            raise\n",
    "    except OverflowError:\n",
    "        if ignore_overflow:\n",
    "            return 0.0\n",
    "        else:\n",
    "            raise\n",
    "        \n",
    "smart_divisor(10, 0, True)\n",
    "# divisor(10, 2)\n",
    "# divisor(10, 0)"
   ]
  },
  {
   "cell_type": "markdown",
   "id": "43e21c10",
   "metadata": {},
   "source": [
    "## Type annotation (no compulsion)\n",
    "https://docs.python.org/ko/3/library/typing.html\n",
    "\n",
    "https://mypy.readthedocs.io/en/stable/cheat_sheet_py3.html\n"
   ]
  },
  {
   "cell_type": "code",
   "execution_count": 13,
   "id": "3db7cae6",
   "metadata": {},
   "outputs": [],
   "source": [
    "age: int = 10"
   ]
  },
  {
   "cell_type": "code",
   "execution_count": 14,
   "id": "879472bf",
   "metadata": {},
   "outputs": [
    {
     "name": "stdout",
     "output_type": "stream",
     "text": [
      "Hello yim\n"
     ]
    }
   ],
   "source": [
    "def greeting(name: str) -> str:\n",
    "    return 'Hello ' + name\n",
    "\n",
    "greetings = greeting('yim')\n",
    "print(greetings)"
   ]
  },
  {
   "cell_type": "code",
   "execution_count": null,
   "id": "a330f6ca",
   "metadata": {},
   "outputs": [],
   "source": []
  }
 ],
 "metadata": {
  "kernelspec": {
   "display_name": "Python 3.9.6 64-bit",
   "language": "python",
   "name": "python3"
  },
  "language_info": {
   "codemirror_mode": {
    "name": "ipython",
    "version": 3
   },
   "file_extension": ".py",
   "mimetype": "text/x-python",
   "name": "python",
   "nbconvert_exporter": "python",
   "pygments_lexer": "ipython3",
   "version": "3.9.7"
  },
  "vscode": {
   "interpreter": {
    "hash": "4ed7c5303468c6f42560d32e811323012438a4f036415de2c7ac2fb5dad5e44a"
   }
  }
 },
 "nbformat": 4,
 "nbformat_minor": 5
}
