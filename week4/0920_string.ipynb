{
 "cells": [
  {
   "cell_type": "markdown",
   "id": "dbad491b",
   "metadata": {},
   "source": [
    "# String"
   ]
  },
  {
   "cell_type": "code",
   "execution_count": 1,
   "id": "963be761",
   "metadata": {},
   "outputs": [
    {
     "name": "stdout",
     "output_type": "stream",
     "text": [
      "H\n",
      "e\n",
      "l\n",
      "l\n",
      "o\n"
     ]
    }
   ],
   "source": [
    "a = \"Hello\"\n",
    "for i in range(0,len(a)):\n",
    "    print(a[i])"
   ]
  },
  {
   "cell_type": "markdown",
   "id": "ff618d0d",
   "metadata": {},
   "source": [
    "## Functions of string, actually, it is \"method\"."
   ]
  },
  {
   "cell_type": "code",
   "execution_count": 2,
   "id": "6bc2948c",
   "metadata": {},
   "outputs": [
    {
     "name": "stdout",
     "output_type": "stream",
     "text": [
      "5\n",
      "5\n"
     ]
    },
    {
     "ename": "AttributeError",
     "evalue": "'list' object has no attribute 'upper'",
     "output_type": "error",
     "traceback": [
      "\u001b[0;31m---------------------------------------------------------------------------\u001b[0m",
      "\u001b[0;31mAttributeError\u001b[0m                            Traceback (most recent call last)",
      "\u001b[0;32m/var/folders/yr/jd3hph_53llgn3rcd194plzc0000gp/T/ipykernel_67157/2801891011.py\u001b[0m in \u001b[0;36m<module>\u001b[0;34m\u001b[0m\n\u001b[1;32m      6\u001b[0m \u001b[0;34m\u001b[0m\u001b[0m\n\u001b[1;32m      7\u001b[0m \u001b[0mstr_example\u001b[0m\u001b[0;34m.\u001b[0m\u001b[0mupper\u001b[0m\u001b[0;34m(\u001b[0m\u001b[0;34m)\u001b[0m\u001b[0;34m\u001b[0m\u001b[0;34m\u001b[0m\u001b[0m\n\u001b[0;32m----> 8\u001b[0;31m \u001b[0mlist_example\u001b[0m\u001b[0;34m.\u001b[0m\u001b[0mupper\u001b[0m\u001b[0;34m(\u001b[0m\u001b[0;34m)\u001b[0m\u001b[0;34m\u001b[0m\u001b[0;34m\u001b[0m\u001b[0m\n\u001b[0m",
      "\u001b[0;31mAttributeError\u001b[0m: 'list' object has no attribute 'upper'"
     ]
    }
   ],
   "source": [
    "str_example = \"Hello\"\n",
    "list_example = [\"H\",\"e\",\"l\",\"l\",\"o\"]\n",
    "\n",
    "print(len(str_example))\n",
    "print(len(list_example))\n",
    "\n",
    "str_example.upper()\n",
    "list_example.upper()"
   ]
  },
  {
   "cell_type": "markdown",
   "id": "7d55e79d",
   "metadata": {},
   "source": [
    "## Useful string manipulations\n",
    "### https://docs.python.org/ko/3/library/stdtypes.html#text-sequence-type-str"
   ]
  },
  {
   "cell_type": "code",
   "execution_count": 3,
   "id": "337a4dbd",
   "metadata": {},
   "outputs": [],
   "source": [
    "# 문자열 메서드"
   ]
  },
  {
   "cell_type": "code",
   "execution_count": 11,
   "id": "870c6206",
   "metadata": {
    "collapsed": true,
    "jupyter": {
     "outputs_hidden": true
    },
    "tags": []
   },
   "outputs": [
    {
     "name": "stdout",
     "output_type": "stream",
     "text": [
      " 수익률 (1M/3M/6M/1Y)/ +4.58%/ -4.78%/ -4.66%/ +34.20%  \n",
      "============\n",
      "수익률 (1M/3M/6M/1Y)/ +4.58%/ -4.78%/ -4.66%/ +34.20%\n",
      "['수익률', '(1M/3M/6M/1Y)/', '+4.58%/', '-4.78%/', '-4.66%/', '+34.20%']\n",
      "[' 수익률 (1M', '3M', '6M', '1Y)', ' +4.58%', ' -4.78%', ' -4.66%', ' +34.20%  ']\n",
      "[' 수익률 (1M/3M/6M/1Y)', '+4.58%', '-4.78%', '-4.66%', '+34.20%  ']\n"
     ]
    }
   ],
   "source": [
    "str_example = \" 수익률 (1M/3M/6M/1Y)/ +4.58%/ -4.78%/ -4.66%/ +34.20%  \"\n",
    "print(str_example)\n",
    "print(\"============\")\n",
    "\n",
    "print(str_example.strip())\n",
    "print(str_example.split())\n",
    "print(str_example.split(\"/\"))\n",
    "\n",
    "print(str_example.split(\"/ \"))\n",
    "\n",
    "# stripped_str_example = str_example.strip()\n",
    "# print(stripped_str_example.split(\"/ \"))"
   ]
  },
  {
   "cell_type": "markdown",
   "id": "03708c9e",
   "metadata": {},
   "source": [
    "## Lab: word counting"
   ]
  },
  {
   "cell_type": "code",
   "execution_count": 5,
   "id": "f975a29b",
   "metadata": {},
   "outputs": [],
   "source": [
    "filename = 'yesterday.txt'\n",
    "\n",
    "target_url = 'https://raw.githubusercontent.com/crazytb/schadvmachinelearning/main/'\n",
    "target_url = target_url + filename"
   ]
  },
  {
   "cell_type": "code",
   "execution_count": 6,
   "id": "709ccea8",
   "metadata": {},
   "outputs": [
    {
     "data": {
      "text/plain": [
       "'b\"Yesterday\\\\r\\\\nAll my troubles seemed so far away\\\\r\\\\nNow it looks as though they\\'re here to stay\\\\r\\\\nOh, I believe in yesterday\\\\r\\\\nSuddenly\\\\r\\\\nI\\'m not half the man I used to be\\\\r\\\\nThere\\'s a shadow hanging over me\\\\r\\\\nOh, yesterday came suddenly\\\\r\\\\nWhy she had to go\\\\r\\\\nI don\\'t know, she wouldn\\'t say\\\\r\\\\nI said something wrong\\\\r\\\\nNow I long for yesterday\\\\r\\\\nYesterday\\\\r\\\\nLove was such an easy game to play\\\\r\\\\nNow I need a place to hide away\\\\r\\\\nOh, I believe in yesterday\\\\r\\\\nWhy she had to go\\\\r\\\\nI don\\'t know, she wouldn\\'t say\\\\r\\\\nI said something wrong\\\\r\\\\nNow I long for yesterday\\\\r\\\\nYesterday\\\\r\\\\nLove was such an easy game to play\\\\r\\\\nNow I need a place to hide away\\\\r\\\\nOh, I believe in yesterday\\\\r\\\\nMm, mm, mm, mm, mm, mm, mm\"'"
      ]
     },
     "execution_count": 6,
     "metadata": {},
     "output_type": "execute_result"
    }
   ],
   "source": [
    "import urllib\n",
    "lyric = urllib.request.urlopen(target_url).read()\n",
    "lyric = str(lyric)\n",
    "lyric"
   ]
  },
  {
   "cell_type": "code",
   "execution_count": 7,
   "id": "5f43b299",
   "metadata": {},
   "outputs": [],
   "source": [
    "n_of_yesterday = lyric.count(\"yesterday\") + lyric.count(\"Yesterday\") + lyric.count(\"YESTERDAY\")\n",
    "# n_of_yesterday = lyric.upper().count(\"YESTERDAY\")"
   ]
  },
  {
   "cell_type": "code",
   "execution_count": 8,
   "id": "e30e9c8e",
   "metadata": {},
   "outputs": [
    {
     "name": "stdout",
     "output_type": "stream",
     "text": [
      "Number of 'yesterday' is 9.\n"
     ]
    }
   ],
   "source": [
    "# n_of_yesterday = contents.upper().count(\"YESTERDAY\")\n",
    "print(f\"Number of 'yesterday' is {n_of_yesterday}.\")"
   ]
  },
  {
   "cell_type": "markdown",
   "id": "eb5f1495",
   "metadata": {},
   "source": [
    "### readline() and readlines()"
   ]
  },
  {
   "cell_type": "code",
   "execution_count": 9,
   "id": "7e0e9f7b",
   "metadata": {},
   "outputs": [
    {
     "ename": "FileNotFoundError",
     "evalue": "[Errno 2] No such file or directory: 'yesterday.txt'",
     "output_type": "error",
     "traceback": [
      "\u001b[0;31m---------------------------------------------------------------------------\u001b[0m",
      "\u001b[0;31mFileNotFoundError\u001b[0m                         Traceback (most recent call last)",
      "\u001b[0;32m/var/folders/yr/jd3hph_53llgn3rcd194plzc0000gp/T/ipykernel_67157/106589577.py\u001b[0m in \u001b[0;36m<module>\u001b[0;34m\u001b[0m\n\u001b[0;32m----> 1\u001b[0;31m \u001b[0mf\u001b[0m \u001b[0;34m=\u001b[0m \u001b[0mopen\u001b[0m\u001b[0;34m(\u001b[0m\u001b[0;34m'yesterday.txt'\u001b[0m\u001b[0;34m,\u001b[0m \u001b[0;34m'r'\u001b[0m\u001b[0;34m)\u001b[0m\u001b[0;34m\u001b[0m\u001b[0;34m\u001b[0m\u001b[0m\n\u001b[0m\u001b[1;32m      2\u001b[0m \u001b[0mlyric_with_readline\u001b[0m \u001b[0;34m=\u001b[0m \u001b[0mf\u001b[0m\u001b[0;34m.\u001b[0m\u001b[0mreadline\u001b[0m\u001b[0;34m(\u001b[0m\u001b[0;34m)\u001b[0m\u001b[0;34m\u001b[0m\u001b[0;34m\u001b[0m\u001b[0m\n\u001b[1;32m      3\u001b[0m \u001b[0mlyric_with_readlines\u001b[0m \u001b[0;34m=\u001b[0m \u001b[0mf\u001b[0m\u001b[0;34m.\u001b[0m\u001b[0mreadlines\u001b[0m\u001b[0;34m(\u001b[0m\u001b[0;34m)\u001b[0m\u001b[0;34m\u001b[0m\u001b[0;34m\u001b[0m\u001b[0m\n\u001b[1;32m      4\u001b[0m \u001b[0mf\u001b[0m\u001b[0;34m.\u001b[0m\u001b[0mclose\u001b[0m\u001b[0;34m(\u001b[0m\u001b[0;34m)\u001b[0m\u001b[0;34m\u001b[0m\u001b[0;34m\u001b[0m\u001b[0m\n",
      "\u001b[0;31mFileNotFoundError\u001b[0m: [Errno 2] No such file or directory: 'yesterday.txt'"
     ]
    }
   ],
   "source": [
    "f = open('yesterday.txt', 'r')\n",
    "lyric_with_readline = f.readline()\n",
    "lyric_with_readlines = f.readlines()\n",
    "f.close()"
   ]
  },
  {
   "cell_type": "code",
   "execution_count": null,
   "id": "51878f14",
   "metadata": {},
   "outputs": [],
   "source": [
    "type(lyric_with_readline)\n",
    "print(lyric_with_readline)"
   ]
  },
  {
   "cell_type": "code",
   "execution_count": null,
   "id": "179ceccf",
   "metadata": {},
   "outputs": [],
   "source": [
    "import random\n",
    "answer_num = random.randint(1, 100)\n",
    "print(\"숫자를 맞혀 보세요. (1~100)\")\n",
    "input_num = int(input())\n",
    "while input_num is not answer_num:\n",
    "    print(input_num, end=\" \")\n",
    "    if input_num < answer_num:\n",
    "        print(\"UP\")\n",
    "    else:\n",
    "        print(\"DOWN\")\n",
    "    input_num = int(input())\n",
    "print(f\"정답입니다. 입력한 숫자는 {input_num} 입니다.\")"
   ]
  },
  {
   "cell_type": "code",
   "execution_count": null,
   "id": "13b5b28c",
   "metadata": {},
   "outputs": [],
   "source": [
    "type(lyric_with_readlines)\n",
    "print(lyric_with_readlines)"
   ]
  },
  {
   "cell_type": "code",
   "execution_count": null,
   "id": "06fa0916",
   "metadata": {},
   "outputs": [],
   "source": [
    "f = open('yesterday.txt', 'r')\n",
    "while True:\n",
    "    line = f.readline()\n",
    "    if not line:\n",
    "        break\n",
    "    print(line)\n",
    "f.close()"
   ]
  },
  {
   "cell_type": "markdown",
   "id": "e842a632",
   "metadata": {},
   "source": [
    "## Formatting and literal"
   ]
  },
  {
   "cell_type": "markdown",
   "id": "eb0bf9a4",
   "metadata": {},
   "source": [
    "### Find \"포맷 문자열 문법\"\n",
    "<https://docs.python.org/ko/3.7/whatsnew/2.6.html#pep-3101-advanced-string-formatting>"
   ]
  },
  {
   "cell_type": "code",
   "execution_count": null,
   "id": "10dda732",
   "metadata": {},
   "outputs": [],
   "source": [
    "num_pi = \"3.141592\"\n",
    "num_e = \"2.718281\"\n",
    "\n",
    "print(\"PI is %s and Euler's number is %s.\" % (num_pi, num_e))\n",
    "print(\"PI is {} and Euler's number is {}.\".format(num_pi, num_e))\n",
    "print(f\"PI is {num_pi} and Euler's number is {num_e}.\")\n",
    "\n",
    "# Padding\n",
    "print(\"===Padding===\")\n",
    "print(\"PI is %10s and Euler's number is %s.\" % (num_pi, num_e))\n",
    "print(\"PI is {:>10} and Euler's number is {}.\".format(num_pi, num_e))\n",
    "print(f\"PI is {num_pi:>10} and Euler's number is {num_e}.\")"
   ]
  },
  {
   "cell_type": "markdown",
   "id": "1086ab71",
   "metadata": {},
   "source": [
    "### f-string and r-string (formatted, raw)"
   ]
  },
  {
   "cell_type": "code",
   "execution_count": null,
   "id": "d8559015",
   "metadata": {},
   "outputs": [],
   "source": [
    "var = 10\n",
    "\n",
    "print(f\"You have {var} apples. \\n\")"
   ]
  },
  {
   "cell_type": "code",
   "execution_count": null,
   "id": "630959d1",
   "metadata": {},
   "outputs": [],
   "source": [
    "print(r\"You have {var} apples. \\n\")"
   ]
  },
  {
   "cell_type": "code",
   "execution_count": null,
   "id": "4cac47d9",
   "metadata": {},
   "outputs": [],
   "source": [
    "\"I eat %d apples.\" % 3"
   ]
  },
  {
   "cell_type": "markdown",
   "id": "ea38dc52",
   "metadata": {},
   "source": [
    "### Numeric literals"
   ]
  },
  {
   "cell_type": "code",
   "execution_count": null,
   "id": "5ff6f0be",
   "metadata": {},
   "outputs": [],
   "source": [
    "# Integer Literals\n",
    "a = 0b1010 # Binary Literals\n",
    "b = 100 # Decimal Literal\n",
    "c = 0o310 # Octal Literal\n",
    "d = 0x12c # Hexadecimal Literal\n",
    "\n",
    "# Float Literal\n",
    "float_1 = 10.5\n",
    "float_2 = 1.512e2\n",
    "\n",
    "# Complex Literal\n",
    "x = 1.1 + 3.14j\n",
    "\n",
    "print(a, b, c, d)\n",
    "print(float_1, float_2)\n",
    "print(x, x.real, x.imag)"
   ]
  },
  {
   "cell_type": "markdown",
   "id": "d1492c44",
   "metadata": {},
   "source": [
    "### String literals"
   ]
  },
  {
   "cell_type": "code",
   "execution_count": null,
   "id": "f3e4068c",
   "metadata": {},
   "outputs": [],
   "source": [
    "# String Literals\n",
    "strings = \"This is Python\"\n",
    "char = \"C\"\n",
    "multiline_str = \"\"\"This is a multiline string with more than one line code.\"\"\"\n",
    "unicode = u\"\\u00dcnic\\u00f6de\"\n",
    "raw_str = r\"raw \\n string\"\n",
    "\n",
    "print(strings)\n",
    "print(char)\n",
    "print(multiline_str)\n",
    "print(unicode)\n",
    "print(raw_str)"
   ]
  },
  {
   "cell_type": "markdown",
   "id": "1116c377",
   "metadata": {},
   "source": [
    "### Boolean literals"
   ]
  },
  {
   "cell_type": "code",
   "execution_count": null,
   "id": "0efd3f90",
   "metadata": {},
   "outputs": [],
   "source": [
    "# Boolean Literals\n",
    "x = (1 == True)\n",
    "y = (1 == False)\n",
    "a = True + 4\n",
    "b = False + 10\n",
    "\n",
    "print(\"x is\", x)\n",
    "print(\"y is\", y)\n",
    "print(\"a:\", a)\n",
    "print(\"b:\", b)"
   ]
  },
  {
   "cell_type": "markdown",
   "id": "024bc394",
   "metadata": {},
   "source": [
    "## print and repr"
   ]
  },
  {
   "cell_type": "code",
   "execution_count": null,
   "id": "f2a6287b",
   "metadata": {},
   "outputs": [],
   "source": [
    "int_value = 5\n",
    "str_value = \"5\"\n",
    "\n",
    "print(f\"{int_value} = {str_value}\")"
   ]
  },
  {
   "cell_type": "code",
   "execution_count": null,
   "id": "e4261ff3",
   "metadata": {},
   "outputs": [],
   "source": [
    "print(f\"{repr(int_value)} = {repr(str_value)}\")"
   ]
  }
 ],
 "metadata": {
  "kernelspec": {
   "display_name": "Python 3.9.6 64-bit",
   "language": "python",
   "name": "python3"
  },
  "language_info": {
   "codemirror_mode": {
    "name": "ipython",
    "version": 3
   },
   "file_extension": ".py",
   "mimetype": "text/x-python",
   "name": "python",
   "nbconvert_exporter": "python",
   "pygments_lexer": "ipython3",
   "version": "3.9.7"
  },
  "vscode": {
   "interpreter": {
    "hash": "4ed7c5303468c6f42560d32e811323012438a4f036415de2c7ac2fb5dad5e44a"
   }
  }
 },
 "nbformat": 4,
 "nbformat_minor": 5
}
