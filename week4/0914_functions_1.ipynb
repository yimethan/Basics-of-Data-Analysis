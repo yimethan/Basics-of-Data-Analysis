{
 "cells": [
  {
   "cell_type": "markdown",
   "metadata": {},
   "source": [
    "# F-string"
   ]
  },
  {
   "cell_type": "code",
   "execution_count": 3,
   "metadata": {
    "collapsed": true,
    "jupyter": {
     "outputs_hidden": true
    },
    "tags": []
   },
   "outputs": [
    {
     "name": "stdout",
     "output_type": "stream",
     "text": [
      " 에 소속된 yim 님은, 22 세로 판명되어 서비스 이용이 가능합니다.\n"
     ]
    }
   ],
   "source": [
    "name = input(\"Input your name.\")\n",
    "age = int(input(\"Input your age.\"))\n",
    "affiliation = input(\"Input your affiliation.\")\n",
    "\n",
    "if age > 18:\n",
    "    print(affiliation, \"에 소속된\", name, \"님은,\", age, \"세로 판명되어 서비스 이용이 가능합니다.\")\n",
    "    # print(f\"{affiliation}에 소속된 {name}님은 {age}세로 판명되어 서비스 이용이 가능합니다.\")\n",
    "else:\n",
    "    print(affiliation, \"에 소속된\", name, \"님은,\", age, \"세로 판명되어 서비스 이용이 불가능합니다.\")\n",
    "    # print(f\"{affiliation}에 소속된 {name}님은 {age}세로 판명되어 서비스 이용이 가능합니다.\")\n",
    "\n"
   ]
  },
  {
   "cell_type": "markdown",
   "id": "90eebfe5",
   "metadata": {},
   "source": [
    "## R-string and printable representation"
   ]
  },
  {
   "cell_type": "markdown",
   "id": "b25bd132",
   "metadata": {},
   "source": [
    "- R-string: json, html과 같은 문서에서 특수문자나 태그등을 변환하지 않고 그대로 사용할 수 있음"
   ]
  },
  {
   "cell_type": "code",
   "execution_count": 4,
   "id": "7d1321bd",
   "metadata": {},
   "outputs": [
    {
     "name": "stdout",
     "output_type": "stream",
     "text": [
      "String is Hello World\n",
      "String is {string}\n"
     ]
    }
   ],
   "source": [
    "string = \"Hello World\"\n",
    "\n",
    "print(f\"String is {string}\")\n",
    "print(r\"String is {string}\")"
   ]
  },
  {
   "cell_type": "markdown",
   "id": "c8c37fca",
   "metadata": {},
   "source": [
    "- repr: "
   ]
  },
  {
   "cell_type": "code",
   "execution_count": 5,
   "id": "da205079",
   "metadata": {},
   "outputs": [
    {
     "name": "stdout",
     "output_type": "stream",
     "text": [
      "Hello World\n",
      "'Hello World'\n"
     ]
    }
   ],
   "source": [
    "print(string)\n",
    "print(repr(string))"
   ]
  },
  {
   "cell_type": "code",
   "execution_count": 6,
   "id": "ec393bad",
   "metadata": {},
   "outputs": [
    {
     "name": "stdout",
     "output_type": "stream",
     "text": [
      "num_int is 100\n",
      "num_str is 100\n",
      "num_int by repr is 100\n",
      "num_str by repr is '100'\n"
     ]
    }
   ],
   "source": [
    "num_int = 100\n",
    "num_str = \"100\"\n",
    "\n",
    "print(f\"num_int is {num_int}\")\n",
    "print(f\"num_str is {num_str}\")\n",
    "\n",
    "print(f\"num_int by repr is {repr(num_int)}\")\n",
    "print(f\"num_str by repr is {repr(num_str)}\")"
   ]
  },
  {
   "cell_type": "markdown",
   "metadata": {},
   "source": [
    "# Conditional statement\n"
   ]
  },
  {
   "cell_type": "markdown",
   "metadata": {},
   "source": [
    "## IF-ELIF-ELSE statement"
   ]
  },
  {
   "cell_type": "code",
   "execution_count": 7,
   "metadata": {},
   "outputs": [
    {
     "name": "stdout",
     "output_type": "stream",
     "text": [
      "D\n"
     ]
    }
   ],
   "source": [
    "# score = int(input(\"Enter your score: \"))\n",
    "score = 79\n",
    "\n",
    "if score >= 90:\n",
    "    grade = 'A'\n",
    "if score >= 80:\n",
    "    grade = 'B'\n",
    "if score >= 70:\n",
    "    grade = 'C'\n",
    "if score >= 60:\n",
    "    grade = 'D'\n",
    "if score < 60:\n",
    "    grade = 'F'\n",
    "\n",
    "print(grade)"
   ]
  },
  {
   "cell_type": "code",
   "execution_count": 20,
   "metadata": {
    "collapsed": true,
    "jupyter": {
     "outputs_hidden": true
    },
    "tags": []
   },
   "outputs": [
    {
     "name": "stdout",
     "output_type": "stream",
     "text": [
      "Welcome to this club!\n"
     ]
    }
   ],
   "source": [
    "myage = int(input(\"Tell me your age.\"))\n",
    "\n",
    "if myage < 30:\n",
    "    print(\"Welcome to this club!\")\n",
    "else:\n",
    "    print(\"You are not allowed to this club.\")"
   ]
  },
  {
   "cell_type": "markdown",
   "metadata": {},
   "source": [
    "## Static memory allocation"
   ]
  },
  {
   "cell_type": "code",
   "execution_count": 9,
   "metadata": {},
   "outputs": [
    {
     "name": "stdout",
     "output_type": "stream",
     "text": [
      "True\n",
      "False\n",
      "False\n",
      "True\n",
      "True\n",
      "True\n"
     ]
    }
   ],
   "source": [
    "a = 1000\n",
    "b = 1000\n",
    "print(a == b)\n",
    "print(a is b)\n",
    "print(id(a) == id(b))\n",
    "\n",
    "c = 1\n",
    "d = 1\n",
    "print(c == d)\n",
    "print(c is d)\n",
    "print(id(c) == id(d))"
   ]
  },
  {
   "cell_type": "markdown",
   "metadata": {},
   "source": [
    "# Loop statement\n",
    "## FOR/WHILE statement"
   ]
  },
  {
   "cell_type": "code",
   "execution_count": 10,
   "metadata": {},
   "outputs": [
    {
     "name": "stdout",
     "output_type": "stream",
     "text": [
      "1\n",
      "2\n",
      "3\n",
      "4\n",
      "5\n"
     ]
    }
   ],
   "source": [
    "for ind in [1, 2, 3, 4, 5]:\n",
    "    print(ind)\n"
   ]
  },
  {
   "cell_type": "code",
   "execution_count": 11,
   "metadata": {},
   "outputs": [
    {
     "name": "stdout",
     "output_type": "stream",
     "text": [
      "1\n",
      "2\n",
      "3\n",
      "4\n",
      "5\n",
      "6\n",
      "7\n",
      "8\n",
      "9\n"
     ]
    }
   ],
   "source": [
    "for ind in range(1, 10):\n",
    "    print(ind)\n"
   ]
  },
  {
   "cell_type": "code",
   "execution_count": 12,
   "metadata": {},
   "outputs": [
    {
     "name": "stdout",
     "output_type": "stream",
     "text": [
      "S\n",
      "C\n",
      "H\n",
      " \n",
      "u\n",
      "n\n",
      "i\n",
      "v\n",
      "e\n",
      "r\n",
      "s\n",
      "i\n",
      "t\n",
      "y\n"
     ]
    }
   ],
   "source": [
    "for ind in \"SCH university\":\n",
    "    print(ind)\n"
   ]
  },
  {
   "cell_type": "code",
   "execution_count": 13,
   "id": "406cbe38",
   "metadata": {},
   "outputs": [
    {
     "name": "stdout",
     "output_type": "stream",
     "text": [
      "0\n",
      "1\n",
      "2\n",
      "3\n",
      "4\n",
      "5\n",
      "6\n",
      "7\n",
      "8\n",
      "9\n"
     ]
    }
   ],
   "source": [
    "i = 0\n",
    "while i < 10:\n",
    "    print(i)\n",
    "    i += 1\n"
   ]
  },
  {
   "cell_type": "markdown",
   "id": "fb99a8e4",
   "metadata": {},
   "source": [
    "### break, continue, else"
   ]
  },
  {
   "cell_type": "code",
   "execution_count": 14,
   "id": "67acdcb7",
   "metadata": {},
   "outputs": [
    {
     "name": "stdout",
     "output_type": "stream",
     "text": [
      "0\n",
      "1\n",
      "2\n",
      "3\n"
     ]
    }
   ],
   "source": [
    "for i in range(5):\n",
    "    print(i)\n",
    "    if i == 3:\n",
    "        break"
   ]
  },
  {
   "cell_type": "code",
   "execution_count": 15,
   "id": "b5bce391",
   "metadata": {},
   "outputs": [
    {
     "name": "stdout",
     "output_type": "stream",
     "text": [
      "0\n",
      "1\n",
      "2\n",
      "4\n"
     ]
    }
   ],
   "source": [
    "for i in range(5):\n",
    "    if i == 3:\n",
    "        continue\n",
    "    print(i)"
   ]
  },
  {
   "cell_type": "markdown",
   "id": "cad89a8a",
   "metadata": {},
   "source": [
    "- DO NOT use else for loop statement"
   ]
  },
  {
   "cell_type": "code",
   "execution_count": 16,
   "id": "b9d73889",
   "metadata": {},
   "outputs": [
    {
     "name": "stdout",
     "output_type": "stream",
     "text": [
      "0\n",
      "1\n",
      "2\n",
      "3\n",
      "4\n",
      "done\n"
     ]
    }
   ],
   "source": [
    "for i in range(5):\n",
    "    print(i)\n",
    "else:\n",
    "    print(\"done\")"
   ]
  },
  {
   "cell_type": "markdown",
   "id": "9c2ebfb4",
   "metadata": {},
   "source": [
    "### enumerate function"
   ]
  },
  {
   "cell_type": "code",
   "execution_count": 17,
   "id": "309fb2a8",
   "metadata": {},
   "outputs": [
    {
     "name": "stdout",
     "output_type": "stream",
     "text": [
      "S\n",
      "C\n",
      "H\n",
      " \n",
      "u\n",
      "n\n",
      "i\n",
      "v\n",
      "e\n",
      "r\n",
      "s\n",
      "i\n",
      "t\n",
      "y\n"
     ]
    }
   ],
   "source": [
    "for char in \"SCH university\":\n",
    "    print(char)"
   ]
  },
  {
   "cell_type": "code",
   "execution_count": 18,
   "id": "2d6fb8b5",
   "metadata": {},
   "outputs": [
    {
     "name": "stdout",
     "output_type": "stream",
     "text": [
      "0 S\n",
      "1 C\n",
      "2 H\n",
      "3  \n",
      "4 u\n",
      "5 n\n",
      "6 i\n",
      "7 v\n",
      "8 e\n",
      "9 r\n",
      "10 s\n",
      "11 i\n",
      "12 t\n",
      "13 y\n"
     ]
    }
   ],
   "source": [
    "for ind, char in enumerate(\"SCH university\"):\n",
    "    print(ind, char)"
   ]
  },
  {
   "cell_type": "code",
   "execution_count": 19,
   "id": "36ebbd20",
   "metadata": {},
   "outputs": [
    {
     "name": "stdout",
     "output_type": "stream",
     "text": [
      "vanilla\n",
      "chocolate\n",
      "pecan\n",
      "strawberry\n"
     ]
    }
   ],
   "source": [
    "flavor_list = [\"vanilla\", \"chocolate\", \"pecan\", \"strawberry\"]\n",
    "for flavor in flavor_list:\n",
    "    print(flavor)"
   ]
  },
  {
   "cell_type": "code",
   "execution_count": 21,
   "id": "82511f18",
   "metadata": {},
   "outputs": [
    {
     "name": "stdout",
     "output_type": "stream",
     "text": [
      "1: vanilla\n",
      "2: chocolate\n",
      "3: pecan\n",
      "4: strawberry\n"
     ]
    }
   ],
   "source": [
    "for i in range(len(flavor_list)):\n",
    "    flavor = flavor_list[i]\n",
    "    print(f\"{i + 1}: {flavor}\")"
   ]
  },
  {
   "cell_type": "markdown",
   "id": "fb9fa2f8",
   "metadata": {},
   "source": [
    "### enumerate: \"lazy generator\"\n",
    "https://docs.python.org/ko/3/library/functions.html#enumerate"
   ]
  },
  {
   "cell_type": "code",
   "execution_count": 22,
   "id": "ba30d0a3",
   "metadata": {},
   "outputs": [
    {
     "name": "stdout",
     "output_type": "stream",
     "text": [
      "1: vanilla\n",
      "2: chocolate\n",
      "3: pecan\n",
      "4: strawberry\n"
     ]
    }
   ],
   "source": [
    "for i, flavor in enumerate(flavor_list):\n",
    "    print(f\"{i + 1}: {flavor}\")"
   ]
  },
  {
   "cell_type": "code",
   "execution_count": 23,
   "id": "9186bd5d",
   "metadata": {},
   "outputs": [
    {
     "name": "stdout",
     "output_type": "stream",
     "text": [
      "1: vanilla\n",
      "2: chocolate\n",
      "3: pecan\n",
      "4: strawberry\n"
     ]
    }
   ],
   "source": [
    "for i, flavor in enumerate(flavor_list, 1):\n",
    "    print(f\"{i}: {flavor}\")"
   ]
  },
  {
   "cell_type": "markdown",
   "id": "61ddfd90",
   "metadata": {},
   "source": [
    "### iterator and generator\n",
    "- iterator: an object that continues to return the next value when calling the next() function."
   ]
  },
  {
   "cell_type": "code",
   "execution_count": 24,
   "id": "a13d050e",
   "metadata": {},
   "outputs": [
    {
     "name": "stdout",
     "output_type": "stream",
     "text": [
      "1\n",
      "2\n",
      "3\n",
      "4\n"
     ]
    }
   ],
   "source": [
    "# For example, how is the entry of the following list allocated to the variable i for each iteration?\n",
    "\n",
    "for i in [1, 2, 3, 4]:\n",
    "    print(i)"
   ]
  },
  {
   "cell_type": "code",
   "execution_count": 25,
   "id": "7d7d93e5",
   "metadata": {},
   "outputs": [
    {
     "ename": "TypeError",
     "evalue": "'list' object is not an iterator",
     "output_type": "error",
     "traceback": [
      "\u001b[0;31m---------------------------------------------------------------------------\u001b[0m",
      "\u001b[0;31mTypeError\u001b[0m                                 Traceback (most recent call last)",
      "\u001b[0;32m/var/folders/yr/jd3hph_53llgn3rcd194plzc0000gp/T/ipykernel_4435/2174243304.py\u001b[0m in \u001b[0;36m<module>\u001b[0;34m\u001b[0m\n\u001b[1;32m      1\u001b[0m \u001b[0ma\u001b[0m \u001b[0;34m=\u001b[0m \u001b[0;34m[\u001b[0m\u001b[0;36m1\u001b[0m\u001b[0;34m,\u001b[0m \u001b[0;36m2\u001b[0m\u001b[0;34m,\u001b[0m \u001b[0;36m3\u001b[0m\u001b[0;34m,\u001b[0m \u001b[0;36m4\u001b[0m\u001b[0;34m]\u001b[0m\u001b[0;34m\u001b[0m\u001b[0;34m\u001b[0m\u001b[0m\n\u001b[0;32m----> 2\u001b[0;31m \u001b[0mnext\u001b[0m\u001b[0;34m(\u001b[0m\u001b[0ma\u001b[0m\u001b[0;34m)\u001b[0m\u001b[0;34m\u001b[0m\u001b[0;34m\u001b[0m\u001b[0m\n\u001b[0m",
      "\u001b[0;31mTypeError\u001b[0m: 'list' object is not an iterator"
     ]
    }
   ],
   "source": [
    "a = [1, 2, 3, 4]\n",
    "next(a)"
   ]
  },
  {
   "cell_type": "code",
   "execution_count": 26,
   "id": "a0261966",
   "metadata": {},
   "outputs": [
    {
     "name": "stdout",
     "output_type": "stream",
     "text": [
      "1\n",
      "2\n",
      "3\n",
      "4\n"
     ]
    }
   ],
   "source": [
    "a = [1, 2, 3, 4]\n",
    "it_a = iter(a)\n",
    "print(next(it_a))\n",
    "print(next(it_a))\n",
    "print(next(it_a))\n",
    "print(next(it_a))"
   ]
  },
  {
   "cell_type": "code",
   "execution_count": 27,
   "id": "7543ca31",
   "metadata": {},
   "outputs": [
    {
     "name": "stdout",
     "output_type": "stream",
     "text": [
      "(0, 'vanilla')\n",
      "(1, 'chocolate')\n",
      "(2, 'pecan')\n",
      "(3, 'strawberry')\n"
     ]
    }
   ],
   "source": [
    "it_enum = enumerate(flavor_list)\n",
    "print(next(it_enum))\n",
    "print(next(it_enum))\n",
    "print(next(it_enum))\n",
    "print(next(it_enum))"
   ]
  },
  {
   "cell_type": "markdown",
   "id": "0e6de53b",
   "metadata": {},
   "source": [
    "- generator: a function that creates an iterator."
   ]
  },
  {
   "cell_type": "code",
   "execution_count": 28,
   "id": "5ef20579",
   "metadata": {},
   "outputs": [
    {
     "name": "stdout",
     "output_type": "stream",
     "text": [
      "1\n",
      "2\n",
      "3\n"
     ]
    }
   ],
   "source": [
    "def test_generator():\n",
    "    yield 1\n",
    "    yield 2\n",
    "    yield 3\n",
    "\n",
    "gen = test_generator()\n",
    "print(next(gen))\n",
    "print(next(gen))\n",
    "print(next(gen))"
   ]
  },
  {
   "cell_type": "markdown",
   "id": "afa6153f",
   "metadata": {},
   "source": [
    "## Assignment expression (walrus operator)\n",
    "https://docs.python.org/3/faq/design.html#why-can-t-i-use-an-assignment-in-an-expression\n",
    "\n",
    "<img src=\"https://int-i.github.io/assets/posts/2020-05-29-python-walrus-operator/walrus.jpg\" width=\"300\" height=\"300\">"
   ]
  },
  {
   "cell_type": "code",
   "execution_count": 29,
   "id": "28d34a8b",
   "metadata": {},
   "outputs": [
    {
     "name": "stdout",
     "output_type": "stream",
     "text": [
      "List is too long (6 elements, expected <= 5)\n"
     ]
    }
   ],
   "source": [
    "a = [1, 2, 3, 4, 5, 6]\n",
    "n = len(a)\n",
    "if n > 5:\n",
    "    print(f\"List is too long ({n} elements, expected <= 5)\")"
   ]
  },
  {
   "cell_type": "code",
   "execution_count": 30,
   "id": "59e2cce0",
   "metadata": {},
   "outputs": [
    {
     "name": "stdout",
     "output_type": "stream",
     "text": [
      "List is too long (6 elements, expected <= 5)\n"
     ]
    }
   ],
   "source": [
    "a = [1, 2, 3, 4, 5, 6]\n",
    "if (n := len(a)) > 5:\n",
    "    print(f\"List is too long ({n} elements, expected <= 5)\")"
   ]
  },
  {
   "cell_type": "markdown",
   "id": "9fa56ac6",
   "metadata": {},
   "source": [
    "## Lab: 구구단 계산기"
   ]
  },
  {
   "cell_type": "code",
   "execution_count": 35,
   "id": "bbc03f03",
   "metadata": {},
   "outputs": [
    {
     "name": "stdout",
     "output_type": "stream",
     "text": [
      "5 x 1 = 5\n",
      "5 x 2 = 10\n",
      "5 x 3 = 15\n",
      "5 x 4 = 20\n",
      "5 x 5 = 25\n",
      "5 x 6 = 30\n",
      "5 x 7 = 35\n",
      "5 x 8 = 40\n",
      "5 x 9 = 45\n"
     ]
    }
   ],
   "source": [
    "def mult(n):\n",
    "    for i in range(1, 10):\n",
    "        print(f\"{n} x {i} = {n * i}\")\n",
    "    \n",
    "n = int(input(\"Enter a number: \"))\n",
    "\n",
    "mult(n)"
   ]
  },
  {
   "cell_type": "markdown",
   "id": "b9e35c9f",
   "metadata": {},
   "source": [
    "## Lab: 문자열 역순 출력"
   ]
  },
  {
   "cell_type": "code",
   "execution_count": 34,
   "id": "038c16e4",
   "metadata": {},
   "outputs": [
    {
     "name": "stdout",
     "output_type": "stream",
     "text": [
      "y\n",
      "t\n",
      "i\n",
      "s\n",
      "r\n",
      "e\n",
      "v\n",
      "i\n",
      "n\n",
      "u\n",
      " \n",
      "H\n",
      "C\n",
      "S\n"
     ]
    }
   ],
   "source": [
    "def backwards(word):\n",
    "    for char in reversed(word):\n",
    "        print(char)\n",
    "\n",
    "backwards(\"SCH university\")"
   ]
  },
  {
   "cell_type": "markdown",
   "id": "a9551e32",
   "metadata": {},
   "source": [
    "## Lab: 야구게임\n",
    "```\n",
    "Num_a: 156, Num_b: 657\n",
    "1S 1B\n",
    "\n",
    "Num_a: 123, Num_b: 231\n",
    "0S 3B\n",
    "```"
   ]
  },
  {
   "cell_type": "code",
   "execution_count": 33,
   "id": "9412ec69",
   "metadata": {},
   "outputs": [
    {
     "name": "stdout",
     "output_type": "stream",
     "text": [
      "0S 3B\n"
     ]
    }
   ],
   "source": [
    "num_a = \"123\"\n",
    "num_b = \"231\"\n",
    "\n",
    "def game(num_a, num_b):\n",
    "    strike = 0\n",
    "    ball = 0\n",
    "\n",
    "    for i in range(3):\n",
    "        if num_a[i] == num_b[i]:\n",
    "            strike += 1\n",
    "        elif num_a[i] in num_b:\n",
    "            ball += 1\n",
    "    \n",
    "    return strike, ball\n",
    "\n",
    "s, b = game(num_a, num_b)\n",
    "\n",
    "print(f\"{s}S {b}B\")"
   ]
  },
  {
   "cell_type": "markdown",
   "id": "2e1acb25",
   "metadata": {},
   "source": [
    "## Lab: 서로소 여부 출력하기"
   ]
  },
  {
   "cell_type": "markdown",
   "id": "9428240e",
   "metadata": {},
   "source": [
    "```\n",
    "5 and 7 are coprime.\n",
    "\n",
    "12 and 16 are not coprime. GCD is 4.\n",
    "```"
   ]
  },
  {
   "cell_type": "code",
   "execution_count": 31,
   "id": "4b7341a5",
   "metadata": {},
   "outputs": [
    {
     "name": "stdout",
     "output_type": "stream",
     "text": [
      "5 and 7 are coprime.\n"
     ]
    }
   ],
   "source": [
    "def coprime(a, b):\n",
    "    \n",
    "    gcd = 0\n",
    "    \n",
    "    for i in range(a, 1, -1):\n",
    "        if a % i == 0 and b % i == 0:\n",
    "            gcd = i\n",
    "    \n",
    "    return gcd\n",
    "\n",
    "a = int(input(\"Enter a number: \"))\n",
    "b = int(input(\"Enter a number: \"))\n",
    "\n",
    "res = coprime(a, b)\n",
    "\n",
    "if res == 0:\n",
    "    print(f'{a} and {b} are coprime.')\n",
    "else:\n",
    "    print(f'{a} and {b} are not coprime. GCD is {res}.')"
   ]
  },
  {
   "cell_type": "code",
   "execution_count": null,
   "id": "2a371e2d",
   "metadata": {},
   "outputs": [],
   "source": []
  }
 ],
 "metadata": {
  "kernelspec": {
   "display_name": "Python 3.9.6 64-bit",
   "language": "python",
   "name": "python3"
  },
  "language_info": {
   "codemirror_mode": {
    "name": "ipython",
    "version": 3
   },
   "file_extension": ".py",
   "mimetype": "text/x-python",
   "name": "python",
   "nbconvert_exporter": "python",
   "pygments_lexer": "ipython3",
   "version": "3.9.7"
  },
  "vscode": {
   "interpreter": {
    "hash": "4ed7c5303468c6f42560d32e811323012438a4f036415de2c7ac2fb5dad5e44a"
   }
  }
 },
 "nbformat": 4,
 "nbformat_minor": 5
}
