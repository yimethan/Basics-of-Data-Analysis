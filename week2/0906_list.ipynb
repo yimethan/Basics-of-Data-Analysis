{
 "cells": [
  {
   "cell_type": "markdown",
   "metadata": {},
   "source": [
    "# Input\n"
   ]
  },
  {
   "cell_type": "code",
   "execution_count": 21,
   "metadata": {
    "collapsed": true,
    "jupyter": {
     "outputs_hidden": true
    },
    "tags": []
   },
   "outputs": [
    {
     "name": "stdout",
     "output_type": "stream",
     "text": [
      "\n"
     ]
    }
   ],
   "source": [
    "num1 = input()\n",
    "num2 = input()\n",
    "\n",
    "print(num1 + num2)"
   ]
  },
  {
   "cell_type": "markdown",
   "metadata": {},
   "source": [
    "# List\n",
    "https://docs.python.org/3/tutorial/datastructures.html"
   ]
  },
  {
   "cell_type": "markdown",
   "id": "01be80e9",
   "metadata": {},
   "source": [
    "## Indexing"
   ]
  },
  {
   "cell_type": "code",
   "execution_count": 22,
   "metadata": {
    "collapsed": true,
    "jupyter": {
     "outputs_hidden": true
    },
    "tags": []
   },
   "outputs": [
    {
     "name": "stdout",
     "output_type": "stream",
     "text": [
      "['red', 'yellow', 'green']\n",
      "<class 'list'>\n",
      "<class 'str'>\n",
      "3\n"
     ]
    }
   ],
   "source": [
    "colors = [\"red\", \"yellow\", \"green\"]\n",
    "print(colors)\n",
    "print(type(colors))\n",
    "print(type(colors[0]))\n",
    "print(len(colors))"
   ]
  },
  {
   "cell_type": "markdown",
   "metadata": {},
   "source": [
    "## Slicing"
   ]
  },
  {
   "cell_type": "code",
   "execution_count": 23,
   "metadata": {},
   "outputs": [
    {
     "name": "stdout",
     "output_type": "stream",
     "text": [
      "['Seoul', 'Asan', 'Jeju']\n",
      "['Seoul', 'Busan', 'Asan', 'Cheonan']\n"
     ]
    }
   ],
   "source": [
    "cities = [\"Seoul\", \"Busan\", \"Asan\", \"Cheonan\", \"Jeju\"]\n",
    "print(cities[0:5:2])\n",
    "# print(cities[0:end:1])\n",
    "print(cities[0:-1:])"
   ]
  },
  {
   "cell_type": "code",
   "execution_count": 24,
   "id": "4718221e",
   "metadata": {},
   "outputs": [
    {
     "data": {
      "text/plain": [
       "['Seoul', 'Asan', 'Jeju']"
      ]
     },
     "execution_count": 24,
     "metadata": {},
     "output_type": "execute_result"
    }
   ],
   "source": [
    "cities[::2]"
   ]
  },
  {
   "cell_type": "code",
   "execution_count": 25,
   "id": "fc014d66",
   "metadata": {},
   "outputs": [
    {
     "data": {
      "text/plain": [
       "['Jeju', 'Cheonan', 'Asan', 'Busan', 'Seoul']"
      ]
     },
     "execution_count": 25,
     "metadata": {},
     "output_type": "execute_result"
    }
   ],
   "source": [
    "cities[::-1]"
   ]
  },
  {
   "cell_type": "markdown",
   "metadata": {},
   "source": [
    "## Append"
   ]
  },
  {
   "cell_type": "code",
   "execution_count": 26,
   "metadata": {
    "tags": []
   },
   "outputs": [
    {
     "name": "stdout",
     "output_type": "stream",
     "text": [
      "Colors_1 is:  ['red', 'yellow', 'green']\n",
      "Colors_2 is:  ['red', 'yellow', 'green', 'blue']\n",
      "Appended list of Colors_2 is:  ['red', 'yellow', 'green', 'blue', 'black']\n"
     ]
    }
   ],
   "source": [
    "colors_1 = [\"red\", \"yellow\", \"green\"]\n",
    "print(\"Colors_1 is: \", colors_1)\n",
    "\n",
    "colors_2 = colors_1 + [\"blue\"]\n",
    "print(\"Colors_2 is: \", colors_2)\n",
    "\n",
    "colors_2.append(\"black\")\n",
    "print(\"Appended list of Colors_2 is: \", colors_2)"
   ]
  },
  {
   "cell_type": "code",
   "execution_count": 27,
   "id": "33756b1d",
   "metadata": {},
   "outputs": [
    {
     "data": {
      "text/plain": [
       "['orange', 'apple', 'pear', 'banana', 'kiwi', 'apple', 'banana', 'grape']"
      ]
     },
     "execution_count": 27,
     "metadata": {},
     "output_type": "execute_result"
    }
   ],
   "source": [
    "fruits = ['orange', 'apple', 'pear', 'banana', 'kiwi', 'apple', 'banana']\n",
    "fruits.append('grape')  # Why not fruits = fruits.append('grape')?\n",
    "fruits"
   ]
  },
  {
   "cell_type": "code",
   "execution_count": 28,
   "id": "b0332830",
   "metadata": {},
   "outputs": [],
   "source": [
    "a = fruits.append('grape')  # Why not fruits = fruits.append('grape')?"
   ]
  },
  {
   "cell_type": "code",
   "execution_count": 29,
   "id": "cf4a2dcf",
   "metadata": {},
   "outputs": [
    {
     "name": "stdout",
     "output_type": "stream",
     "text": [
      "None\n"
     ]
    }
   ],
   "source": [
    "print(a)"
   ]
  },
  {
   "cell_type": "markdown",
   "metadata": {},
   "source": [
    "## Packing/unpacking\n",
    "### \"가능하면 list indexing보다는 unpacking을 사용하는 것이 가독성에 좋습니다.\""
   ]
  },
  {
   "cell_type": "code",
   "execution_count": 30,
   "metadata": {
    "tags": []
   },
   "outputs": [
    {
     "name": "stdout",
     "output_type": "stream",
     "text": [
      "Original list is:  ['red', 'yellow', 'green']\n",
      "Unpacked list is:  red yellow green\n",
      "Unpacked list with * is:  red yellow green\n",
      "Packed list is:  ('red', 'yellow', 'green')\n",
      "<class 'tuple'>\n"
     ]
    }
   ],
   "source": [
    "colors = [\"red\", \"yellow\", \"green\"]\n",
    "r, g, b = colors\n",
    "print(\"Original list is: \", colors)\n",
    "print(\"Unpacked list is: \", r, g, b)\n",
    "print(\"Unpacked list with * is: \", *colors)\n",
    "\n",
    "colors_packed = r, g, b\n",
    "print(\"Packed list is: \", colors_packed)\n",
    "print(type(colors_packed))"
   ]
  },
  {
   "cell_type": "markdown",
   "metadata": {},
   "source": [
    "## List and tuple (Mutable and immutable)\n",
    "### \"==\": 값이 같은가?\n",
    "### \"is\": 오브젝트가 같은가?"
   ]
  },
  {
   "cell_type": "code",
   "execution_count": 1,
   "metadata": {
    "tags": []
   },
   "outputs": [
    {
     "name": "stdout",
     "output_type": "stream",
     "text": [
      "False\n",
      "140379798294976 140379798289024\n",
      "True\n",
      "140381413648256 140381413648256\n"
     ]
    }
   ],
   "source": [
    "list1 = [1, 2, 3]\n",
    "list2 = list1[0:3]\n",
    "print(list1 is list2)\n",
    "print(id(list1), id(list2))\n",
    "\n",
    "tuple1 = (1, 2, 3)\n",
    "tuple2 = tuple1[0:3]\n",
    "print(tuple1 is tuple2)\n",
    "print(id(tuple1), id(tuple2))"
   ]
  },
  {
   "cell_type": "code",
   "execution_count": 32,
   "id": "f46e2663",
   "metadata": {},
   "outputs": [
    {
     "name": "stdout",
     "output_type": "stream",
     "text": [
      "True\n",
      "False\n"
     ]
    },
    {
     "name": "stderr",
     "output_type": "stream",
     "text": [
      "<>:4: SyntaxWarning: \"is\" with a literal. Did you mean \"==\"?\n",
      "<>:5: SyntaxWarning: \"is\" with a literal. Did you mean \"==\"?\n",
      "<>:4: SyntaxWarning: \"is\" with a literal. Did you mean \"==\"?\n",
      "<>:5: SyntaxWarning: \"is\" with a literal. Did you mean \"==\"?\n",
      "/var/folders/yr/jd3hph_53llgn3rcd194plzc0000gp/T/ipykernel_95408/1279639824.py:4: SyntaxWarning: \"is\" with a literal. Did you mean \"==\"?\n",
      "  print(a is 1)\n",
      "/var/folders/yr/jd3hph_53llgn3rcd194plzc0000gp/T/ipykernel_95408/1279639824.py:5: SyntaxWarning: \"is\" with a literal. Did you mean \"==\"?\n",
      "  print(b is 100000)\n"
     ]
    }
   ],
   "source": [
    "a = 1\n",
    "b = 100000\n",
    "\n",
    "print(a is 1)\n",
    "print(b is 100000)"
   ]
  },
  {
   "cell_type": "markdown",
   "id": "e8679ef6",
   "metadata": {},
   "source": [
    "* Mutable data types: list, dictionary, set, and user-defined classes.\n",
    "* Immutable data types: int, float, decimal, bool, string, tuple, and range.\n",
    "\n",
    "**Are int, float, etc, immutable??**"
   ]
  },
  {
   "cell_type": "code",
   "execution_count": 33,
   "id": "dc1016a1",
   "metadata": {},
   "outputs": [
    {
     "name": "stdout",
     "output_type": "stream",
     "text": [
      "[100, 2, 3]\n"
     ]
    },
    {
     "ename": "TypeError",
     "evalue": "'tuple' object does not support item assignment",
     "output_type": "error",
     "traceback": [
      "\u001b[0;31m---------------------------------------------------------------------------\u001b[0m",
      "\u001b[0;31mTypeError\u001b[0m                                 Traceback (most recent call last)",
      "\u001b[0;32m/var/folders/yr/jd3hph_53llgn3rcd194plzc0000gp/T/ipykernel_95408/3497753946.py\u001b[0m in \u001b[0;36m<module>\u001b[0;34m\u001b[0m\n\u001b[1;32m      3\u001b[0m \u001b[0mlist_values\u001b[0m\u001b[0;34m[\u001b[0m\u001b[0;36m0\u001b[0m\u001b[0;34m]\u001b[0m \u001b[0;34m=\u001b[0m \u001b[0;36m100\u001b[0m\u001b[0;34m\u001b[0m\u001b[0;34m\u001b[0m\u001b[0m\n\u001b[1;32m      4\u001b[0m \u001b[0mprint\u001b[0m\u001b[0;34m(\u001b[0m\u001b[0mlist_values\u001b[0m\u001b[0;34m)\u001b[0m\u001b[0;34m\u001b[0m\u001b[0;34m\u001b[0m\u001b[0m\n\u001b[0;32m----> 5\u001b[0;31m \u001b[0mtuple_values\u001b[0m\u001b[0;34m[\u001b[0m\u001b[0;36m0\u001b[0m\u001b[0;34m]\u001b[0m \u001b[0;34m=\u001b[0m \u001b[0;36m100\u001b[0m\u001b[0;34m\u001b[0m\u001b[0;34m\u001b[0m\u001b[0m\n\u001b[0m",
      "\u001b[0;31mTypeError\u001b[0m: 'tuple' object does not support item assignment"
     ]
    }
   ],
   "source": [
    "list_values = [1, 2, 3]\n",
    "tuple_values = (10, 20, 30)\n",
    "list_values[0] = 100\n",
    "print(list_values)\n",
    "tuple_values[0] = 100"
   ]
  },
  {
   "cell_type": "markdown",
   "id": "d213b40b",
   "metadata": {},
   "source": [
    "### List is an object that can change themselves after we instantiate them."
   ]
  },
  {
   "cell_type": "code",
   "execution_count": null,
   "id": "b981bf53",
   "metadata": {},
   "outputs": [
    {
     "name": "stdout",
     "output_type": "stream",
     "text": [
      "140200218474240 ['hi', 'bye', 52, True, 2.3]\n",
      "140200218474240 ['hi', 'see u later', 52, True, 2.3]\n"
     ]
    }
   ],
   "source": [
    "list1 = ['hi','bye',52,True,2.3]\n",
    "print(id(list1), list1)\n",
    "\n",
    "list1[1]='see u later'\n",
    "print(id(list1), list1)"
   ]
  },
  {
   "cell_type": "markdown",
   "id": "b1873779",
   "metadata": {},
   "source": [
    "### Integer cannot change themselves after we initialize them."
   ]
  },
  {
   "cell_type": "code",
   "execution_count": null,
   "id": "78e8b9bf",
   "metadata": {},
   "outputs": [
    {
     "name": "stdout",
     "output_type": "stream",
     "text": [
      "140200771415536 1000\n",
      "140200771415984 2000\n"
     ]
    }
   ],
   "source": [
    "integer1 = 1000\n",
    "print(id(integer1), integer1)\n",
    "\n",
    "integer1 += 1000\n",
    "print(id(integer1), integer1)"
   ]
  },
  {
   "cell_type": "markdown",
   "id": "efeec3c6",
   "metadata": {},
   "source": [
    "### That is why we can use method to manipulate list, like append()."
   ]
  },
  {
   "cell_type": "code",
   "execution_count": 34,
   "id": "2eaa7331",
   "metadata": {},
   "outputs": [
    {
     "name": "stdout",
     "output_type": "stream",
     "text": [
      "140200781017216 [1, 2, 3]\n",
      "140200781017216 [1, 2, 3, 4]\n"
     ]
    }
   ],
   "source": [
    "list2 = [1, 2, 3]\n",
    "print(id(list2), list2)\n",
    "\n",
    "list2.append(4) # Not list2 = list2.append(4)!!\n",
    "print(id(list2), list2)"
   ]
  },
  {
   "cell_type": "markdown",
   "id": "49192a23",
   "metadata": {},
   "source": [
    "### Unpacking, rather than indexing."
   ]
  },
  {
   "cell_type": "code",
   "execution_count": 35,
   "id": "7312d5f9",
   "metadata": {},
   "outputs": [
    {
     "name": "stdout",
     "output_type": "stream",
     "text": [
      "천안 & 아산\n"
     ]
    }
   ],
   "source": [
    "item = (\"천안\", \"아산\")\n",
    "first = item[0]\n",
    "second = item[1]\n",
    "print(first, '&', second)"
   ]
  },
  {
   "cell_type": "code",
   "execution_count": 2,
   "id": "24c5e958",
   "metadata": {},
   "outputs": [
    {
     "name": "stdout",
     "output_type": "stream",
     "text": [
      "천안 & 아산\n"
     ]
    }
   ],
   "source": [
    "item = (\"천안\", \"아산\")\n",
    "first, second = item\n",
    "print(first, '&', second)"
   ]
  },
  {
   "cell_type": "code",
   "execution_count": 3,
   "id": "743a8efa",
   "metadata": {},
   "outputs": [],
   "source": [
    "first, *others, second = item"
   ]
  },
  {
   "cell_type": "code",
   "execution_count": 4,
   "id": "6647bfbe",
   "metadata": {},
   "outputs": [
    {
     "name": "stdout",
     "output_type": "stream",
     "text": [
      "천안 [] 아산\n"
     ]
    }
   ],
   "source": [
    "print(first, others, second)"
   ]
  },
  {
   "cell_type": "code",
   "execution_count": 37,
   "id": "4e8d2e13",
   "metadata": {},
   "outputs": [
    {
     "name": "stdout",
     "output_type": "stream",
     "text": [
      "[2, 1]\n"
     ]
    }
   ],
   "source": [
    "arr = [1, 2]\n",
    "\n",
    "temp = arr[0]\n",
    "arr[0] = arr[1]\n",
    "arr[1] = temp\n",
    "\n",
    "print(arr)"
   ]
  },
  {
   "cell_type": "code",
   "execution_count": 38,
   "id": "84140115",
   "metadata": {},
   "outputs": [
    {
     "name": "stdout",
     "output_type": "stream",
     "text": [
      "[2, 1]\n"
     ]
    }
   ],
   "source": [
    "arr = [1, 2]\n",
    "\n",
    "arr[0], arr[1] = arr[1], arr[0] # Actually, arr[1], arr[0] is a tuple (arr[1], arr[0]).\n",
    "\n",
    "print(arr)"
   ]
  },
  {
   "cell_type": "markdown",
   "id": "7f97e4cb",
   "metadata": {},
   "source": [
    "### Unpacking, rather than slicing"
   ]
  },
  {
   "cell_type": "markdown",
   "id": "7ae9a72a",
   "metadata": {},
   "source": [
    "* 가장 오래된 두 자동차의 나이를 출력하고 싶을 떄"
   ]
  },
  {
   "cell_type": "code",
   "execution_count": 5,
   "id": "c48466b6",
   "metadata": {},
   "outputs": [],
   "source": [
    "car_ages = [0, 9, 4, 8, 7, 20, 19, 1, 6, 15]\n",
    "car_ages_descending = sorted(car_ages, reverse=True)\n",
    "oldest, second_oldest, *others = car_ages_descending"
   ]
  },
  {
   "cell_type": "code",
   "execution_count": 6,
   "id": "49e13fd7",
   "metadata": {},
   "outputs": [
    {
     "data": {
      "text/plain": [
       "(20, 19, [15, 9, 8, 7, 6, 4, 1, 0])"
      ]
     },
     "execution_count": 6,
     "metadata": {},
     "output_type": "execute_result"
    }
   ],
   "source": [
    "oldest, second_oldest, others"
   ]
  },
  {
   "cell_type": "markdown",
   "id": "c37f0022",
   "metadata": {},
   "source": [
    "* 1 차이나는 인덱스로 인한 off-by-one-error가 발생하기 쉽다."
   ]
  },
  {
   "cell_type": "code",
   "execution_count": 40,
   "id": "e4141693",
   "metadata": {},
   "outputs": [
    {
     "name": "stdout",
     "output_type": "stream",
     "text": [
      "20 19 [15, 9, 8, 7, 6, 4, 1, 0]\n"
     ]
    }
   ],
   "source": [
    "oldest = car_ages_descending[0]\n",
    "second_oldest = car_ages_descending[1]\n",
    "others = car_ages_descending[2:]\n",
    "print(oldest, second_oldest, others)"
   ]
  },
  {
   "cell_type": "code",
   "execution_count": 41,
   "id": "5d356d75",
   "metadata": {},
   "outputs": [
    {
     "name": "stdout",
     "output_type": "stream",
     "text": [
      "20 19 [15, 9, 8, 7, 6, 4, 1, 0]\n"
     ]
    }
   ],
   "source": [
    "oldest, second_oldest, *others = car_ages_descending\n",
    "print(oldest, second_oldest, others)"
   ]
  },
  {
   "cell_type": "code",
   "execution_count": 7,
   "id": "5f0196f0",
   "metadata": {},
   "outputs": [
    {
     "name": "stdout",
     "output_type": "stream",
     "text": [
      "20 0 [19, 15, 9, 8, 7, 6, 4, 1]\n"
     ]
    }
   ],
   "source": [
    "oldest, *others, youngest = car_ages_descending\n",
    "print(oldest, youngest, others)"
   ]
  },
  {
   "cell_type": "code",
   "execution_count": 8,
   "id": "2bbe31f1",
   "metadata": {},
   "outputs": [
    {
     "data": {
      "text/plain": [
       "(20, [19, 15, 9, 8, 7, 6, 4, 1], 0)"
      ]
     },
     "execution_count": 8,
     "metadata": {},
     "output_type": "execute_result"
    }
   ],
   "source": [
    "oldest, others, youngest"
   ]
  },
  {
   "cell_type": "code",
   "execution_count": 5,
   "id": "593f9aa4",
   "metadata": {},
   "outputs": [],
   "source": [
    "cars = [[\"age\",\t\"gender\",\t\"miles\",\t\"debt\",\t\"income\",\t\"sales\"],\n",
    "        [28,\t0,\t23,\t0,\t4099,\t620],\n",
    "        [26,\t0,\t27,\t0,\t2677,\t1792],\n",
    "        [30,\t1,\t58,\t41576,\t6215,\t27754],\n",
    "        [26,\t1,\t25,\t43172,\t7626,\t28256],\n",
    "        [20,\t1,\t17,\t6979,\t8071,\t4438],\n",
    "        [58,\t1,\t18,\t0,\t1262,\t2102],\n",
    "        [44,\t1,\t17,\t418,\t7017,\t8520],\n",
    "        [39,\t1,\t28,\t0,\t3282,\t500]]\n"
   ]
  },
  {
   "cell_type": "code",
   "execution_count": 6,
   "id": "5db9995d",
   "metadata": {},
   "outputs": [
    {
     "name": "stdout",
     "output_type": "stream",
     "text": [
      "['age', 'gender', 'miles', 'debt', 'income', 'sales']\n",
      "[[28, 0, 23, 0, 4099, 620], [26, 0, 27, 0, 2677, 1792], [30, 1, 58, 41576, 6215, 27754], [26, 1, 25, 43172, 7626, 28256], [20, 1, 17, 6979, 8071, 4438], [58, 1, 18, 0, 1262, 2102], [44, 1, 17, 418, 7017, 8520], [39, 1, 28, 0, 3282, 500]]\n"
     ]
    }
   ],
   "source": [
    "header = cars[0]\n",
    "rows = cars[1:]\n",
    "print(header)\n",
    "print(rows)"
   ]
  },
  {
   "cell_type": "code",
   "execution_count": 7,
   "id": "41448334",
   "metadata": {},
   "outputs": [
    {
     "name": "stdout",
     "output_type": "stream",
     "text": [
      "['age', 'gender', 'miles', 'debt', 'income', 'sales']\n",
      "[[28, 0, 23, 0, 4099, 620], [26, 0, 27, 0, 2677, 1792], [30, 1, 58, 41576, 6215, 27754], [26, 1, 25, 43172, 7626, 28256], [20, 1, 17, 6979, 8071, 4438], [58, 1, 18, 0, 1262, 2102], [44, 1, 17, 418, 7017, 8520], [39, 1, 28, 0, 3282, 500]]\n"
     ]
    }
   ],
   "source": [
    "header, *rows = cars\n",
    "print(header)\n",
    "print(rows)"
   ]
  },
  {
   "cell_type": "code",
   "execution_count": null,
   "id": "e709188b",
   "metadata": {},
   "outputs": [],
   "source": []
  }
 ],
 "metadata": {
  "kernelspec": {
   "display_name": "Python 3.9.6 64-bit",
   "language": "python",
   "name": "python3"
  },
  "language_info": {
   "codemirror_mode": {
    "name": "ipython",
    "version": 3
   },
   "file_extension": ".py",
   "mimetype": "text/x-python",
   "name": "python",
   "nbconvert_exporter": "python",
   "pygments_lexer": "ipython3",
   "version": "3.9.7"
  },
  "vscode": {
   "interpreter": {
    "hash": "4ed7c5303468c6f42560d32e811323012438a4f036415de2c7ac2fb5dad5e44a"
   }
  }
 },
 "nbformat": 4,
 "nbformat_minor": 5
}
